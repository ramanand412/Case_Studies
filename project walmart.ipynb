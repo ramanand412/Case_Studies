{
 "cells": [
  {
   "cell_type": "markdown",
   "id": "abc00d36",
   "metadata": {},
   "source": [
    "# PROJECT"
   ]
  },
  {
   "cell_type": "markdown",
   "id": "faf88a0c",
   "metadata": {},
   "source": [
    "### NAME : RAMANAND K"
   ]
  },
  {
   "cell_type": "markdown",
   "id": "909c56df",
   "metadata": {},
   "source": [
    "## Business Case: Walmart - Confidence Interval and CLT"
   ]
  },
  {
   "cell_type": "markdown",
   "id": "105c351d",
   "metadata": {},
   "source": [
    "## Business Problem\n",
    "#### The Management team at Walmart Inc. wants to analyze the customer purchase behavior (specifically, purchase amount) against the customer’s gender and the various other factors to help the business make better decisions. They want to understand if the spending habits differ between male and female customers: Do women spend more on Black Friday than men? (Assume 50 million customers are male and 50 million are female).\n"
   ]
  },
  {
   "cell_type": "markdown",
   "id": "9578d731",
   "metadata": {},
   "source": [
    "## Problem Statements"
   ]
  },
  {
   "cell_type": "markdown",
   "id": "d80e4412",
   "metadata": {},
   "source": [
    "- Which gender spend more money on purchase\n",
    "- Find amount spend per transaction from each gender\n",
    "- Which product is most purchased (product id)\n",
    "- Which product makes more money (product id)\n",
    "- Purchase of men and women from each city\n",
    "- Which age category spend more money and less money for purchase\n",
    "- Which age category spend highest/lowest amount per purchase\n",
    "- Which city spend more money on purchase\n",
    "- Which city amount spend per purchase is maximum/minimum\n",
    "- What is the total no of people involved for purchase from each city\n",
    "- Which gender purchase the most/least in each city\n",
    "- what happens to purchase when stay in city changes\n",
    "- Marital status has any effect on purchae\n",
    "- What amount of money spend 90% of people on each purchase\n",
    "- What amount of money spend 90% of male on each purchase\n",
    "- What amount of money spend 90% of female on each purchase\n",
    "- Is there any overlap between purchase amount of 90% of male and female\n",
    "- What amount of money spend 99% of male on each purchase\n",
    "- What amount of money spend 99% of female on each purchase\n",
    "- Is there any overlap between purchase amount of 90% of married and unmarried\n",
    "- What amount of money spend 90% of people in different age category\n",
    "- What is the probablity of purchase of different age category in each city\n"
   ]
  },
  {
   "cell_type": "code",
   "execution_count": 1,
   "id": "ec6cf0d0",
   "metadata": {},
   "outputs": [],
   "source": [
    "import pandas as pd\n",
    "import numpy as np\n",
    "import matplotlib.pyplot as plt\n",
    "import seaborn as sns"
   ]
  },
  {
   "cell_type": "code",
   "execution_count": 2,
   "id": "64b752b0",
   "metadata": {},
   "outputs": [
    {
     "data": {
      "text/html": [
       "<div>\n",
       "<style scoped>\n",
       "    .dataframe tbody tr th:only-of-type {\n",
       "        vertical-align: middle;\n",
       "    }\n",
       "\n",
       "    .dataframe tbody tr th {\n",
       "        vertical-align: top;\n",
       "    }\n",
       "\n",
       "    .dataframe thead th {\n",
       "        text-align: right;\n",
       "    }\n",
       "</style>\n",
       "<table border=\"1\" class=\"dataframe\">\n",
       "  <thead>\n",
       "    <tr style=\"text-align: right;\">\n",
       "      <th></th>\n",
       "      <th>User_ID</th>\n",
       "      <th>Product_ID</th>\n",
       "      <th>Gender</th>\n",
       "      <th>Age</th>\n",
       "      <th>Occupation</th>\n",
       "      <th>City_Category</th>\n",
       "      <th>Stay_In_Current_City_Years</th>\n",
       "      <th>Marital_Status</th>\n",
       "      <th>Product_Category</th>\n",
       "      <th>Purchase</th>\n",
       "    </tr>\n",
       "  </thead>\n",
       "  <tbody>\n",
       "    <tr>\n",
       "      <th>0</th>\n",
       "      <td>1000001</td>\n",
       "      <td>P00069042</td>\n",
       "      <td>F</td>\n",
       "      <td>0-17</td>\n",
       "      <td>10</td>\n",
       "      <td>A</td>\n",
       "      <td>2</td>\n",
       "      <td>0</td>\n",
       "      <td>3</td>\n",
       "      <td>8370</td>\n",
       "    </tr>\n",
       "    <tr>\n",
       "      <th>1</th>\n",
       "      <td>1000001</td>\n",
       "      <td>P00248942</td>\n",
       "      <td>F</td>\n",
       "      <td>0-17</td>\n",
       "      <td>10</td>\n",
       "      <td>A</td>\n",
       "      <td>2</td>\n",
       "      <td>0</td>\n",
       "      <td>1</td>\n",
       "      <td>15200</td>\n",
       "    </tr>\n",
       "    <tr>\n",
       "      <th>2</th>\n",
       "      <td>1000001</td>\n",
       "      <td>P00087842</td>\n",
       "      <td>F</td>\n",
       "      <td>0-17</td>\n",
       "      <td>10</td>\n",
       "      <td>A</td>\n",
       "      <td>2</td>\n",
       "      <td>0</td>\n",
       "      <td>12</td>\n",
       "      <td>1422</td>\n",
       "    </tr>\n",
       "    <tr>\n",
       "      <th>3</th>\n",
       "      <td>1000001</td>\n",
       "      <td>P00085442</td>\n",
       "      <td>F</td>\n",
       "      <td>0-17</td>\n",
       "      <td>10</td>\n",
       "      <td>A</td>\n",
       "      <td>2</td>\n",
       "      <td>0</td>\n",
       "      <td>12</td>\n",
       "      <td>1057</td>\n",
       "    </tr>\n",
       "    <tr>\n",
       "      <th>4</th>\n",
       "      <td>1000002</td>\n",
       "      <td>P00285442</td>\n",
       "      <td>M</td>\n",
       "      <td>55+</td>\n",
       "      <td>16</td>\n",
       "      <td>C</td>\n",
       "      <td>4+</td>\n",
       "      <td>0</td>\n",
       "      <td>8</td>\n",
       "      <td>7969</td>\n",
       "    </tr>\n",
       "    <tr>\n",
       "      <th>...</th>\n",
       "      <td>...</td>\n",
       "      <td>...</td>\n",
       "      <td>...</td>\n",
       "      <td>...</td>\n",
       "      <td>...</td>\n",
       "      <td>...</td>\n",
       "      <td>...</td>\n",
       "      <td>...</td>\n",
       "      <td>...</td>\n",
       "      <td>...</td>\n",
       "    </tr>\n",
       "    <tr>\n",
       "      <th>550063</th>\n",
       "      <td>1006033</td>\n",
       "      <td>P00372445</td>\n",
       "      <td>M</td>\n",
       "      <td>51-55</td>\n",
       "      <td>13</td>\n",
       "      <td>B</td>\n",
       "      <td>1</td>\n",
       "      <td>1</td>\n",
       "      <td>20</td>\n",
       "      <td>368</td>\n",
       "    </tr>\n",
       "    <tr>\n",
       "      <th>550064</th>\n",
       "      <td>1006035</td>\n",
       "      <td>P00375436</td>\n",
       "      <td>F</td>\n",
       "      <td>26-35</td>\n",
       "      <td>1</td>\n",
       "      <td>C</td>\n",
       "      <td>3</td>\n",
       "      <td>0</td>\n",
       "      <td>20</td>\n",
       "      <td>371</td>\n",
       "    </tr>\n",
       "    <tr>\n",
       "      <th>550065</th>\n",
       "      <td>1006036</td>\n",
       "      <td>P00375436</td>\n",
       "      <td>F</td>\n",
       "      <td>26-35</td>\n",
       "      <td>15</td>\n",
       "      <td>B</td>\n",
       "      <td>4+</td>\n",
       "      <td>1</td>\n",
       "      <td>20</td>\n",
       "      <td>137</td>\n",
       "    </tr>\n",
       "    <tr>\n",
       "      <th>550066</th>\n",
       "      <td>1006038</td>\n",
       "      <td>P00375436</td>\n",
       "      <td>F</td>\n",
       "      <td>55+</td>\n",
       "      <td>1</td>\n",
       "      <td>C</td>\n",
       "      <td>2</td>\n",
       "      <td>0</td>\n",
       "      <td>20</td>\n",
       "      <td>365</td>\n",
       "    </tr>\n",
       "    <tr>\n",
       "      <th>550067</th>\n",
       "      <td>1006039</td>\n",
       "      <td>P00371644</td>\n",
       "      <td>F</td>\n",
       "      <td>46-50</td>\n",
       "      <td>0</td>\n",
       "      <td>B</td>\n",
       "      <td>4+</td>\n",
       "      <td>1</td>\n",
       "      <td>20</td>\n",
       "      <td>490</td>\n",
       "    </tr>\n",
       "  </tbody>\n",
       "</table>\n",
       "<p>550068 rows × 10 columns</p>\n",
       "</div>"
      ],
      "text/plain": [
       "        User_ID Product_ID Gender    Age  Occupation City_Category  \\\n",
       "0       1000001  P00069042      F   0-17          10             A   \n",
       "1       1000001  P00248942      F   0-17          10             A   \n",
       "2       1000001  P00087842      F   0-17          10             A   \n",
       "3       1000001  P00085442      F   0-17          10             A   \n",
       "4       1000002  P00285442      M    55+          16             C   \n",
       "...         ...        ...    ...    ...         ...           ...   \n",
       "550063  1006033  P00372445      M  51-55          13             B   \n",
       "550064  1006035  P00375436      F  26-35           1             C   \n",
       "550065  1006036  P00375436      F  26-35          15             B   \n",
       "550066  1006038  P00375436      F    55+           1             C   \n",
       "550067  1006039  P00371644      F  46-50           0             B   \n",
       "\n",
       "       Stay_In_Current_City_Years  Marital_Status  Product_Category  Purchase  \n",
       "0                               2               0                 3      8370  \n",
       "1                               2               0                 1     15200  \n",
       "2                               2               0                12      1422  \n",
       "3                               2               0                12      1057  \n",
       "4                              4+               0                 8      7969  \n",
       "...                           ...             ...               ...       ...  \n",
       "550063                          1               1                20       368  \n",
       "550064                          3               0                20       371  \n",
       "550065                         4+               1                20       137  \n",
       "550066                          2               0                20       365  \n",
       "550067                         4+               1                20       490  \n",
       "\n",
       "[550068 rows x 10 columns]"
      ]
     },
     "execution_count": 2,
     "metadata": {},
     "output_type": "execute_result"
    }
   ],
   "source": [
    "df=pd.read_csv(\"walmart.csv\")\n",
    "df"
   ]
  },
  {
   "cell_type": "code",
   "execution_count": 3,
   "id": "0b5b3cea",
   "metadata": {},
   "outputs": [
    {
     "data": {
      "text/plain": [
       "(550068, 10)"
      ]
     },
     "execution_count": 3,
     "metadata": {},
     "output_type": "execute_result"
    }
   ],
   "source": [
    "#shape of the data\n",
    "df.shape"
   ]
  },
  {
   "cell_type": "code",
   "execution_count": 4,
   "id": "679661d3",
   "metadata": {},
   "outputs": [
    {
     "data": {
      "text/plain": [
       "User_ID                        int64\n",
       "Product_ID                    object\n",
       "Gender                        object\n",
       "Age                           object\n",
       "Occupation                     int64\n",
       "City_Category                 object\n",
       "Stay_In_Current_City_Years    object\n",
       "Marital_Status                 int64\n",
       "Product_Category               int64\n",
       "Purchase                       int64\n",
       "dtype: object"
      ]
     },
     "execution_count": 4,
     "metadata": {},
     "output_type": "execute_result"
    }
   ],
   "source": [
    "#Data types of each columns\n",
    "df.dtypes"
   ]
  },
  {
   "cell_type": "code",
   "execution_count": 5,
   "id": "53a61078",
   "metadata": {},
   "outputs": [
    {
     "data": {
      "text/plain": [
       "User_ID                       False\n",
       "Product_ID                    False\n",
       "Gender                        False\n",
       "Age                           False\n",
       "Occupation                    False\n",
       "City_Category                 False\n",
       "Stay_In_Current_City_Years    False\n",
       "Marital_Status                False\n",
       "Product_Category              False\n",
       "Purchase                      False\n",
       "dtype: bool"
      ]
     },
     "execution_count": 5,
     "metadata": {},
     "output_type": "execute_result"
    }
   ],
   "source": [
    "#finding any null values\n",
    "df.isna().any()"
   ]
  },
  {
   "cell_type": "code",
   "execution_count": 6,
   "id": "ca3fc625",
   "metadata": {},
   "outputs": [
    {
     "name": "stdout",
     "output_type": "stream",
     "text": [
      "User_ID [1000001 1000002 1000003 ... 1004113 1005391 1001529]\n",
      "Product_ID ['P00069042' 'P00248942' 'P00087842' ... 'P00370293' 'P00371644'\n",
      " 'P00370853']\n",
      "Gender ['F' 'M']\n",
      "Age ['0-17' '55+' '26-35' '46-50' '51-55' '36-45' '18-25']\n",
      "Occupation [10 16 15  7 20  9  1 12 17  0  3  4 11  8 19  2 18  5 14 13  6]\n",
      "City_Category ['A' 'C' 'B']\n",
      "Stay_In_Current_City_Years ['2' '4+' '3' '1' '0']\n",
      "Marital_Status [0 1]\n",
      "Product_Category [ 3  1 12  8  5  4  2  6 14 11 13 15  7 16 18 10 17  9 20 19]\n",
      "Purchase [ 8370 15200  1422 ...   135   123   613]\n"
     ]
    }
   ],
   "source": [
    "#unique values of each columns\n",
    "for i in df.columns:\n",
    "    print(i,df[i].unique())"
   ]
  },
  {
   "cell_type": "code",
   "execution_count": 7,
   "id": "d07e4483",
   "metadata": {},
   "outputs": [
    {
     "name": "stdout",
     "output_type": "stream",
     "text": [
      "User_ID 1001680    1026\n",
      "1004277     979\n",
      "1001941     898\n",
      "1001181     862\n",
      "1000889     823\n",
      "           ... \n",
      "1002690       7\n",
      "1002111       7\n",
      "1005810       7\n",
      "1004991       7\n",
      "1000708       6\n",
      "Name: User_ID, Length: 5891, dtype: int64\n",
      "Product_ID P00265242    1880\n",
      "P00025442    1615\n",
      "P00110742    1612\n",
      "P00112142    1562\n",
      "P00057642    1470\n",
      "             ... \n",
      "P00314842       1\n",
      "P00298842       1\n",
      "P00231642       1\n",
      "P00204442       1\n",
      "P00066342       1\n",
      "Name: Product_ID, Length: 3631, dtype: int64\n",
      "Gender M    414259\n",
      "F    135809\n",
      "Name: Gender, dtype: int64\n",
      "Age 26-35    219587\n",
      "36-45    110013\n",
      "18-25     99660\n",
      "46-50     45701\n",
      "51-55     38501\n",
      "55+       21504\n",
      "0-17      15102\n",
      "Name: Age, dtype: int64\n",
      "Occupation 4     72308\n",
      "0     69638\n",
      "7     59133\n",
      "1     47426\n",
      "17    40043\n",
      "20    33562\n",
      "12    31179\n",
      "14    27309\n",
      "2     26588\n",
      "16    25371\n",
      "6     20355\n",
      "3     17650\n",
      "10    12930\n",
      "5     12177\n",
      "15    12165\n",
      "11    11586\n",
      "19     8461\n",
      "13     7728\n",
      "18     6622\n",
      "9      6291\n",
      "8      1546\n",
      "Name: Occupation, dtype: int64\n",
      "City_Category B    231173\n",
      "C    171175\n",
      "A    147720\n",
      "Name: City_Category, dtype: int64\n",
      "Stay_In_Current_City_Years 1     193821\n",
      "2     101838\n",
      "3      95285\n",
      "4+     84726\n",
      "0      74398\n",
      "Name: Stay_In_Current_City_Years, dtype: int64\n",
      "Marital_Status 0    324731\n",
      "1    225337\n",
      "Name: Marital_Status, dtype: int64\n",
      "Product_Category 5     150933\n",
      "1     140378\n",
      "8     113925\n",
      "11     24287\n",
      "2      23864\n",
      "6      20466\n",
      "3      20213\n",
      "4      11753\n",
      "16      9828\n",
      "15      6290\n",
      "13      5549\n",
      "10      5125\n",
      "12      3947\n",
      "7       3721\n",
      "18      3125\n",
      "20      2550\n",
      "19      1603\n",
      "14      1523\n",
      "17       578\n",
      "9        410\n",
      "Name: Product_Category, dtype: int64\n",
      "Purchase 7011     191\n",
      "7193     188\n",
      "6855     187\n",
      "6891     184\n",
      "7012     183\n",
      "        ... \n",
      "23491      1\n",
      "18345      1\n",
      "3372       1\n",
      "855        1\n",
      "21489      1\n",
      "Name: Purchase, Length: 18105, dtype: int64\n"
     ]
    }
   ],
   "source": [
    "for i in df.columns:\n",
    "    print(i,df[i].value_counts())"
   ]
  },
  {
   "cell_type": "markdown",
   "id": "0dc825e4",
   "metadata": {},
   "source": [
    "## checking outlier values using Boxplot"
   ]
  },
  {
   "cell_type": "code",
   "execution_count": 8,
   "id": "3519443e",
   "metadata": {},
   "outputs": [
    {
     "name": "stderr",
     "output_type": "stream",
     "text": [
      "C:\\Users\\raman\\anaconda3\\lib\\site-packages\\seaborn\\_decorators.py:36: FutureWarning: Pass the following variable as a keyword arg: x. From version 0.12, the only valid positional argument will be `data`, and passing other arguments without an explicit keyword will result in an error or misinterpretation.\n",
      "  warnings.warn(\n"
     ]
    },
    {
     "data": {
      "text/plain": [
       "<AxesSubplot:xlabel='Occupation'>"
      ]
     },
     "execution_count": 8,
     "metadata": {},
     "output_type": "execute_result"
    },
    {
     "data": {
      "image/png": "[encoded data removed]",
      "text/plain": [
       "<Figure size 432x288 with 1 Axes>"
      ]
     },
     "metadata": {
      "needs_background": "light"
     },
     "output_type": "display_data"
    }
   ],
   "source": [
    "#checking outlier values in occupation\n",
    "sns.boxplot(df[\"Occupation\"])"
   ]
  },
  {
   "cell_type": "code",
   "execution_count": 9,
   "id": "bb2c2e84",
   "metadata": {},
   "outputs": [
    {
     "name": "stderr",
     "output_type": "stream",
     "text": [
      "C:\\Users\\raman\\anaconda3\\lib\\site-packages\\seaborn\\_decorators.py:36: FutureWarning: Pass the following variable as a keyword arg: x. From version 0.12, the only valid positional argument will be `data`, and passing other arguments without an explicit keyword will result in an error or misinterpretation.\n",
      "  warnings.warn(\n"
     ]
    },
    {
     "data": {
      "text/plain": [
       "<AxesSubplot:xlabel='Product_Category'>"
      ]
     },
     "execution_count": 9,
     "metadata": {},
     "output_type": "execute_result"
    },
    {
     "data": {
      "image/png": "[encoded data removed]",
      "text/plain": [
       "<Figure size 432x288 with 1 Axes>"
      ]
     },
     "metadata": {
      "needs_background": "light"
     },
     "output_type": "display_data"
    }
   ],
   "source": [
    "#checkig outlier values in product_category\n",
    "sns.boxplot(df[\"Product_Category\"])"
   ]
  },
  {
   "cell_type": "code",
   "execution_count": 10,
   "id": "a21fd2a8",
   "metadata": {},
   "outputs": [
    {
     "name": "stderr",
     "output_type": "stream",
     "text": [
      "C:\\Users\\raman\\anaconda3\\lib\\site-packages\\seaborn\\_decorators.py:36: FutureWarning: Pass the following variable as a keyword arg: x. From version 0.12, the only valid positional argument will be `data`, and passing other arguments without an explicit keyword will result in an error or misinterpretation.\n",
      "  warnings.warn(\n"
     ]
    },
    {
     "data": {
      "text/plain": [
       "<AxesSubplot:xlabel='Purchase'>"
      ]
     },
     "execution_count": 10,
     "metadata": {},
     "output_type": "execute_result"
    },
    {
     "data": {
      "image/png": "[encoded data removed]",
      "text/plain": [
       "<Figure size 432x288 with 1 Axes>"
      ]
     },
     "metadata": {
      "needs_background": "light"
     },
     "output_type": "display_data"
    }
   ],
   "source": [
    "#checking outlier values of purchase\n",
    "sns.boxplot(df[\"Purchase\"])"
   ]
  },
  {
   "cell_type": "code",
   "execution_count": 11,
   "id": "c8099849",
   "metadata": {},
   "outputs": [
    {
     "data": {
      "text/html": [
       "<div>\n",
       "<style scoped>\n",
       "    .dataframe tbody tr th:only-of-type {\n",
       "        vertical-align: middle;\n",
       "    }\n",
       "\n",
       "    .dataframe tbody tr th {\n",
       "        vertical-align: top;\n",
       "    }\n",
       "\n",
       "    .dataframe thead th {\n",
       "        text-align: right;\n",
       "    }\n",
       "</style>\n",
       "<table border=\"1\" class=\"dataframe\">\n",
       "  <thead>\n",
       "    <tr style=\"text-align: right;\">\n",
       "      <th></th>\n",
       "      <th>User_ID</th>\n",
       "      <th>Occupation</th>\n",
       "      <th>Marital_Status</th>\n",
       "      <th>Product_Category</th>\n",
       "      <th>Purchase</th>\n",
       "    </tr>\n",
       "  </thead>\n",
       "  <tbody>\n",
       "    <tr>\n",
       "      <th>count</th>\n",
       "      <td>5.500680e+05</td>\n",
       "      <td>550068.000000</td>\n",
       "      <td>550068.000000</td>\n",
       "      <td>550068.000000</td>\n",
       "      <td>550068.000000</td>\n",
       "    </tr>\n",
       "    <tr>\n",
       "      <th>mean</th>\n",
       "      <td>1.003029e+06</td>\n",
       "      <td>8.076707</td>\n",
       "      <td>0.409653</td>\n",
       "      <td>5.404270</td>\n",
       "      <td>9263.968713</td>\n",
       "    </tr>\n",
       "    <tr>\n",
       "      <th>std</th>\n",
       "      <td>1.727592e+03</td>\n",
       "      <td>6.522660</td>\n",
       "      <td>0.491770</td>\n",
       "      <td>3.936211</td>\n",
       "      <td>5023.065394</td>\n",
       "    </tr>\n",
       "    <tr>\n",
       "      <th>min</th>\n",
       "      <td>1.000001e+06</td>\n",
       "      <td>0.000000</td>\n",
       "      <td>0.000000</td>\n",
       "      <td>1.000000</td>\n",
       "      <td>12.000000</td>\n",
       "    </tr>\n",
       "    <tr>\n",
       "      <th>25%</th>\n",
       "      <td>1.001516e+06</td>\n",
       "      <td>2.000000</td>\n",
       "      <td>0.000000</td>\n",
       "      <td>1.000000</td>\n",
       "      <td>5823.000000</td>\n",
       "    </tr>\n",
       "    <tr>\n",
       "      <th>50%</th>\n",
       "      <td>1.003077e+06</td>\n",
       "      <td>7.000000</td>\n",
       "      <td>0.000000</td>\n",
       "      <td>5.000000</td>\n",
       "      <td>8047.000000</td>\n",
       "    </tr>\n",
       "    <tr>\n",
       "      <th>75%</th>\n",
       "      <td>1.004478e+06</td>\n",
       "      <td>14.000000</td>\n",
       "      <td>1.000000</td>\n",
       "      <td>8.000000</td>\n",
       "      <td>12054.000000</td>\n",
       "    </tr>\n",
       "    <tr>\n",
       "      <th>max</th>\n",
       "      <td>1.006040e+06</td>\n",
       "      <td>20.000000</td>\n",
       "      <td>1.000000</td>\n",
       "      <td>20.000000</td>\n",
       "      <td>23961.000000</td>\n",
       "    </tr>\n",
       "  </tbody>\n",
       "</table>\n",
       "</div>"
      ],
      "text/plain": [
       "            User_ID     Occupation  Marital_Status  Product_Category  \\\n",
       "count  5.500680e+05  550068.000000   550068.000000     550068.000000   \n",
       "mean   1.003029e+06       8.076707        0.409653          5.404270   \n",
       "std    1.727592e+03       6.522660        0.491770          3.936211   \n",
       "min    1.000001e+06       0.000000        0.000000          1.000000   \n",
       "25%    1.001516e+06       2.000000        0.000000          1.000000   \n",
       "50%    1.003077e+06       7.000000        0.000000          5.000000   \n",
       "75%    1.004478e+06      14.000000        1.000000          8.000000   \n",
       "max    1.006040e+06      20.000000        1.000000         20.000000   \n",
       "\n",
       "            Purchase  \n",
       "count  550068.000000  \n",
       "mean     9263.968713  \n",
       "std      5023.065394  \n",
       "min        12.000000  \n",
       "25%      5823.000000  \n",
       "50%      8047.000000  \n",
       "75%     12054.000000  \n",
       "max     23961.000000  "
      ]
     },
     "execution_count": 11,
     "metadata": {},
     "output_type": "execute_result"
    }
   ],
   "source": [
    "df.describe()"
   ]
  },
  {
   "cell_type": "code",
   "execution_count": 12,
   "id": "b584e0fc",
   "metadata": {},
   "outputs": [
    {
     "name": "stdout",
     "output_type": "stream",
     "text": [
      "median of Occupation = 7.0\n",
      "median of Marital_Status = 0.0\n",
      "median of Product_Category = 5.0\n",
      "median of Purchase = 8047.0\n"
     ]
    }
   ],
   "source": [
    "#finding median of each column\n",
    "ds=df[[\"Occupation\",\"Marital_Status\",\"Product_Category\",\"Purchase\"]]\n",
    "for i in ds.columns:\n",
    "    print(\"median of\",i,\"=\",ds[i].median())"
   ]
  },
  {
   "cell_type": "code",
   "execution_count": 13,
   "id": "259a61a2",
   "metadata": {},
   "outputs": [
    {
     "data": {
      "text/plain": [
       "12054.0"
      ]
     },
     "execution_count": 13,
     "metadata": {},
     "output_type": "execute_result"
    }
   ],
   "source": [
    "Purchase75=np.percentile(df[\"Purchase\"],75)\n",
    "Purchase75"
   ]
  },
  {
   "cell_type": "code",
   "execution_count": 14,
   "id": "a2c80274",
   "metadata": {},
   "outputs": [
    {
     "data": {
      "text/plain": [
       "5823.0"
      ]
     },
     "execution_count": 14,
     "metadata": {},
     "output_type": "execute_result"
    }
   ],
   "source": [
    "Purchase25=np.percentile(df[\"Purchase\"],25)\n",
    "Purchase25"
   ]
  },
  {
   "cell_type": "code",
   "execution_count": 15,
   "id": "0f208432",
   "metadata": {},
   "outputs": [
    {
     "data": {
      "text/plain": [
       "8047.0"
      ]
     },
     "execution_count": 15,
     "metadata": {},
     "output_type": "execute_result"
    }
   ],
   "source": [
    "Purchase50=np.percentile(df[\"Purchase\"],50)\n",
    "Purchase50"
   ]
  },
  {
   "cell_type": "code",
   "execution_count": 16,
   "id": "a4b4f94c",
   "metadata": {},
   "outputs": [
    {
     "data": {
      "text/plain": [
       "6231.0"
      ]
     },
     "execution_count": 16,
     "metadata": {},
     "output_type": "execute_result"
    }
   ],
   "source": [
    "IQR=Purchase75-Purchase25\n",
    "IQR"
   ]
  },
  {
   "cell_type": "code",
   "execution_count": 17,
   "id": "784ce44a",
   "metadata": {},
   "outputs": [
    {
     "data": {
      "text/plain": [
       "21400.5"
      ]
     },
     "execution_count": 17,
     "metadata": {},
     "output_type": "execute_result"
    }
   ],
   "source": [
    "upper=Purchase75+1.5*IQR\n",
    "upper"
   ]
  },
  {
   "cell_type": "code",
   "execution_count": 18,
   "id": "8f30f35d",
   "metadata": {},
   "outputs": [
    {
     "data": {
      "text/plain": [
       "-3523.5"
      ]
     },
     "execution_count": 18,
     "metadata": {},
     "output_type": "execute_result"
    }
   ],
   "source": [
    "lower=Purchase25-1.5*IQR\n",
    "lower"
   ]
  },
  {
   "cell_type": "code",
   "execution_count": 19,
   "id": "f9e58af0",
   "metadata": {},
   "outputs": [
    {
     "data": {
      "text/html": [
       "<div>\n",
       "<style scoped>\n",
       "    .dataframe tbody tr th:only-of-type {\n",
       "        vertical-align: middle;\n",
       "    }\n",
       "\n",
       "    .dataframe tbody tr th {\n",
       "        vertical-align: top;\n",
       "    }\n",
       "\n",
       "    .dataframe thead th {\n",
       "        text-align: right;\n",
       "    }\n",
       "</style>\n",
       "<table border=\"1\" class=\"dataframe\">\n",
       "  <thead>\n",
       "    <tr style=\"text-align: right;\">\n",
       "      <th></th>\n",
       "      <th>User_ID</th>\n",
       "      <th>Product_ID</th>\n",
       "      <th>Gender</th>\n",
       "      <th>Age</th>\n",
       "      <th>Occupation</th>\n",
       "      <th>City_Category</th>\n",
       "      <th>Stay_In_Current_City_Years</th>\n",
       "      <th>Marital_Status</th>\n",
       "      <th>Product_Category</th>\n",
       "      <th>Purchase</th>\n",
       "    </tr>\n",
       "  </thead>\n",
       "  <tbody>\n",
       "    <tr>\n",
       "      <th>343</th>\n",
       "      <td>1000058</td>\n",
       "      <td>P00117642</td>\n",
       "      <td>M</td>\n",
       "      <td>26-35</td>\n",
       "      <td>2</td>\n",
       "      <td>B</td>\n",
       "      <td>3</td>\n",
       "      <td>0</td>\n",
       "      <td>10</td>\n",
       "      <td>23603</td>\n",
       "    </tr>\n",
       "    <tr>\n",
       "      <th>375</th>\n",
       "      <td>1000062</td>\n",
       "      <td>P00119342</td>\n",
       "      <td>F</td>\n",
       "      <td>36-45</td>\n",
       "      <td>3</td>\n",
       "      <td>A</td>\n",
       "      <td>1</td>\n",
       "      <td>0</td>\n",
       "      <td>10</td>\n",
       "      <td>23792</td>\n",
       "    </tr>\n",
       "    <tr>\n",
       "      <th>652</th>\n",
       "      <td>1000126</td>\n",
       "      <td>P00087042</td>\n",
       "      <td>M</td>\n",
       "      <td>18-25</td>\n",
       "      <td>9</td>\n",
       "      <td>B</td>\n",
       "      <td>1</td>\n",
       "      <td>0</td>\n",
       "      <td>10</td>\n",
       "      <td>23233</td>\n",
       "    </tr>\n",
       "    <tr>\n",
       "      <th>736</th>\n",
       "      <td>1000139</td>\n",
       "      <td>P00159542</td>\n",
       "      <td>F</td>\n",
       "      <td>26-35</td>\n",
       "      <td>20</td>\n",
       "      <td>C</td>\n",
       "      <td>2</td>\n",
       "      <td>0</td>\n",
       "      <td>10</td>\n",
       "      <td>23595</td>\n",
       "    </tr>\n",
       "    <tr>\n",
       "      <th>1041</th>\n",
       "      <td>1000175</td>\n",
       "      <td>P00052842</td>\n",
       "      <td>F</td>\n",
       "      <td>26-35</td>\n",
       "      <td>2</td>\n",
       "      <td>B</td>\n",
       "      <td>1</td>\n",
       "      <td>0</td>\n",
       "      <td>10</td>\n",
       "      <td>23341</td>\n",
       "    </tr>\n",
       "    <tr>\n",
       "      <th>...</th>\n",
       "      <td>...</td>\n",
       "      <td>...</td>\n",
       "      <td>...</td>\n",
       "      <td>...</td>\n",
       "      <td>...</td>\n",
       "      <td>...</td>\n",
       "      <td>...</td>\n",
       "      <td>...</td>\n",
       "      <td>...</td>\n",
       "      <td>...</td>\n",
       "    </tr>\n",
       "    <tr>\n",
       "      <th>544488</th>\n",
       "      <td>1005815</td>\n",
       "      <td>P00116142</td>\n",
       "      <td>M</td>\n",
       "      <td>26-35</td>\n",
       "      <td>20</td>\n",
       "      <td>B</td>\n",
       "      <td>1</td>\n",
       "      <td>0</td>\n",
       "      <td>10</td>\n",
       "      <td>23753</td>\n",
       "    </tr>\n",
       "    <tr>\n",
       "      <th>544704</th>\n",
       "      <td>1005847</td>\n",
       "      <td>P00085342</td>\n",
       "      <td>F</td>\n",
       "      <td>18-25</td>\n",
       "      <td>4</td>\n",
       "      <td>B</td>\n",
       "      <td>2</td>\n",
       "      <td>0</td>\n",
       "      <td>10</td>\n",
       "      <td>23724</td>\n",
       "    </tr>\n",
       "    <tr>\n",
       "      <th>544743</th>\n",
       "      <td>1005852</td>\n",
       "      <td>P00202242</td>\n",
       "      <td>F</td>\n",
       "      <td>26-35</td>\n",
       "      <td>1</td>\n",
       "      <td>A</td>\n",
       "      <td>0</td>\n",
       "      <td>1</td>\n",
       "      <td>10</td>\n",
       "      <td>23529</td>\n",
       "    </tr>\n",
       "    <tr>\n",
       "      <th>545663</th>\n",
       "      <td>1006002</td>\n",
       "      <td>P00116142</td>\n",
       "      <td>M</td>\n",
       "      <td>51-55</td>\n",
       "      <td>0</td>\n",
       "      <td>C</td>\n",
       "      <td>1</td>\n",
       "      <td>1</td>\n",
       "      <td>10</td>\n",
       "      <td>23663</td>\n",
       "    </tr>\n",
       "    <tr>\n",
       "      <th>545787</th>\n",
       "      <td>1006018</td>\n",
       "      <td>P00052842</td>\n",
       "      <td>M</td>\n",
       "      <td>36-45</td>\n",
       "      <td>1</td>\n",
       "      <td>C</td>\n",
       "      <td>3</td>\n",
       "      <td>0</td>\n",
       "      <td>10</td>\n",
       "      <td>23496</td>\n",
       "    </tr>\n",
       "  </tbody>\n",
       "</table>\n",
       "<p>2677 rows × 10 columns</p>\n",
       "</div>"
      ],
      "text/plain": [
       "        User_ID Product_ID Gender    Age  Occupation City_Category  \\\n",
       "343     1000058  P00117642      M  26-35           2             B   \n",
       "375     1000062  P00119342      F  36-45           3             A   \n",
       "652     1000126  P00087042      M  18-25           9             B   \n",
       "736     1000139  P00159542      F  26-35          20             C   \n",
       "1041    1000175  P00052842      F  26-35           2             B   \n",
       "...         ...        ...    ...    ...         ...           ...   \n",
       "544488  1005815  P00116142      M  26-35          20             B   \n",
       "544704  1005847  P00085342      F  18-25           4             B   \n",
       "544743  1005852  P00202242      F  26-35           1             A   \n",
       "545663  1006002  P00116142      M  51-55           0             C   \n",
       "545787  1006018  P00052842      M  36-45           1             C   \n",
       "\n",
       "       Stay_In_Current_City_Years  Marital_Status  Product_Category  Purchase  \n",
       "343                             3               0                10     23603  \n",
       "375                             1               0                10     23792  \n",
       "652                             1               0                10     23233  \n",
       "736                             2               0                10     23595  \n",
       "1041                            1               0                10     23341  \n",
       "...                           ...             ...               ...       ...  \n",
       "544488                          1               0                10     23753  \n",
       "544704                          2               0                10     23724  \n",
       "544743                          0               1                10     23529  \n",
       "545663                          1               1                10     23663  \n",
       "545787                          3               0                10     23496  \n",
       "\n",
       "[2677 rows x 10 columns]"
      ]
     },
     "execution_count": 19,
     "metadata": {},
     "output_type": "execute_result"
    }
   ],
   "source": [
    "outlier=df.loc[(df.Purchase>upper)|(df.Purchase<lower)]\n",
    "outlier"
   ]
  },
  {
   "cell_type": "code",
   "execution_count": 20,
   "id": "a49b7415",
   "metadata": {},
   "outputs": [
    {
     "data": {
      "text/plain": [
       "2677"
      ]
     },
     "execution_count": 20,
     "metadata": {},
     "output_type": "execute_result"
    }
   ],
   "source": [
    "#Total no of outlier\n",
    "outlier.shape[0]"
   ]
  },
  {
   "cell_type": "code",
   "execution_count": 21,
   "id": "2cb19812",
   "metadata": {},
   "outputs": [
    {
     "data": {
      "text/html": [
       "<div>\n",
       "<style scoped>\n",
       "    .dataframe tbody tr th:only-of-type {\n",
       "        vertical-align: middle;\n",
       "    }\n",
       "\n",
       "    .dataframe tbody tr th {\n",
       "        vertical-align: top;\n",
       "    }\n",
       "\n",
       "    .dataframe thead th {\n",
       "        text-align: right;\n",
       "    }\n",
       "</style>\n",
       "<table border=\"1\" class=\"dataframe\">\n",
       "  <thead>\n",
       "    <tr style=\"text-align: right;\">\n",
       "      <th></th>\n",
       "      <th>User_ID</th>\n",
       "      <th>Product_ID</th>\n",
       "      <th>Gender</th>\n",
       "      <th>Age</th>\n",
       "      <th>Occupation</th>\n",
       "      <th>City_Category</th>\n",
       "      <th>Stay_In_Current_City_Years</th>\n",
       "      <th>Marital_Status</th>\n",
       "      <th>Product_Category</th>\n",
       "      <th>Purchase</th>\n",
       "    </tr>\n",
       "  </thead>\n",
       "  <tbody>\n",
       "    <tr>\n",
       "      <th>0</th>\n",
       "      <td>1000001</td>\n",
       "      <td>P00069042</td>\n",
       "      <td>F</td>\n",
       "      <td>0-17</td>\n",
       "      <td>10</td>\n",
       "      <td>A</td>\n",
       "      <td>2</td>\n",
       "      <td>0</td>\n",
       "      <td>3</td>\n",
       "      <td>8370</td>\n",
       "    </tr>\n",
       "    <tr>\n",
       "      <th>1</th>\n",
       "      <td>1000001</td>\n",
       "      <td>P00248942</td>\n",
       "      <td>F</td>\n",
       "      <td>0-17</td>\n",
       "      <td>10</td>\n",
       "      <td>A</td>\n",
       "      <td>2</td>\n",
       "      <td>0</td>\n",
       "      <td>1</td>\n",
       "      <td>15200</td>\n",
       "    </tr>\n",
       "    <tr>\n",
       "      <th>2</th>\n",
       "      <td>1000001</td>\n",
       "      <td>P00087842</td>\n",
       "      <td>F</td>\n",
       "      <td>0-17</td>\n",
       "      <td>10</td>\n",
       "      <td>A</td>\n",
       "      <td>2</td>\n",
       "      <td>0</td>\n",
       "      <td>12</td>\n",
       "      <td>1422</td>\n",
       "    </tr>\n",
       "    <tr>\n",
       "      <th>3</th>\n",
       "      <td>1000001</td>\n",
       "      <td>P00085442</td>\n",
       "      <td>F</td>\n",
       "      <td>0-17</td>\n",
       "      <td>10</td>\n",
       "      <td>A</td>\n",
       "      <td>2</td>\n",
       "      <td>0</td>\n",
       "      <td>12</td>\n",
       "      <td>1057</td>\n",
       "    </tr>\n",
       "    <tr>\n",
       "      <th>4</th>\n",
       "      <td>1000002</td>\n",
       "      <td>P00285442</td>\n",
       "      <td>M</td>\n",
       "      <td>55+</td>\n",
       "      <td>16</td>\n",
       "      <td>C</td>\n",
       "      <td>4+</td>\n",
       "      <td>0</td>\n",
       "      <td>8</td>\n",
       "      <td>7969</td>\n",
       "    </tr>\n",
       "    <tr>\n",
       "      <th>...</th>\n",
       "      <td>...</td>\n",
       "      <td>...</td>\n",
       "      <td>...</td>\n",
       "      <td>...</td>\n",
       "      <td>...</td>\n",
       "      <td>...</td>\n",
       "      <td>...</td>\n",
       "      <td>...</td>\n",
       "      <td>...</td>\n",
       "      <td>...</td>\n",
       "    </tr>\n",
       "    <tr>\n",
       "      <th>550063</th>\n",
       "      <td>1006033</td>\n",
       "      <td>P00372445</td>\n",
       "      <td>M</td>\n",
       "      <td>51-55</td>\n",
       "      <td>13</td>\n",
       "      <td>B</td>\n",
       "      <td>1</td>\n",
       "      <td>1</td>\n",
       "      <td>20</td>\n",
       "      <td>368</td>\n",
       "    </tr>\n",
       "    <tr>\n",
       "      <th>550064</th>\n",
       "      <td>1006035</td>\n",
       "      <td>P00375436</td>\n",
       "      <td>F</td>\n",
       "      <td>26-35</td>\n",
       "      <td>1</td>\n",
       "      <td>C</td>\n",
       "      <td>3</td>\n",
       "      <td>0</td>\n",
       "      <td>20</td>\n",
       "      <td>371</td>\n",
       "    </tr>\n",
       "    <tr>\n",
       "      <th>550065</th>\n",
       "      <td>1006036</td>\n",
       "      <td>P00375436</td>\n",
       "      <td>F</td>\n",
       "      <td>26-35</td>\n",
       "      <td>15</td>\n",
       "      <td>B</td>\n",
       "      <td>4+</td>\n",
       "      <td>1</td>\n",
       "      <td>20</td>\n",
       "      <td>137</td>\n",
       "    </tr>\n",
       "    <tr>\n",
       "      <th>550066</th>\n",
       "      <td>1006038</td>\n",
       "      <td>P00375436</td>\n",
       "      <td>F</td>\n",
       "      <td>55+</td>\n",
       "      <td>1</td>\n",
       "      <td>C</td>\n",
       "      <td>2</td>\n",
       "      <td>0</td>\n",
       "      <td>20</td>\n",
       "      <td>365</td>\n",
       "    </tr>\n",
       "    <tr>\n",
       "      <th>550067</th>\n",
       "      <td>1006039</td>\n",
       "      <td>P00371644</td>\n",
       "      <td>F</td>\n",
       "      <td>46-50</td>\n",
       "      <td>0</td>\n",
       "      <td>B</td>\n",
       "      <td>4+</td>\n",
       "      <td>1</td>\n",
       "      <td>20</td>\n",
       "      <td>490</td>\n",
       "    </tr>\n",
       "  </tbody>\n",
       "</table>\n",
       "<p>547391 rows × 10 columns</p>\n",
       "</div>"
      ],
      "text/plain": [
       "        User_ID Product_ID Gender    Age  Occupation City_Category  \\\n",
       "0       1000001  P00069042      F   0-17          10             A   \n",
       "1       1000001  P00248942      F   0-17          10             A   \n",
       "2       1000001  P00087842      F   0-17          10             A   \n",
       "3       1000001  P00085442      F   0-17          10             A   \n",
       "4       1000002  P00285442      M    55+          16             C   \n",
       "...         ...        ...    ...    ...         ...           ...   \n",
       "550063  1006033  P00372445      M  51-55          13             B   \n",
       "550064  1006035  P00375436      F  26-35           1             C   \n",
       "550065  1006036  P00375436      F  26-35          15             B   \n",
       "550066  1006038  P00375436      F    55+           1             C   \n",
       "550067  1006039  P00371644      F  46-50           0             B   \n",
       "\n",
       "       Stay_In_Current_City_Years  Marital_Status  Product_Category  Purchase  \n",
       "0                               2               0                 3      8370  \n",
       "1                               2               0                 1     15200  \n",
       "2                               2               0                12      1422  \n",
       "3                               2               0                12      1057  \n",
       "4                              4+               0                 8      7969  \n",
       "...                           ...             ...               ...       ...  \n",
       "550063                          1               1                20       368  \n",
       "550064                          3               0                20       371  \n",
       "550065                         4+               1                20       137  \n",
       "550066                          2               0                20       365  \n",
       "550067                         4+               1                20       490  \n",
       "\n",
       "[547391 rows x 10 columns]"
      ]
     },
     "execution_count": 21,
     "metadata": {},
     "output_type": "execute_result"
    }
   ],
   "source": [
    "#dataset by removing outlier\n",
    "df_new=df.loc[(df.Purchase<upper)&(df.Purchase>lower)]\n",
    "df_new"
   ]
  },
  {
   "cell_type": "markdown",
   "id": "9036ad73",
   "metadata": {},
   "source": [
    "## Total sum of purchase on the basis of gender"
   ]
  },
  {
   "cell_type": "code",
   "execution_count": 22,
   "id": "40a2d805",
   "metadata": {},
   "outputs": [
    {
     "data": {
      "text/html": [
       "<div>\n",
       "<style scoped>\n",
       "    .dataframe tbody tr th:only-of-type {\n",
       "        vertical-align: middle;\n",
       "    }\n",
       "\n",
       "    .dataframe tbody tr th {\n",
       "        vertical-align: top;\n",
       "    }\n",
       "\n",
       "    .dataframe thead th {\n",
       "        text-align: right;\n",
       "    }\n",
       "</style>\n",
       "<table border=\"1\" class=\"dataframe\">\n",
       "  <thead>\n",
       "    <tr style=\"text-align: right;\">\n",
       "      <th></th>\n",
       "      <th>Gender</th>\n",
       "      <th>Purchase</th>\n",
       "    </tr>\n",
       "  </thead>\n",
       "  <tbody>\n",
       "    <tr>\n",
       "      <th>0</th>\n",
       "      <td>F</td>\n",
       "      <td>1172499251</td>\n",
       "    </tr>\n",
       "    <tr>\n",
       "      <th>1</th>\n",
       "      <td>M</td>\n",
       "      <td>3861104315</td>\n",
       "    </tr>\n",
       "  </tbody>\n",
       "</table>\n",
       "</div>"
      ],
      "text/plain": [
       "  Gender    Purchase\n",
       "0      F  1172499251\n",
       "1      M  3861104315"
      ]
     },
     "execution_count": 22,
     "metadata": {},
     "output_type": "execute_result"
    }
   ],
   "source": [
    "df_new.groupby(\"Gender\")[\"Purchase\"].sum().to_frame().reset_index()"
   ]
  },
  {
   "cell_type": "code",
   "execution_count": 23,
   "id": "d95902e7",
   "metadata": {},
   "outputs": [
    {
     "data": {
      "text/plain": [
       "<AxesSubplot:ylabel='Purchase'>"
      ]
     },
     "execution_count": 23,
     "metadata": {},
     "output_type": "execute_result"
    },
    {
     "data": {
      "image/png": "[encoded data removed]",
      "text/plain": [
       "<Figure size 432x288 with 1 Axes>"
      ]
     },
     "metadata": {},
     "output_type": "display_data"
    }
   ],
   "source": [
    "df_new.groupby(\"Gender\")[\"Purchase\"].sum().plot(kind=\"pie\",autopct=\"%1.1f%%\")"
   ]
  },
  {
   "cell_type": "markdown",
   "id": "6a3f19cf",
   "metadata": {},
   "source": [
    "#### from the graph and table male involved in purchase is greater than female\n",
    "#### male contribute 2/3 of total revenue of the purchase"
   ]
  },
  {
   "cell_type": "markdown",
   "id": "68fc5899",
   "metadata": {},
   "source": [
    "## Amount spent per transaction of male and female"
   ]
  },
  {
   "cell_type": "code",
   "execution_count": 24,
   "id": "83850042",
   "metadata": {},
   "outputs": [
    {
     "data": {
      "text/html": [
       "<div>\n",
       "<style scoped>\n",
       "    .dataframe tbody tr th:only-of-type {\n",
       "        vertical-align: middle;\n",
       "    }\n",
       "\n",
       "    .dataframe tbody tr th {\n",
       "        vertical-align: top;\n",
       "    }\n",
       "\n",
       "    .dataframe thead th {\n",
       "        text-align: right;\n",
       "    }\n",
       "</style>\n",
       "<table border=\"1\" class=\"dataframe\">\n",
       "  <thead>\n",
       "    <tr style=\"text-align: right;\">\n",
       "      <th></th>\n",
       "      <th>Purchase</th>\n",
       "    </tr>\n",
       "    <tr>\n",
       "      <th>Gender</th>\n",
       "      <th></th>\n",
       "    </tr>\n",
       "  </thead>\n",
       "  <tbody>\n",
       "    <tr>\n",
       "      <th>F</th>\n",
       "      <td>8671.049039</td>\n",
       "    </tr>\n",
       "    <tr>\n",
       "      <th>M</th>\n",
       "      <td>9367.724355</td>\n",
       "    </tr>\n",
       "  </tbody>\n",
       "</table>\n",
       "</div>"
      ],
      "text/plain": [
       "           Purchase\n",
       "Gender             \n",
       "F       8671.049039\n",
       "M       9367.724355"
      ]
     },
     "execution_count": 24,
     "metadata": {},
     "output_type": "execute_result"
    }
   ],
   "source": [
    "df_new.groupby(\"Gender\")[\"Purchase\"].mean().to_frame()"
   ]
  },
  {
   "cell_type": "markdown",
   "id": "9073b543",
   "metadata": {},
   "source": [
    "## Percentage of amount spend per purchase of male and female"
   ]
  },
  {
   "cell_type": "code",
   "execution_count": 25,
   "id": "90ad5a20",
   "metadata": {},
   "outputs": [
    {
     "data": {
      "text/plain": [
       "<AxesSubplot:ylabel='Purchase'>"
      ]
     },
     "execution_count": 25,
     "metadata": {},
     "output_type": "execute_result"
    },
    {
     "data": {
      "image/png": "[encoded data removed]",
      "text/plain": [
       "<Figure size 432x288 with 1 Axes>"
      ]
     },
     "metadata": {},
     "output_type": "display_data"
    }
   ],
   "source": [
    "df_new.groupby(\"Gender\")[\"Purchase\"].mean().plot(kind=\"pie\",autopct=\"%1.1f%%\")"
   ]
  },
  {
   "cell_type": "markdown",
   "id": "3b47d518",
   "metadata": {},
   "source": [
    "#### Money spend per transaction in male is higher than female that means male spend more money than female for the purchase"
   ]
  },
  {
   "cell_type": "markdown",
   "id": "5b832be2",
   "metadata": {},
   "source": [
    "## Correlation of the data"
   ]
  },
  {
   "cell_type": "code",
   "execution_count": 26,
   "id": "44ea9744",
   "metadata": {},
   "outputs": [
    {
     "data": {
      "text/plain": [
       "<AxesSubplot:>"
      ]
     },
     "execution_count": 26,
     "metadata": {},
     "output_type": "execute_result"
    },
    {
     "data": {
      "image/png": "[encoded data removed]",
      "text/plain": [
       "<Figure size 432x288 with 2 Axes>"
      ]
     },
     "metadata": {
      "needs_background": "light"
     },
     "output_type": "display_data"
    }
   ],
   "source": [
    "sns.heatmap(df_new.corr())"
   ]
  },
  {
   "cell_type": "markdown",
   "id": "c891ea93",
   "metadata": {},
   "source": [
    "### Most purchased product"
   ]
  },
  {
   "cell_type": "code",
   "execution_count": 27,
   "id": "72a4889d",
   "metadata": {},
   "outputs": [
    {
     "data": {
      "text/html": [
       "<div>\n",
       "<style scoped>\n",
       "    .dataframe tbody tr th:only-of-type {\n",
       "        vertical-align: middle;\n",
       "    }\n",
       "\n",
       "    .dataframe tbody tr th {\n",
       "        vertical-align: top;\n",
       "    }\n",
       "\n",
       "    .dataframe thead th {\n",
       "        text-align: right;\n",
       "    }\n",
       "</style>\n",
       "<table border=\"1\" class=\"dataframe\">\n",
       "  <thead>\n",
       "    <tr style=\"text-align: right;\">\n",
       "      <th></th>\n",
       "      <th>index</th>\n",
       "      <th>Product_ID</th>\n",
       "    </tr>\n",
       "  </thead>\n",
       "  <tbody>\n",
       "    <tr>\n",
       "      <th>0</th>\n",
       "      <td>P00265242</td>\n",
       "      <td>1880</td>\n",
       "    </tr>\n",
       "    <tr>\n",
       "      <th>1</th>\n",
       "      <td>P00025442</td>\n",
       "      <td>1615</td>\n",
       "    </tr>\n",
       "    <tr>\n",
       "      <th>2</th>\n",
       "      <td>P00110742</td>\n",
       "      <td>1612</td>\n",
       "    </tr>\n",
       "    <tr>\n",
       "      <th>3</th>\n",
       "      <td>P00112142</td>\n",
       "      <td>1562</td>\n",
       "    </tr>\n",
       "    <tr>\n",
       "      <th>4</th>\n",
       "      <td>P00057642</td>\n",
       "      <td>1470</td>\n",
       "    </tr>\n",
       "    <tr>\n",
       "      <th>5</th>\n",
       "      <td>P00184942</td>\n",
       "      <td>1440</td>\n",
       "    </tr>\n",
       "    <tr>\n",
       "      <th>6</th>\n",
       "      <td>P00046742</td>\n",
       "      <td>1438</td>\n",
       "    </tr>\n",
       "    <tr>\n",
       "      <th>7</th>\n",
       "      <td>P00058042</td>\n",
       "      <td>1422</td>\n",
       "    </tr>\n",
       "    <tr>\n",
       "      <th>8</th>\n",
       "      <td>P00059442</td>\n",
       "      <td>1406</td>\n",
       "    </tr>\n",
       "    <tr>\n",
       "      <th>9</th>\n",
       "      <td>P00145042</td>\n",
       "      <td>1406</td>\n",
       "    </tr>\n",
       "  </tbody>\n",
       "</table>\n",
       "</div>"
      ],
      "text/plain": [
       "       index  Product_ID\n",
       "0  P00265242        1880\n",
       "1  P00025442        1615\n",
       "2  P00110742        1612\n",
       "3  P00112142        1562\n",
       "4  P00057642        1470\n",
       "5  P00184942        1440\n",
       "6  P00046742        1438\n",
       "7  P00058042        1422\n",
       "8  P00059442        1406\n",
       "9  P00145042        1406"
      ]
     },
     "execution_count": 27,
     "metadata": {},
     "output_type": "execute_result"
    }
   ],
   "source": [
    "product=df_new.Product_ID.value_counts().to_frame().reset_index()[:10]\n",
    "product"
   ]
  },
  {
   "cell_type": "markdown",
   "id": "cbcd4fea",
   "metadata": {},
   "source": [
    "#### Product_ID - P00265242 is the most purchased product"
   ]
  },
  {
   "cell_type": "markdown",
   "id": "daf3394d",
   "metadata": {},
   "source": [
    "## Which product makes more money"
   ]
  },
  {
   "cell_type": "code",
   "execution_count": 28,
   "id": "fd68ad07",
   "metadata": {},
   "outputs": [],
   "source": [
    "product_sum=df_new.groupby(\"Product_ID\")[\"Purchase\"].sum().to_frame().reset_index()\n",
    "product_sum.columns=[\"Product_ID\",\"Total_amount\"]\n",
    "product_sum=product_sum.sort_values(\"Total_amount\",ascending=False)[:10]"
   ]
  },
  {
   "cell_type": "code",
   "execution_count": 29,
   "id": "9b3e06f8",
   "metadata": {},
   "outputs": [
    {
     "data": {
      "image/png": "[encoded data removed]",
      "text/plain": [
       "<Figure size 432x288 with 1 Axes>"
      ]
     },
     "metadata": {
      "needs_background": "light"
     },
     "output_type": "display_data"
    }
   ],
   "source": [
    "sns.barplot(data=product_sum,x=\"Product_ID\",y=\"Total_amount\")\n",
    "plt.xticks(rotation=90)\n",
    "plt.show()"
   ]
  },
  {
   "cell_type": "markdown",
   "id": "d3043dde",
   "metadata": {},
   "source": [
    "## Men and Women from each city"
   ]
  },
  {
   "cell_type": "code",
   "execution_count": 30,
   "id": "8d40ed99",
   "metadata": {},
   "outputs": [
    {
     "data": {
      "text/html": [
       "<div>\n",
       "<style scoped>\n",
       "    .dataframe tbody tr th:only-of-type {\n",
       "        vertical-align: middle;\n",
       "    }\n",
       "\n",
       "    .dataframe tbody tr th {\n",
       "        vertical-align: top;\n",
       "    }\n",
       "\n",
       "    .dataframe thead th {\n",
       "        text-align: right;\n",
       "    }\n",
       "</style>\n",
       "<table border=\"1\" class=\"dataframe\">\n",
       "  <thead>\n",
       "    <tr style=\"text-align: right;\">\n",
       "      <th>Gender</th>\n",
       "      <th>F</th>\n",
       "      <th>M</th>\n",
       "    </tr>\n",
       "    <tr>\n",
       "      <th>City_Category</th>\n",
       "      <th></th>\n",
       "      <th></th>\n",
       "    </tr>\n",
       "  </thead>\n",
       "  <tbody>\n",
       "    <tr>\n",
       "      <th>A</th>\n",
       "      <td>35552</td>\n",
       "      <td>111484</td>\n",
       "    </tr>\n",
       "    <tr>\n",
       "      <th>B</th>\n",
       "      <td>57572</td>\n",
       "      <td>172542</td>\n",
       "    </tr>\n",
       "    <tr>\n",
       "      <th>C</th>\n",
       "      <td>42096</td>\n",
       "      <td>128145</td>\n",
       "    </tr>\n",
       "  </tbody>\n",
       "</table>\n",
       "</div>"
      ],
      "text/plain": [
       "Gender             F       M\n",
       "City_Category               \n",
       "A              35552  111484\n",
       "B              57572  172542\n",
       "C              42096  128145"
      ]
     },
     "execution_count": 30,
     "metadata": {},
     "output_type": "execute_result"
    }
   ],
   "source": [
    "pd.crosstab(df_new.City_Category,df_new.Gender)"
   ]
  },
  {
   "cell_type": "code",
   "execution_count": 31,
   "id": "abc43f49",
   "metadata": {},
   "outputs": [
    {
     "data": {
      "text/plain": [
       "<AxesSubplot:xlabel='City_Category'>"
      ]
     },
     "execution_count": 31,
     "metadata": {},
     "output_type": "execute_result"
    },
    {
     "data": {
      "image/png": "[encoded data removed]",
      "text/plain": [
       "<Figure size 432x288 with 1 Axes>"
      ]
     },
     "metadata": {
      "needs_background": "light"
     },
     "output_type": "display_data"
    }
   ],
   "source": [
    "pd.crosstab(df_new.City_Category,df_new.Gender).plot(kind=\"bar\")"
   ]
  },
  {
   "cell_type": "markdown",
   "id": "2388f00f",
   "metadata": {},
   "source": [
    "#### In every city no of male is very higher than female"
   ]
  },
  {
   "cell_type": "markdown",
   "id": "042c4f12",
   "metadata": {},
   "source": [
    "## Purchase based on Age"
   ]
  },
  {
   "cell_type": "code",
   "execution_count": 32,
   "id": "e0527872",
   "metadata": {},
   "outputs": [
    {
     "data": {
      "text/html": [
       "<div>\n",
       "<style scoped>\n",
       "    .dataframe tbody tr th:only-of-type {\n",
       "        vertical-align: middle;\n",
       "    }\n",
       "\n",
       "    .dataframe tbody tr th {\n",
       "        vertical-align: top;\n",
       "    }\n",
       "\n",
       "    .dataframe thead th {\n",
       "        text-align: right;\n",
       "    }\n",
       "</style>\n",
       "<table border=\"1\" class=\"dataframe\">\n",
       "  <thead>\n",
       "    <tr style=\"text-align: right;\">\n",
       "      <th></th>\n",
       "      <th>Age</th>\n",
       "      <th>sum of purchase</th>\n",
       "      <th>no of purchase</th>\n",
       "      <th>avg</th>\n",
       "    </tr>\n",
       "  </thead>\n",
       "  <tbody>\n",
       "    <tr>\n",
       "      <th>0</th>\n",
       "      <td>0-17</td>\n",
       "      <td>133295464</td>\n",
       "      <td>15032</td>\n",
       "      <td>8867.447046</td>\n",
       "    </tr>\n",
       "    <tr>\n",
       "      <th>1</th>\n",
       "      <td>18-25</td>\n",
       "      <td>906326568</td>\n",
       "      <td>99334</td>\n",
       "      <td>9124.031731</td>\n",
       "    </tr>\n",
       "    <tr>\n",
       "      <th>2</th>\n",
       "      <td>26-35</td>\n",
       "      <td>2010253327</td>\n",
       "      <td>218661</td>\n",
       "      <td>9193.469924</td>\n",
       "    </tr>\n",
       "    <tr>\n",
       "      <th>3</th>\n",
       "      <td>36-45</td>\n",
       "      <td>1012493010</td>\n",
       "      <td>109409</td>\n",
       "      <td>9254.202214</td>\n",
       "    </tr>\n",
       "    <tr>\n",
       "      <th>4</th>\n",
       "      <td>46-50</td>\n",
       "      <td>414839340</td>\n",
       "      <td>45442</td>\n",
       "      <td>9128.985080</td>\n",
       "    </tr>\n",
       "    <tr>\n",
       "      <th>5</th>\n",
       "      <td>51-55</td>\n",
       "      <td>359878441</td>\n",
       "      <td>38191</td>\n",
       "      <td>9423.121704</td>\n",
       "    </tr>\n",
       "    <tr>\n",
       "      <th>6</th>\n",
       "      <td>55+</td>\n",
       "      <td>196517416</td>\n",
       "      <td>21322</td>\n",
       "      <td>9216.650220</td>\n",
       "    </tr>\n",
       "  </tbody>\n",
       "</table>\n",
       "</div>"
      ],
      "text/plain": [
       "     Age  sum of purchase  no of purchase          avg\n",
       "0   0-17        133295464           15032  8867.447046\n",
       "1  18-25        906326568           99334  9124.031731\n",
       "2  26-35       2010253327          218661  9193.469924\n",
       "3  36-45       1012493010          109409  9254.202214\n",
       "4  46-50        414839340           45442  9128.985080\n",
       "5  51-55        359878441           38191  9423.121704\n",
       "6    55+        196517416           21322  9216.650220"
      ]
     },
     "execution_count": 32,
     "metadata": {},
     "output_type": "execute_result"
    }
   ],
   "source": [
    "age_purchase=df_new.groupby(\"Age\").aggregate({\"Purchase\":[\"sum\",\"count\",\"mean\"]}).reset_index()\n",
    "age_purchase.columns=[\"Age\",\"sum of purchase\",\"no of purchase\",\"avg\"]\n",
    "age_purchase"
   ]
  },
  {
   "cell_type": "markdown",
   "id": "4ba3ff2c",
   "metadata": {},
   "source": [
    "#### Age category 26-35 spend more money for the purchase \n",
    "#### Age category 26-35 has more no of purchases\n",
    "#### Amount spend per purchase is greater in age 51-55 and lesser in age 0-17"
   ]
  },
  {
   "cell_type": "code",
   "execution_count": 33,
   "id": "ec393ae8",
   "metadata": {},
   "outputs": [
    {
     "data": {
      "text/plain": [
       "<AxesSubplot:xlabel='sum of purchase', ylabel='no of purchase'>"
      ]
     },
     "execution_count": 33,
     "metadata": {},
     "output_type": "execute_result"
    },
    {
     "data": {
      "image/png": "[encoded data removed]",
      "text/plain": [
       "<Figure size 432x288 with 1 Axes>"
      ]
     },
     "metadata": {
      "needs_background": "light"
     },
     "output_type": "display_data"
    }
   ],
   "source": [
    "sns.lineplot(data=age_purchase,x=\"sum of purchase\",y=\"no of purchase\")"
   ]
  },
  {
   "cell_type": "markdown",
   "id": "425374d3",
   "metadata": {},
   "source": [
    "## Purchase based on city"
   ]
  },
  {
   "cell_type": "code",
   "execution_count": 34,
   "id": "00164c86",
   "metadata": {},
   "outputs": [
    {
     "data": {
      "text/html": [
       "<div>\n",
       "<style scoped>\n",
       "    .dataframe tbody tr th:only-of-type {\n",
       "        vertical-align: middle;\n",
       "    }\n",
       "\n",
       "    .dataframe tbody tr th {\n",
       "        vertical-align: top;\n",
       "    }\n",
       "\n",
       "    .dataframe thead th {\n",
       "        text-align: right;\n",
       "    }\n",
       "</style>\n",
       "<table border=\"1\" class=\"dataframe\">\n",
       "  <thead>\n",
       "    <tr style=\"text-align: right;\">\n",
       "      <th></th>\n",
       "      <th>city</th>\n",
       "      <th>Purchase_sum</th>\n",
       "      <th>Purchase per person</th>\n",
       "    </tr>\n",
       "  </thead>\n",
       "  <tbody>\n",
       "    <tr>\n",
       "      <th>0</th>\n",
       "      <td>A</td>\n",
       "      <td>1300587440</td>\n",
       "      <td>8845.367393</td>\n",
       "    </tr>\n",
       "    <tr>\n",
       "      <th>1</th>\n",
       "      <td>B</td>\n",
       "      <td>2090931484</td>\n",
       "      <td>9086.502707</td>\n",
       "    </tr>\n",
       "    <tr>\n",
       "      <th>2</th>\n",
       "      <td>C</td>\n",
       "      <td>1642084642</td>\n",
       "      <td>9645.647300</td>\n",
       "    </tr>\n",
       "  </tbody>\n",
       "</table>\n",
       "</div>"
      ],
      "text/plain": [
       "  city  Purchase_sum  Purchase per person\n",
       "0    A    1300587440          8845.367393\n",
       "1    B    2090931484          9086.502707\n",
       "2    C    1642084642          9645.647300"
      ]
     },
     "execution_count": 34,
     "metadata": {},
     "output_type": "execute_result"
    }
   ],
   "source": [
    "city_purchase=df_new.groupby(\"City_Category\").aggregate({\"Purchase\":[\"sum\",\"mean\"]}).reset_index()\n",
    "city_purchase.columns=[\"city\",\"Purchase_sum\",\"Purchase per person\"]\n",
    "city_purchase"
   ]
  },
  {
   "cell_type": "markdown",
   "id": "7be339a8",
   "metadata": {},
   "source": [
    "## City gets more Income"
   ]
  },
  {
   "cell_type": "code",
   "execution_count": 35,
   "id": "b54876cd",
   "metadata": {},
   "outputs": [
    {
     "data": {
      "text/plain": [
       "<AxesSubplot:xlabel='city', ylabel='Purchase_sum'>"
      ]
     },
     "execution_count": 35,
     "metadata": {},
     "output_type": "execute_result"
    },
    {
     "data": {
      "image/png": "[encoded data removed]",
      "text/plain": [
       "<Figure size 432x288 with 1 Axes>"
      ]
     },
     "metadata": {
      "needs_background": "light"
     },
     "output_type": "display_data"
    }
   ],
   "source": [
    "sns.barplot(data=city_purchase,x=\"city\",y=\"Purchase_sum\")"
   ]
  },
  {
   "cell_type": "markdown",
   "id": "dbcfbbf6",
   "metadata": {},
   "source": [
    "### Amount spend per purchase in city"
   ]
  },
  {
   "cell_type": "code",
   "execution_count": 36,
   "id": "87342d32",
   "metadata": {},
   "outputs": [
    {
     "data": {
      "text/plain": [
       "<AxesSubplot:xlabel='city', ylabel='Purchase per person'>"
      ]
     },
     "execution_count": 36,
     "metadata": {},
     "output_type": "execute_result"
    },
    {
     "data": {
      "image/png": "[encoded data removed]",
      "text/plain": [
       "<Figure size 432x288 with 1 Axes>"
      ]
     },
     "metadata": {
      "needs_background": "light"
     },
     "output_type": "display_data"
    }
   ],
   "source": [
    "sns.barplot(data=city_purchase,x=\"city\",y=\"Purchase per person\")"
   ]
  },
  {
   "cell_type": "markdown",
   "id": "2d43d33f",
   "metadata": {},
   "source": [
    "#### City B gets more income\n",
    "#### Amount spend per purchase is greater in city C"
   ]
  },
  {
   "cell_type": "markdown",
   "id": "46f4697c",
   "metadata": {},
   "source": [
    "## Total no of people involved for purchase from each city"
   ]
  },
  {
   "cell_type": "code",
   "execution_count": 37,
   "id": "d5fa98d4",
   "metadata": {},
   "outputs": [
    {
     "data": {
      "text/html": [
       "<div>\n",
       "<style scoped>\n",
       "    .dataframe tbody tr th:only-of-type {\n",
       "        vertical-align: middle;\n",
       "    }\n",
       "\n",
       "    .dataframe tbody tr th {\n",
       "        vertical-align: top;\n",
       "    }\n",
       "\n",
       "    .dataframe thead th {\n",
       "        text-align: right;\n",
       "    }\n",
       "</style>\n",
       "<table border=\"1\" class=\"dataframe\">\n",
       "  <thead>\n",
       "    <tr style=\"text-align: right;\">\n",
       "      <th></th>\n",
       "      <th>City</th>\n",
       "      <th>unique person purchased</th>\n",
       "    </tr>\n",
       "  </thead>\n",
       "  <tbody>\n",
       "    <tr>\n",
       "      <th>0</th>\n",
       "      <td>A</td>\n",
       "      <td>1045</td>\n",
       "    </tr>\n",
       "    <tr>\n",
       "      <th>1</th>\n",
       "      <td>B</td>\n",
       "      <td>1707</td>\n",
       "    </tr>\n",
       "    <tr>\n",
       "      <th>2</th>\n",
       "      <td>C</td>\n",
       "      <td>3139</td>\n",
       "    </tr>\n",
       "  </tbody>\n",
       "</table>\n",
       "</div>"
      ],
      "text/plain": [
       "  City  unique person purchased\n",
       "0    A                     1045\n",
       "1    B                     1707\n",
       "2    C                     3139"
      ]
     },
     "execution_count": 37,
     "metadata": {},
     "output_type": "execute_result"
    }
   ],
   "source": [
    "num=df_new.groupby(\"City_Category\")[\"User_ID\"].nunique().to_frame().reset_index()\n",
    "num.columns=[\"City\",\"unique person purchased\"]\n",
    "num"
   ]
  },
  {
   "cell_type": "code",
   "execution_count": 38,
   "id": "03b17f15",
   "metadata": {},
   "outputs": [
    {
     "data": {
      "text/plain": [
       "<AxesSubplot:xlabel='City', ylabel='unique person purchased'>"
      ]
     },
     "execution_count": 38,
     "metadata": {},
     "output_type": "execute_result"
    },
    {
     "data": {
      "image/png": "[encoded data removed]",
      "text/plain": [
       "<Figure size 432x288 with 1 Axes>"
      ]
     },
     "metadata": {
      "needs_background": "light"
     },
     "output_type": "display_data"
    }
   ],
   "source": [
    "sns.barplot(data=num,x=\"City\",y=\"unique person purchased\")"
   ]
  },
  {
   "cell_type": "markdown",
   "id": "4c50e2cc",
   "metadata": {},
   "source": [
    "#### City C has most no of unique  people involved in purchase followed by B and A"
   ]
  },
  {
   "cell_type": "markdown",
   "id": "3b15c379",
   "metadata": {},
   "source": [
    "## No of product stocked based on city"
   ]
  },
  {
   "cell_type": "code",
   "execution_count": 39,
   "id": "1afc4646",
   "metadata": {},
   "outputs": [
    {
     "data": {
      "text/html": [
       "<div>\n",
       "<style scoped>\n",
       "    .dataframe tbody tr th:only-of-type {\n",
       "        vertical-align: middle;\n",
       "    }\n",
       "\n",
       "    .dataframe tbody tr th {\n",
       "        vertical-align: top;\n",
       "    }\n",
       "\n",
       "    .dataframe thead th {\n",
       "        text-align: right;\n",
       "    }\n",
       "</style>\n",
       "<table border=\"1\" class=\"dataframe\">\n",
       "  <thead>\n",
       "    <tr style=\"text-align: right;\">\n",
       "      <th></th>\n",
       "      <th>City_Category</th>\n",
       "      <th>no_of_product</th>\n",
       "    </tr>\n",
       "  </thead>\n",
       "  <tbody>\n",
       "    <tr>\n",
       "      <th>0</th>\n",
       "      <td>A</td>\n",
       "      <td>3477</td>\n",
       "    </tr>\n",
       "    <tr>\n",
       "      <th>1</th>\n",
       "      <td>B</td>\n",
       "      <td>3452</td>\n",
       "    </tr>\n",
       "    <tr>\n",
       "      <th>2</th>\n",
       "      <td>C</td>\n",
       "      <td>3392</td>\n",
       "    </tr>\n",
       "  </tbody>\n",
       "</table>\n",
       "</div>"
      ],
      "text/plain": [
       "  City_Category  no_of_product\n",
       "0             A           3477\n",
       "1             B           3452\n",
       "2             C           3392"
      ]
     },
     "execution_count": 39,
     "metadata": {},
     "output_type": "execute_result"
    }
   ],
   "source": [
    "stock=df_new.groupby(\"City_Category\")[\"Product_ID\"].nunique().to_frame(\"no_of_product\").reset_index()\n",
    "stock"
   ]
  },
  {
   "cell_type": "code",
   "execution_count": 40,
   "id": "9d6e221e",
   "metadata": {},
   "outputs": [
    {
     "data": {
      "text/plain": [
       "([<matplotlib.patches.Wedge at 0x1876ec3c2e0>,\n",
       "  <matplotlib.patches.Wedge at 0x1876ec3cb80>,\n",
       "  <matplotlib.patches.Wedge at 0x1876ec2c280>],\n",
       " [Text(0.5393337779890761, 0.9587069812617566, 'A'),\n",
       "  Text(-1.099631843716175, -0.02845713065939211, 'B'),\n",
       "  Text(0.5639551331803406, -0.9444334850901596, 'C')],\n",
       " [Text(0.2941820607213142, 0.5229310806882308, '33.7%'),\n",
       "  Text(-0.5997991874815499, -0.015522071268759331, '33.4%'),\n",
       "  Text(0.3076118908256403, -0.5151455373219052, '32.9%')])"
      ]
     },
     "execution_count": 40,
     "metadata": {},
     "output_type": "execute_result"
    },
    {
     "data": {
      "image/png": "[encoded data removed]",
      "text/plain": [
       "<Figure size 432x288 with 1 Axes>"
      ]
     },
     "metadata": {},
     "output_type": "display_data"
    }
   ],
   "source": [
    "label=[\"A\",\"B\",\"C\"]\n",
    "plt.pie(data=stock,x=\"no_of_product\",labels=label,autopct=\"%1.1f%%\")"
   ]
  },
  {
   "cell_type": "markdown",
   "id": "31381ad0",
   "metadata": {},
   "source": [
    "#### No of product stocked   A>B>C"
   ]
  },
  {
   "cell_type": "markdown",
   "id": "43c156ad",
   "metadata": {},
   "source": [
    "## Purchase in each city based on Gender"
   ]
  },
  {
   "cell_type": "code",
   "execution_count": 41,
   "id": "84b91672",
   "metadata": {},
   "outputs": [
    {
     "data": {
      "text/plain": [
       "<AxesSubplot:xlabel='City_Category', ylabel='Purchase'>"
      ]
     },
     "execution_count": 41,
     "metadata": {},
     "output_type": "execute_result"
    },
    {
     "data": {
      "image/png": "[encoded data removed]",
      "text/plain": [
       "<Figure size 432x288 with 1 Axes>"
      ]
     },
     "metadata": {
      "needs_background": "light"
     },
     "output_type": "display_data"
    }
   ],
   "source": [
    "sns.barplot(data=df_new,x=\"City_Category\",y=\"Purchase\",hue=\"Gender\")"
   ]
  },
  {
   "cell_type": "markdown",
   "id": "586c4ecc",
   "metadata": {},
   "source": [
    "#### In each city no of male purchaser greater than no of female purchaser"
   ]
  },
  {
   "cell_type": "markdown",
   "id": "be6646f1",
   "metadata": {},
   "source": [
    "## Purchase based on stay in the city"
   ]
  },
  {
   "cell_type": "code",
   "execution_count": 42,
   "id": "3348bcd5",
   "metadata": {},
   "outputs": [
    {
     "data": {
      "text/html": [
       "<div>\n",
       "<style scoped>\n",
       "    .dataframe tbody tr th:only-of-type {\n",
       "        vertical-align: middle;\n",
       "    }\n",
       "\n",
       "    .dataframe tbody tr th {\n",
       "        vertical-align: top;\n",
       "    }\n",
       "\n",
       "    .dataframe thead th {\n",
       "        text-align: right;\n",
       "    }\n",
       "</style>\n",
       "<table border=\"1\" class=\"dataframe\">\n",
       "  <thead>\n",
       "    <tr style=\"text-align: right;\">\n",
       "      <th></th>\n",
       "      <th>Stay_In_Current_City_Years</th>\n",
       "      <th>Purchase</th>\n",
       "    </tr>\n",
       "  </thead>\n",
       "  <tbody>\n",
       "    <tr>\n",
       "      <th>0</th>\n",
       "      <td>0</td>\n",
       "      <td>74036</td>\n",
       "    </tr>\n",
       "    <tr>\n",
       "      <th>1</th>\n",
       "      <td>1</td>\n",
       "      <td>192845</td>\n",
       "    </tr>\n",
       "    <tr>\n",
       "      <th>2</th>\n",
       "      <td>2</td>\n",
       "      <td>101384</td>\n",
       "    </tr>\n",
       "    <tr>\n",
       "      <th>3</th>\n",
       "      <td>3</td>\n",
       "      <td>94804</td>\n",
       "    </tr>\n",
       "    <tr>\n",
       "      <th>4</th>\n",
       "      <td>4+</td>\n",
       "      <td>84322</td>\n",
       "    </tr>\n",
       "  </tbody>\n",
       "</table>\n",
       "</div>"
      ],
      "text/plain": [
       "  Stay_In_Current_City_Years  Purchase\n",
       "0                          0     74036\n",
       "1                          1    192845\n",
       "2                          2    101384\n",
       "3                          3     94804\n",
       "4                         4+     84322"
      ]
     },
     "execution_count": 42,
     "metadata": {},
     "output_type": "execute_result"
    }
   ],
   "source": [
    "purchase_stay=df_new.groupby(\"Stay_In_Current_City_Years\")[\"Purchase\"].count().to_frame().reset_index()\n",
    "purchase_stay"
   ]
  },
  {
   "cell_type": "code",
   "execution_count": 43,
   "id": "ca391843",
   "metadata": {},
   "outputs": [
    {
     "data": {
      "text/plain": [
       "<AxesSubplot:xlabel='Stay_In_Current_City_Years', ylabel='Purchase'>"
      ]
     },
     "execution_count": 43,
     "metadata": {},
     "output_type": "execute_result"
    },
    {
     "data": {
      "image/png": "[encoded data removed]",
      "text/plain": [
       "<Figure size 432x288 with 1 Axes>"
      ]
     },
     "metadata": {
      "needs_background": "light"
     },
     "output_type": "display_data"
    }
   ],
   "source": [
    "sns.barplot(data=purchase_stay,x=\"Stay_In_Current_City_Years\",y=\"Purchase\")"
   ]
  },
  {
   "cell_type": "markdown",
   "id": "78650fde",
   "metadata": {},
   "source": [
    "#### Increase in the stay in city decrease in the no of purchase (except people spend 0 year)"
   ]
  },
  {
   "cell_type": "markdown",
   "id": "d6c8d075",
   "metadata": {},
   "source": [
    "## Marital status and purchase"
   ]
  },
  {
   "cell_type": "code",
   "execution_count": 44,
   "id": "a5b663a3",
   "metadata": {},
   "outputs": [
    {
     "data": {
      "text/html": [
       "<div>\n",
       "<style scoped>\n",
       "    .dataframe tbody tr th:only-of-type {\n",
       "        vertical-align: middle;\n",
       "    }\n",
       "\n",
       "    .dataframe tbody tr th {\n",
       "        vertical-align: top;\n",
       "    }\n",
       "\n",
       "    .dataframe thead th {\n",
       "        text-align: right;\n",
       "    }\n",
       "</style>\n",
       "<table border=\"1\" class=\"dataframe\">\n",
       "  <thead>\n",
       "    <tr style=\"text-align: right;\">\n",
       "      <th></th>\n",
       "      <th>Marital_Status</th>\n",
       "      <th>Purchase</th>\n",
       "    </tr>\n",
       "  </thead>\n",
       "  <tbody>\n",
       "    <tr>\n",
       "      <th>0</th>\n",
       "      <td>0</td>\n",
       "      <td>2974337720</td>\n",
       "    </tr>\n",
       "    <tr>\n",
       "      <th>1</th>\n",
       "      <td>1</td>\n",
       "      <td>2059265846</td>\n",
       "    </tr>\n",
       "  </tbody>\n",
       "</table>\n",
       "</div>"
      ],
      "text/plain": [
       "   Marital_Status    Purchase\n",
       "0               0  2974337720\n",
       "1               1  2059265846"
      ]
     },
     "execution_count": 44,
     "metadata": {},
     "output_type": "execute_result"
    }
   ],
   "source": [
    "mar=df_new.groupby(\"Marital_Status\")[\"Purchase\"].sum().to_frame().reset_index()\n",
    "mar"
   ]
  },
  {
   "cell_type": "code",
   "execution_count": 45,
   "id": "2e023e45",
   "metadata": {},
   "outputs": [
    {
     "data": {
      "text/plain": [
       "([<matplotlib.patches.Wedge at 0x187704f72e0>,\n",
       "  <matplotlib.patches.Wedge at 0x187704f7880>],\n",
       " [Text(-0.33803283108306154, 1.1514051437743236, 'Unmarried'),\n",
       "  Text(0.3098634284928063, -1.0554547151264633, 'Married')])"
      ]
     },
     "execution_count": 45,
     "metadata": {},
     "output_type": "execute_result"
    },
    {
     "data": {
      "image/png": "[encoded data removed]",
      "text/plain": [
       "<Figure size 432x288 with 1 Axes>"
      ]
     },
     "metadata": {},
     "output_type": "display_data"
    }
   ],
   "source": [
    "label=\"Unmarried\",\"Married\"\n",
    "plt.pie(data=mar,x=\"Purchase\",labels=label,explode=(0.1,0))"
   ]
  },
  {
   "cell_type": "markdown",
   "id": "83bca2cc",
   "metadata": {},
   "source": [
    "#### Single persons spends more amount than married"
   ]
  },
  {
   "cell_type": "markdown",
   "id": "7b145b24",
   "metadata": {},
   "source": [
    "## Product category and purchase"
   ]
  },
  {
   "cell_type": "code",
   "execution_count": 46,
   "id": "a734b683",
   "metadata": {},
   "outputs": [
    {
     "data": {
      "text/html": [
       "<div>\n",
       "<style scoped>\n",
       "    .dataframe tbody tr th:only-of-type {\n",
       "        vertical-align: middle;\n",
       "    }\n",
       "\n",
       "    .dataframe tbody tr th {\n",
       "        vertical-align: top;\n",
       "    }\n",
       "\n",
       "    .dataframe thead th {\n",
       "        text-align: right;\n",
       "    }\n",
       "</style>\n",
       "<table border=\"1\" class=\"dataframe\">\n",
       "  <thead>\n",
       "    <tr style=\"text-align: right;\">\n",
       "      <th></th>\n",
       "      <th>Product_Category</th>\n",
       "      <th>User_ID</th>\n",
       "    </tr>\n",
       "  </thead>\n",
       "  <tbody>\n",
       "    <tr>\n",
       "      <th>0</th>\n",
       "      <td>1</td>\n",
       "      <td>5767</td>\n",
       "    </tr>\n",
       "    <tr>\n",
       "      <th>4</th>\n",
       "      <td>5</td>\n",
       "      <td>5751</td>\n",
       "    </tr>\n",
       "    <tr>\n",
       "      <th>7</th>\n",
       "      <td>8</td>\n",
       "      <td>5659</td>\n",
       "    </tr>\n",
       "    <tr>\n",
       "      <th>1</th>\n",
       "      <td>2</td>\n",
       "      <td>4296</td>\n",
       "    </tr>\n",
       "    <tr>\n",
       "      <th>5</th>\n",
       "      <td>6</td>\n",
       "      <td>4085</td>\n",
       "    </tr>\n",
       "    <tr>\n",
       "      <th>2</th>\n",
       "      <td>3</td>\n",
       "      <td>3838</td>\n",
       "    </tr>\n",
       "    <tr>\n",
       "      <th>10</th>\n",
       "      <td>11</td>\n",
       "      <td>3583</td>\n",
       "    </tr>\n",
       "    <tr>\n",
       "      <th>3</th>\n",
       "      <td>4</td>\n",
       "      <td>3361</td>\n",
       "    </tr>\n",
       "    <tr>\n",
       "      <th>15</th>\n",
       "      <td>16</td>\n",
       "      <td>3130</td>\n",
       "    </tr>\n",
       "    <tr>\n",
       "      <th>19</th>\n",
       "      <td>20</td>\n",
       "      <td>2550</td>\n",
       "    </tr>\n",
       "  </tbody>\n",
       "</table>\n",
       "</div>"
      ],
      "text/plain": [
       "    Product_Category  User_ID\n",
       "0                  1     5767\n",
       "4                  5     5751\n",
       "7                  8     5659\n",
       "1                  2     4296\n",
       "5                  6     4085\n",
       "2                  3     3838\n",
       "10                11     3583\n",
       "3                  4     3361\n",
       "15                16     3130\n",
       "19                20     2550"
      ]
     },
     "execution_count": 46,
     "metadata": {},
     "output_type": "execute_result"
    }
   ],
   "source": [
    "category=df_new.groupby(\"Product_Category\")[\"User_ID\"].nunique().to_frame().reset_index()\n",
    "category.sort_values(\"User_ID\",ascending=False,inplace=True)\n",
    "category[:10]"
   ]
  },
  {
   "cell_type": "markdown",
   "id": "0f91d70b",
   "metadata": {},
   "source": [
    "#### Product category 1 is most unque number purchase"
   ]
  },
  {
   "cell_type": "markdown",
   "id": "d252cc75",
   "metadata": {},
   "source": [
    "## Total Purchase 90% of cofidence"
   ]
  },
  {
   "cell_type": "code",
   "execution_count": 47,
   "id": "8855182b",
   "metadata": {},
   "outputs": [],
   "source": [
    "from scipy import stats\n",
    "from sklearn.utils import resample"
   ]
  },
  {
   "cell_type": "code",
   "execution_count": 48,
   "id": "6775c4ac",
   "metadata": {},
   "outputs": [
    {
     "data": {
      "image/png": "[encoded data removed]",
      "text/plain": [
       "<Figure size 864x288 with 2 Axes>"
      ]
     },
     "metadata": {
      "needs_background": "light"
     },
     "output_type": "display_data"
    }
   ],
   "source": [
    "#kdeplot of purchase to check the purchase column in normal distribution\n",
    "fig,ax=plt.subplots(nrows=1,ncols=2,figsize=(12,4))\n",
    "sns.kdeplot(df_new[\"Purchase\"],fill=True,ax=ax[0])\n",
    "stats.probplot(df_new[\"Purchase\"],dist=\"norm\",plot=ax[1])\n",
    "\n",
    "plt.show()\n",
    "\n",
    "#from this kde plot purchase not in normal distribution"
   ]
  },
  {
   "cell_type": "code",
   "execution_count": 49,
   "id": "4352d3f0",
   "metadata": {},
   "outputs": [],
   "source": [
    "#from this kdeplot and probplot the purchase column not in normal distribution\n",
    "#so we have to make this column to normal distribution\n",
    "# so we will bootstrap the values po purchase column to get normal distribtion curve"
   ]
  },
  {
   "cell_type": "code",
   "execution_count": 50,
   "id": "3ebd3e91",
   "metadata": {},
   "outputs": [],
   "source": [
    "#bootstrapping\n",
    "#resample is a function to take random samples from population ie required column\n",
    "n_iteration=1000\n",
    "bootstrap_means=[]\n",
    "sample_size=1000\n",
    "for i in range(n_iteration):\n",
    "    s=resample(df_new[\"Purchase\"],n_samples=sample_size)\n",
    "    m=np.mean(s)\n",
    "    bootstrap_means.append(m)\n"
   ]
  },
  {
   "cell_type": "code",
   "execution_count": 51,
   "id": "a185db2d",
   "metadata": {},
   "outputs": [
    {
     "data": {
      "image/png": "[encoded data removed]",
      "text/plain": [
       "<Figure size 864x288 with 2 Axes>"
      ]
     },
     "metadata": {
      "needs_background": "light"
     },
     "output_type": "display_data"
    }
   ],
   "source": [
    "#after bootstrapping checking the values in normal distribution\n",
    "fig,ax=plt.subplots(nrows=1,ncols=2,figsize=(12,4))\n",
    "stats.probplot(bootstrap_means,dist=\"norm\",plot=ax[0])\n",
    "sns.kdeplot(bootstrap_means,fill=True,ax=ax[1])\n",
    "plt.show()"
   ]
  },
  {
   "cell_type": "code",
   "execution_count": 52,
   "id": "f8303cce",
   "metadata": {},
   "outputs": [
    {
     "data": {
      "text/plain": [
       "9198.418999"
      ]
     },
     "execution_count": 52,
     "metadata": {},
     "output_type": "execute_result"
    }
   ],
   "source": [
    "m=np.mean(bootstrap_means)\n",
    "m"
   ]
  },
  {
   "cell_type": "code",
   "execution_count": 53,
   "id": "2cdec23c",
   "metadata": {},
   "outputs": [
    {
     "data": {
      "text/plain": [
       "154.3449333538066"
      ]
     },
     "execution_count": 53,
     "metadata": {},
     "output_type": "execute_result"
    }
   ],
   "source": [
    "std=np.std(bootstrap_means)\n",
    "std"
   ]
  },
  {
   "cell_type": "code",
   "execution_count": 54,
   "id": "0511342c",
   "metadata": {},
   "outputs": [
    {
     "name": "stdout",
     "output_type": "stream",
     "text": [
      "8947.165050000001\n",
      "9457.3759\n"
     ]
    }
   ],
   "source": [
    "confidence=0.90\n",
    "lower,upper=np.percentile(bootstrap_means,[5,95])\n",
    "print(lower)\n",
    "print(upper)"
   ]
  },
  {
   "cell_type": "markdown",
   "id": "6bd25cc2",
   "metadata": {},
   "source": [
    "- 90% of people spend the amount betweem 9078 and 9308 for the purchase"
   ]
  },
  {
   "cell_type": "markdown",
   "id": "c756eab5",
   "metadata": {},
   "source": [
    "## Female purchase 90% confidence"
   ]
  },
  {
   "cell_type": "code",
   "execution_count": 55,
   "id": "68c4b4a4",
   "metadata": {},
   "outputs": [],
   "source": [
    "Female=df.loc[df.Gender==\"F\"]"
   ]
  },
  {
   "cell_type": "code",
   "execution_count": 56,
   "id": "083c47ef",
   "metadata": {},
   "outputs": [
    {
     "data": {
      "image/png": "[encoded data removed]",
      "text/plain": [
       "<Figure size 864x288 with 2 Axes>"
      ]
     },
     "metadata": {
      "needs_background": "light"
     },
     "output_type": "display_data"
    }
   ],
   "source": [
    "#kdeplot of purchase\n",
    "fig,ax=plt.subplots(nrows=1,ncols=2,figsize=(12,4))\n",
    "sns.kdeplot(Female[\"Purchase\"],fill=True,ax=ax[0])\n",
    "stats.probplot(Female[\"Purchase\"],dist=\"norm\",plot=ax[1])\n",
    "\n",
    "plt.show()\n",
    "#from this kde plot purchase not in normal distribution"
   ]
  },
  {
   "cell_type": "code",
   "execution_count": 57,
   "id": "9a1503bc",
   "metadata": {},
   "outputs": [],
   "source": [
    "n_iteration=1000\n",
    "bootstrap_means_female=[]\n",
    "sample_size=1000\n",
    "for i in range(n_iteration):\n",
    "    s=resample(Female[\"Purchase\"],n_samples=sample_size)\n",
    "    m=np.mean(s)\n",
    "    bootstrap_means_female.append(m)\n"
   ]
  },
  {
   "cell_type": "code",
   "execution_count": 58,
   "id": "f0bbfd23",
   "metadata": {},
   "outputs": [
    {
     "data": {
      "image/png": "[encoded data removed]",
      "text/plain": [
       "<Figure size 864x288 with 2 Axes>"
      ]
     },
     "metadata": {
      "needs_background": "light"
     },
     "output_type": "display_data"
    }
   ],
   "source": [
    "fig,ax=plt.subplots(nrows=1,ncols=2,figsize=(12,4))\n",
    "stats.probplot(bootstrap_means_female,dist=\"norm\",plot=ax[0])\n",
    "sns.kdeplot(bootstrap_means_female,fill=True,ax=ax[1])\n",
    "plt.show()"
   ]
  },
  {
   "cell_type": "code",
   "execution_count": 59,
   "id": "c4122d62",
   "metadata": {},
   "outputs": [
    {
     "data": {
      "text/plain": [
       "8737.937482000001"
      ]
     },
     "execution_count": 59,
     "metadata": {},
     "output_type": "execute_result"
    }
   ],
   "source": [
    "m=np.mean(bootstrap_means_female)\n",
    "m"
   ]
  },
  {
   "cell_type": "code",
   "execution_count": 60,
   "id": "cb58c4b8",
   "metadata": {},
   "outputs": [
    {
     "data": {
      "text/plain": [
       "155.0766538198051"
      ]
     },
     "execution_count": 60,
     "metadata": {},
     "output_type": "execute_result"
    }
   ],
   "source": [
    "std=np.std(bootstrap_means_female)\n",
    "std"
   ]
  },
  {
   "cell_type": "code",
   "execution_count": 61,
   "id": "8eebc4ae",
   "metadata": {},
   "outputs": [
    {
     "name": "stdout",
     "output_type": "stream",
     "text": [
      "8486.5934\n",
      "9008.49215\n"
     ]
    }
   ],
   "source": [
    "confidence=0.90\n",
    "lower_female,upper_female=np.percentile(bootstrap_means_female,[5,95])\n",
    "print(lower_female)\n",
    "print(upper_female)"
   ]
  },
  {
   "cell_type": "markdown",
   "id": "1eb7cd63",
   "metadata": {},
   "source": [
    "- 90% of females spend the amount between 8624 and 8842 for the purchase"
   ]
  },
  {
   "cell_type": "markdown",
   "id": "342d3f55",
   "metadata": {},
   "source": [
    "# Male purchase with 90% confidence"
   ]
  },
  {
   "cell_type": "code",
   "execution_count": 62,
   "id": "b44a544b",
   "metadata": {},
   "outputs": [],
   "source": [
    "male=df_new.loc[df.Gender==\"M\"]"
   ]
  },
  {
   "cell_type": "code",
   "execution_count": 63,
   "id": "98ea5481",
   "metadata": {},
   "outputs": [
    {
     "data": {
      "image/png": "[encoded data removed]",
      "text/plain": [
       "<Figure size 864x288 with 2 Axes>"
      ]
     },
     "metadata": {
      "needs_background": "light"
     },
     "output_type": "display_data"
    }
   ],
   "source": [
    "fig,ax=plt.subplots(nrows=1,ncols=2,figsize=(12,4))\n",
    "sns.kdeplot(male[\"Purchase\"],fill=True,ax=ax[0])\n",
    "stats.probplot(male[\"Purchase\"],dist=\"norm\",plot=ax[1])\n",
    "plt.show()"
   ]
  },
  {
   "cell_type": "code",
   "execution_count": 64,
   "id": "d0e18331",
   "metadata": {},
   "outputs": [],
   "source": [
    "n_iterations=1000\n",
    "sample_size=1000\n",
    "bootstrap_means_male=[]\n",
    "for i in range(n_iterations):\n",
    "    s=resample(male[\"Purchase\"],n_samples=sample_size)\n",
    "    m=np.mean(s)\n",
    "    bootstrap_means_male.append(m)\n",
    "    "
   ]
  },
  {
   "cell_type": "code",
   "execution_count": 65,
   "id": "07a2111d",
   "metadata": {},
   "outputs": [
    {
     "data": {
      "image/png": "[encoded data removed]",
      "text/plain": [
       "<Figure size 864x288 with 2 Axes>"
      ]
     },
     "metadata": {
      "needs_background": "light"
     },
     "output_type": "display_data"
    }
   ],
   "source": [
    "fig,ax=plt.subplots(nrows=1,ncols=2,figsize=(12,4))\n",
    "stats.probplot(bootstrap_means_male,plot=ax[0])\n",
    "sns.kdeplot(bootstrap_means_male,fill=True,ax=ax[1])\n",
    "plt.show()"
   ]
  },
  {
   "cell_type": "code",
   "execution_count": 66,
   "id": "7ba79d60",
   "metadata": {},
   "outputs": [
    {
     "data": {
      "text/plain": [
       "9362.734309999998"
      ]
     },
     "execution_count": 66,
     "metadata": {},
     "output_type": "execute_result"
    }
   ],
   "source": [
    "mean=np.mean(bootstrap_means_male)\n",
    "mean"
   ]
  },
  {
   "cell_type": "code",
   "execution_count": 67,
   "id": "53af9dcd",
   "metadata": {},
   "outputs": [
    {
     "data": {
      "text/plain": [
       "161.98407923286135"
      ]
     },
     "execution_count": 67,
     "metadata": {},
     "output_type": "execute_result"
    }
   ],
   "source": [
    "std=np.std(bootstrap_means_male)\n",
    "std"
   ]
  },
  {
   "cell_type": "code",
   "execution_count": 68,
   "id": "eea29205",
   "metadata": {},
   "outputs": [
    {
     "name": "stdout",
     "output_type": "stream",
     "text": [
      "9096.16415\n",
      "9617.51835\n"
     ]
    }
   ],
   "source": [
    "confidence=.90\n",
    "lower_male,upper_male=np.percentile(bootstrap_means_male,[5,95])\n",
    "print(lower_male)\n",
    "print(upper_male)"
   ]
  },
  {
   "cell_type": "markdown",
   "id": "2630f330",
   "metadata": {},
   "source": [
    "- 90% of male spend the amount between 9252 and 9485 for the purchase"
   ]
  },
  {
   "cell_type": "markdown",
   "id": "3258867a",
   "metadata": {},
   "source": [
    "### Kde plot of bootstrap means of married and unmarried"
   ]
  },
  {
   "cell_type": "code",
   "execution_count": 69,
   "id": "68b9ee93",
   "metadata": {},
   "outputs": [
    {
     "data": {
      "text/plain": [
       "<AxesSubplot:ylabel='Density'>"
      ]
     },
     "execution_count": 69,
     "metadata": {},
     "output_type": "execute_result"
    },
    {
     "data": {
      "image/png": "[encoded data removed]",
      "text/plain": [
       "<Figure size 432x288 with 1 Axes>"
      ]
     },
     "metadata": {
      "needs_background": "light"
     },
     "output_type": "display_data"
    }
   ],
   "source": [
    "sns.kdeplot(bootstrap_means_male,fill=True)\n",
    "sns.kdeplot(bootstrap_means_female,fill=True)\n"
   ]
  },
  {
   "cell_type": "markdown",
   "id": "66f8b596",
   "metadata": {},
   "source": [
    "### changing the sample size to observe the distribution of the mean"
   ]
  },
  {
   "cell_type": "code",
   "execution_count": 70,
   "id": "248e7b96",
   "metadata": {},
   "outputs": [],
   "source": [
    "#change the sample size of the male purchase amount from 1000 to 250 to detect the change in mean and standard deviation\n",
    "n_iterations=1000\n",
    "sample_size=250\n",
    "bootstrap_means_smallsample=[]\n",
    "for i in range(n_iterations):\n",
    "    s=resample(df_new[\"Purchase\"],n_samples=sample_size)\n",
    "    m=np.mean(s)\n",
    "    bootstrap_means_smallsample.append(m)"
   ]
  },
  {
   "cell_type": "code",
   "execution_count": 71,
   "id": "cd39ee7b",
   "metadata": {},
   "outputs": [
    {
     "name": "stdout",
     "output_type": "stream",
     "text": [
      "sample mean 9198.418999\n",
      "sample standard deviation 154.3449333538066\n",
      "sample mean of reduced sample size 9190.007388\n",
      "standard deviation of reduced sample size 317.1985014950125\n"
     ]
    }
   ],
   "source": [
    "mean=np.mean(bootstrap_means)\n",
    "std=np.std(bootstrap_means)\n",
    "mean_small=np.mean(bootstrap_means_smallsample)\n",
    "std_small=np.std(bootstrap_means_smallsample)\n",
    "print(\"sample mean\",mean)\n",
    "print(\"sample standard deviation\",std)\n",
    "print(\"sample mean of reduced sample size\",mean_small)\n",
    "print(\"standard deviation of reduced sample size\",std_small)"
   ]
  },
  {
   "cell_type": "markdown",
   "id": "fda9e206",
   "metadata": {},
   "source": [
    "- Sample mean shows a small increase with decrease in sample size\n",
    "- Standard deviation shows a wide increase with decrease in sample size"
   ]
  },
  {
   "cell_type": "markdown",
   "id": "31bb34f7",
   "metadata": {},
   "source": [
    "### kdeplot with different sample size"
   ]
  },
  {
   "cell_type": "code",
   "execution_count": 72,
   "id": "3b793949",
   "metadata": {},
   "outputs": [
    {
     "data": {
      "text/plain": [
       "<AxesSubplot:ylabel='Density'>"
      ]
     },
     "execution_count": 72,
     "metadata": {},
     "output_type": "execute_result"
    },
    {
     "data": {
      "image/png": "[encoded data removed]",
      "text/plain": [
       "<Figure size 432x288 with 1 Axes>"
      ]
     },
     "metadata": {
      "needs_background": "light"
     },
     "output_type": "display_data"
    }
   ],
   "source": [
    "sns.kdeplot(bootstrap_means,fill=True)\n",
    "sns.kdeplot(bootstrap_means_smallsample,fill=True)"
   ]
  },
  {
   "cell_type": "markdown",
   "id": "49c82f42",
   "metadata": {},
   "source": [
    "- Decrease in sample size kdeplot shows more wide "
   ]
  },
  {
   "cell_type": "markdown",
   "id": "e1592dda",
   "metadata": {},
   "source": [
    "### Checking confidence interval 90 of purchase overlap or not on the basis of gender"
   ]
  },
  {
   "cell_type": "code",
   "execution_count": 73,
   "id": "3628d14d",
   "metadata": {},
   "outputs": [
    {
     "name": "stdout",
     "output_type": "stream",
     "text": [
      "first interval is :(8486.5934, 9008.49215]\n",
      "second interval is :(9096.16415, 9617.51835]\n",
      "do the intervals overlap ? : no\n"
     ]
    }
   ],
   "source": [
    "  \n",
    "# creating 1st interval\n",
    "interval1 = pd.Interval(lower_female, upper_female)\n",
    "print('first interval is :' + str(interval1))\n",
    "  \n",
    "# creating 2nd interval\n",
    "interval2 = pd.Interval(lower_male, upper_male)\n",
    "  \n",
    "# checking whether the intervals overlap\n",
    "result = interval1.overlaps(interval2)\n",
    "print('second interval is :'+str(interval2))\n",
    "str = 'yes' if result else 'no'\n",
    "  \n",
    "print('do the intervals overlap ? : '+str)"
   ]
  },
  {
   "cell_type": "markdown",
   "id": "7273918f",
   "metadata": {},
   "source": [
    "- The amount spend for the purchase of 90% of women and the amount spend for the purchase of 90% of men is does not overlap eachother"
   ]
  },
  {
   "cell_type": "markdown",
   "id": "d8b97052",
   "metadata": {},
   "source": [
    "## Checking confidence interval 99 of purchase overlap or not on the basis of gender"
   ]
  },
  {
   "cell_type": "markdown",
   "id": "16f28f32",
   "metadata": {},
   "source": [
    "### Confidence interval 99 of female"
   ]
  },
  {
   "cell_type": "code",
   "execution_count": 74,
   "id": "7109552f",
   "metadata": {},
   "outputs": [
    {
     "name": "stdout",
     "output_type": "stream",
     "text": [
      "8386.73984\n",
      "9130.549804999999\n"
     ]
    }
   ],
   "source": [
    "#confidence interval 99 of female\n",
    "confidence=0.99\n",
    "lower_female,upper_female=np.percentile(bootstrap_means_female,[0.5,99.5])\n",
    "print(lower_female)\n",
    "print(upper_female)"
   ]
  },
  {
   "cell_type": "markdown",
   "id": "9e4ee15b",
   "metadata": {},
   "source": [
    "### Confidence interval 99 of male"
   ]
  },
  {
   "cell_type": "code",
   "execution_count": 75,
   "id": "1cea8a04",
   "metadata": {},
   "outputs": [
    {
     "name": "stdout",
     "output_type": "stream",
     "text": [
      "8969.12909\n",
      "9762.01126\n"
     ]
    }
   ],
   "source": [
    "#confidence interval 99 of male\n",
    "confidence=0.99\n",
    "lower_male,upper_male=np.percentile(bootstrap_means_male,[0.5,99.5])\n",
    "print(lower_male)\n",
    "print(upper_male)"
   ]
  },
  {
   "cell_type": "markdown",
   "id": "b095e4bf",
   "metadata": {},
   "source": [
    "### Checking confidence interval 99 of male and female overlap or not"
   ]
  },
  {
   "cell_type": "code",
   "execution_count": 76,
   "id": "7d904d9a",
   "metadata": {},
   "outputs": [
    {
     "name": "stdout",
     "output_type": "stream",
     "text": [
      "do the intervals overlap ? : yes\n"
     ]
    }
   ],
   "source": [
    "#checking confidence interval overlapping or not\n",
    "# creating 1st interval\n",
    "interval1 = pd.Interval(lower_female, upper_female)\n",
    "\n",
    "  \n",
    "# creating 2nd interval\n",
    "interval2 = pd.Interval(lower_male, upper_male)\n",
    "  \n",
    "# checking whether the intervals overlap\n",
    "result = interval1.overlaps(interval2)\n",
    "\n",
    "str = 'yes' if result else 'no'\n",
    "  \n",
    "print('do the intervals overlap ? : '+str)"
   ]
  },
  {
   "cell_type": "markdown",
   "id": "f6281464",
   "metadata": {},
   "source": [
    "#### 99% of Male and female purchase amount overlap each other"
   ]
  },
  {
   "cell_type": "markdown",
   "id": "82804d9c",
   "metadata": {},
   "source": [
    "### Checking confidence interval between married and unmarried"
   ]
  },
  {
   "cell_type": "markdown",
   "id": "4bde9943",
   "metadata": {},
   "source": [
    "### Confidence interval 90% - Married"
   ]
  },
  {
   "cell_type": "code",
   "execution_count": 77,
   "id": "99c22a60",
   "metadata": {},
   "outputs": [],
   "source": [
    "married=df_new.loc[df_new.Marital_Status==1]\n"
   ]
  },
  {
   "cell_type": "code",
   "execution_count": 78,
   "id": "3cebaab0",
   "metadata": {},
   "outputs": [],
   "source": [
    "#bootstrapping sample\n",
    "n_iterations=1000\n",
    "sample_size=1000\n",
    "bootstrap_means_married=[]\n",
    "for i in range(n_iterations):\n",
    "    s=resample(married[\"Purchase\"],n_samples=sample_size)\n",
    "    m=np.mean(s)\n",
    "    bootstrap_means_married.append(m)\n",
    "    "
   ]
  },
  {
   "cell_type": "code",
   "execution_count": 79,
   "id": "9ed55262",
   "metadata": {},
   "outputs": [
    {
     "data": {
      "image/png": "[encoded data removed]",
      "text/plain": [
       "<Figure size 864x288 with 2 Axes>"
      ]
     },
     "metadata": {
      "needs_background": "light"
     },
     "output_type": "display_data"
    }
   ],
   "source": [
    "fig,ax=plt.subplots(nrows=1,ncols=2,figsize=(12,4))\n",
    "#probplot to check bootstrap means are in noramal distribution\n",
    "stats.probplot(bootstrap_means_married,plot=ax[0])\n",
    "#kdeplot of normal distribution of bootstrap sample\n",
    "sns.kdeplot(bootstrap_means_married,fill=True,ax=ax[1])\n",
    "plt.show()"
   ]
  },
  {
   "cell_type": "code",
   "execution_count": 80,
   "id": "2e939bf8",
   "metadata": {},
   "outputs": [
    {
     "name": "stdout",
     "output_type": "stream",
     "text": [
      "8932.52945\n",
      "9447.0516\n"
     ]
    }
   ],
   "source": [
    "#finding confidence intervel\n",
    "confidence=.90\n",
    "lower_married,upper_married=np.percentile(bootstrap_means_married,[5,95])\n",
    "print(lower_married)\n",
    "print(upper_married)"
   ]
  },
  {
   "cell_type": "markdown",
   "id": "ca8fc0fa",
   "metadata": {},
   "source": [
    "### Confidence interval 90% - Unmarried"
   ]
  },
  {
   "cell_type": "code",
   "execution_count": 81,
   "id": "26083772",
   "metadata": {},
   "outputs": [],
   "source": [
    "unmarried=df_new.loc[df_new.Marital_Status==0]"
   ]
  },
  {
   "cell_type": "code",
   "execution_count": 82,
   "id": "4e53ae65",
   "metadata": {},
   "outputs": [],
   "source": [
    "n_iterations=1000\n",
    "sample_size=1000\n",
    "bootstrap_means_unmarried=[]\n",
    "for i in range(n_iterations):\n",
    "    s=resample(unmarried[\"Purchase\"],n_samples=sample_size)\n",
    "    m=np.mean(s)\n",
    "    bootstrap_means_unmarried.append(m)\n",
    "    "
   ]
  },
  {
   "cell_type": "code",
   "execution_count": 83,
   "id": "ced0b003",
   "metadata": {},
   "outputs": [
    {
     "data": {
      "image/png": "[encoded data removed]",
      "text/plain": [
       "<Figure size 864x288 with 2 Axes>"
      ]
     },
     "metadata": {
      "needs_background": "light"
     },
     "output_type": "display_data"
    }
   ],
   "source": [
    "fig,ax=plt.subplots(nrows=1,ncols=2,figsize=(12,4))\n",
    "stats.probplot(bootstrap_means_married,plot=ax[0])\n",
    "sns.kdeplot(bootstrap_means_married,fill=True,ax=ax[1])\n",
    "plt.show()"
   ]
  },
  {
   "cell_type": "code",
   "execution_count": 84,
   "id": "7bc8436e",
   "metadata": {},
   "outputs": [
    {
     "name": "stdout",
     "output_type": "stream",
     "text": [
      "8939.9783\n",
      "9453.25565\n"
     ]
    }
   ],
   "source": [
    "confidence=.90\n",
    "lower_unmarried,upper_unmarried=np.percentile(bootstrap_means_unmarried,[5,95])\n",
    "print(lower_unmarried)\n",
    "print(upper_unmarried)"
   ]
  },
  {
   "cell_type": "markdown",
   "id": "6d54cc65",
   "metadata": {},
   "source": [
    "### Overlapping of  confidence interval 90% between married and unmarried"
   ]
  },
  {
   "cell_type": "code",
   "execution_count": 85,
   "id": "bfc27847",
   "metadata": {},
   "outputs": [
    {
     "name": "stdout",
     "output_type": "stream",
     "text": [
      "do the intervals overlap ? : yes\n"
     ]
    }
   ],
   "source": [
    "interval1 = pd.Interval(lower_married, upper_married)\n",
    "\n",
    "  \n",
    "# creating 2nd interval\n",
    "interval2 = pd.Interval(lower_unmarried, upper_unmarried)\n",
    "  \n",
    "# checking whether the intervals overlap\n",
    "result = interval1.overlaps(interval2)\n",
    "\n",
    "str = 'yes' if result else 'no'\n",
    "  \n",
    "print('do the intervals overlap ? : '+str)"
   ]
  },
  {
   "cell_type": "markdown",
   "id": "cc109307",
   "metadata": {},
   "source": [
    "- The amount spend for the purchase of 90% of married and the amount spend for the purchase of 90% of unmarried is overlap eachother"
   ]
  },
  {
   "cell_type": "code",
   "execution_count": 86,
   "id": "c93e2dda",
   "metadata": {},
   "outputs": [
    {
     "data": {
      "text/plain": [
       "<AxesSubplot:ylabel='Density'>"
      ]
     },
     "execution_count": 86,
     "metadata": {},
     "output_type": "execute_result"
    },
    {
     "data": {
      "image/png": "[encoded data removed]",
      "text/plain": [
       "<Figure size 432x288 with 1 Axes>"
      ]
     },
     "metadata": {
      "needs_background": "light"
     },
     "output_type": "display_data"
    }
   ],
   "source": [
    "#kdeplot of bootstrapmeans of married and unmarried\n",
    "sns.kdeplot(bootstrap_means_married,fill=True)\n",
    "sns.kdeplot(bootstrap_means_unmarried,fill=True)\n"
   ]
  },
  {
   "cell_type": "markdown",
   "id": "fba6f8f4",
   "metadata": {},
   "source": [
    "## Confidence interval 90 - based on the purchase of different age category"
   ]
  },
  {
   "cell_type": "markdown",
   "id": "48545105",
   "metadata": {},
   "source": [
    "### Confidence interval 90 of Purchase - age category 0-17"
   ]
  },
  {
   "cell_type": "code",
   "execution_count": 87,
   "id": "1f98dbe2",
   "metadata": {},
   "outputs": [
    {
     "name": "stdout",
     "output_type": "stream",
     "text": [
      "8606.7307\n",
      "9151.94845\n"
     ]
    }
   ],
   "source": [
    "#confidence interval of age between 0-17\n",
    "\n",
    "age0_17=df_new.loc[df_new.Age==\"0-17\"]\n",
    "n_iterations=1000\n",
    "sample_size=1000\n",
    "bootstrap_means_age0_17=[]\n",
    "for i in range(n_iterations):\n",
    "    s=resample(age0_17[\"Purchase\"],n_samples=sample_size)\n",
    "    m=np.mean(s)\n",
    "    bootstrap_means_age0_17.append(m)\n",
    "\n",
    "confidence=.90\n",
    "lower_age0_17,upper_age0_17=np.percentile(bootstrap_means_age0_17,[5,95])\n",
    "print(lower_age0_17)\n",
    "print(upper_age0_17)\n"
   ]
  },
  {
   "cell_type": "markdown",
   "id": "8b45650c",
   "metadata": {},
   "source": [
    "###  Confidence interval 90 of Purchase - age category 18-25"
   ]
  },
  {
   "cell_type": "code",
   "execution_count": 88,
   "id": "cd0778ee",
   "metadata": {},
   "outputs": [
    {
     "name": "stdout",
     "output_type": "stream",
     "text": [
      "8853.6757\n",
      "9375.2364\n"
     ]
    }
   ],
   "source": [
    "#Confidence interval of age between 18-25\n",
    "\n",
    "age18_25=df_new.loc[df_new.Age==\"18-25\"]\n",
    "n_iterations=1000\n",
    "sample_size=1000\n",
    "bootstrap_means_age18_25=[]\n",
    "for i in range(n_iterations):\n",
    "    s=resample(age18_25[\"Purchase\"],n_samples=sample_size)\n",
    "    m=np.mean(s)\n",
    "    bootstrap_means_age18_25.append(m)\n",
    "\n",
    "confidence=.90\n",
    "lower_age18_25,upper_age18_25=np.percentile(bootstrap_means_age18_25,[5,95])\n",
    "print(lower_age18_25)\n",
    "print(upper_age18_25)\n"
   ]
  },
  {
   "cell_type": "markdown",
   "id": "e166fec4",
   "metadata": {},
   "source": [
    "###  Confidence interval 90 of Purchase - age category 26-35"
   ]
  },
  {
   "cell_type": "code",
   "execution_count": 89,
   "id": "8b7905cb",
   "metadata": {},
   "outputs": [
    {
     "name": "stdout",
     "output_type": "stream",
     "text": [
      "8945.66865\n",
      "9447.0205\n"
     ]
    }
   ],
   "source": [
    "#Confidence interval of age between 26-35\n",
    "\n",
    "age26_35=df_new.loc[df_new.Age==\"26-35\"]\n",
    "n_iterations=1000\n",
    "sample_size=1000\n",
    "bootstrap_means_age26_35=[]\n",
    "for i in range(n_iterations):\n",
    "    s=resample(age26_35[\"Purchase\"],n_samples=sample_size)\n",
    "    m=np.mean(s)\n",
    "    bootstrap_means_age26_35.append(m)\n",
    "\n",
    "confidence=.90\n",
    "lower_age26_35,upper_age26_35=np.percentile(bootstrap_means_age26_35,[5,95])\n",
    "print(lower_age26_35)\n",
    "print(upper_age26_35)"
   ]
  },
  {
   "cell_type": "markdown",
   "id": "c76f07ac",
   "metadata": {},
   "source": [
    "###  Confidence interval 90 of Purchase - age category 36-45"
   ]
  },
  {
   "cell_type": "code",
   "execution_count": 90,
   "id": "e313bdb1",
   "metadata": {},
   "outputs": [
    {
     "name": "stdout",
     "output_type": "stream",
     "text": [
      "8994.60375\n",
      "9513.2172\n"
     ]
    }
   ],
   "source": [
    "#Confidence interval of age between 36-45\n",
    "\n",
    "age36_45=df_new.loc[df_new.Age==\"36-45\"]\n",
    "n_iterations=1000\n",
    "sample_size=1000\n",
    "bootstrap_means_age36_45=[]\n",
    "for i in range(n_iterations):\n",
    "    s=resample(age36_45[\"Purchase\"],n_samples=sample_size)\n",
    "    m=np.mean(s)\n",
    "    bootstrap_means_age36_45.append(m)\n",
    "\n",
    "confidence=.90\n",
    "lower_age36_45,upper_age36_45=np.percentile(bootstrap_means_age36_45,[5,95])\n",
    "print(lower_age36_45)\n",
    "print(upper_age36_45)"
   ]
  },
  {
   "cell_type": "markdown",
   "id": "1e7a4b86",
   "metadata": {},
   "source": [
    "###  Confidence interval 90 of Purchase - age category 46-50"
   ]
  },
  {
   "cell_type": "code",
   "execution_count": 91,
   "id": "9478d2b5",
   "metadata": {},
   "outputs": [
    {
     "name": "stdout",
     "output_type": "stream",
     "text": [
      "8888.795600000001\n",
      "9385.40445\n"
     ]
    }
   ],
   "source": [
    "#Confidence interval of age between 46-50\n",
    "\n",
    "age46_50=df_new.loc[df_new.Age==\"46-50\"]\n",
    "n_iterations=1000\n",
    "sample_size=1000\n",
    "bootstrap_means_age46_50=[]\n",
    "for i in range(n_iterations):\n",
    "    s=resample(age46_50[\"Purchase\"],n_samples=sample_size)\n",
    "    m=np.mean(s)\n",
    "    bootstrap_means_age46_50.append(m)\n",
    "\n",
    "confidence=.90\n",
    "lower_age46_50,upper_age46_50=np.percentile(bootstrap_means_age46_50,[5,95])\n",
    "print(lower_age46_50)\n",
    "print(upper_age46_50)"
   ]
  },
  {
   "cell_type": "markdown",
   "id": "b23ad07b",
   "metadata": {},
   "source": [
    "###  Confidence interval 90 of Purchase - age category 51-55"
   ]
  },
  {
   "cell_type": "code",
   "execution_count": 92,
   "id": "db1f846b",
   "metadata": {},
   "outputs": [
    {
     "name": "stdout",
     "output_type": "stream",
     "text": [
      "9170.80215\n",
      "9687.56855\n"
     ]
    }
   ],
   "source": [
    "#confidence interval of age between 51-55\n",
    "\n",
    "age51_55=df_new.loc[df_new.Age==\"51-55\"]\n",
    "n_iterations=1000\n",
    "sample_size=1000\n",
    "bootstrap_means_age51_55=[]\n",
    "for i in range(n_iterations):\n",
    "    s=resample(age51_55[\"Purchase\"],n_samples=sample_size)\n",
    "    m=np.mean(s)\n",
    "    bootstrap_means_age51_55.append(m)\n",
    "\n",
    "confidence=.90\n",
    "lower_age51_55,upper_age51_55=np.percentile(bootstrap_means_age51_55,[5,95])\n",
    "print(lower_age51_55)\n",
    "print(upper_age51_55)"
   ]
  },
  {
   "cell_type": "markdown",
   "id": "9c7c21f2",
   "metadata": {},
   "source": [
    "###  Confidence interval 90 of Purchase - age category 55+"
   ]
  },
  {
   "cell_type": "code",
   "execution_count": 93,
   "id": "7935e2e5",
   "metadata": {},
   "outputs": [
    {
     "name": "stdout",
     "output_type": "stream",
     "text": [
      "8965.9922\n",
      "9481.66805\n"
     ]
    }
   ],
   "source": [
    "#confidence interval of age above 55\n",
    "\n",
    "age55=df_new.loc[df_new.Age==\"55+\"]\n",
    "n_iterations=1000\n",
    "sample_size=1000\n",
    "bootstrap_means_age55=[]\n",
    "for i in range(n_iterations):\n",
    "    s=resample(age55[\"Purchase\"],n_samples=sample_size)\n",
    "    m=np.mean(s)\n",
    "    bootstrap_means_age55.append(m)\n",
    "\n",
    "confidence=.90\n",
    "lower_age55,upper_age55=np.percentile(bootstrap_means_age55,[5,95])\n",
    "print(lower_age55)\n",
    "print(upper_age55)"
   ]
  },
  {
   "cell_type": "markdown",
   "id": "1c8b8467",
   "metadata": {},
   "source": [
    "### Kde plot of bootstrap means of different age category"
   ]
  },
  {
   "cell_type": "code",
   "execution_count": 94,
   "id": "0bfcef76",
   "metadata": {},
   "outputs": [
    {
     "data": {
      "text/plain": [
       "<AxesSubplot:ylabel='Density'>"
      ]
     },
     "execution_count": 94,
     "metadata": {},
     "output_type": "execute_result"
    },
    {
     "data": {
      "image/png": "[encoded data removed]",
      "text/plain": [
       "<Figure size 432x288 with 1 Axes>"
      ]
     },
     "metadata": {
      "needs_background": "light"
     },
     "output_type": "display_data"
    }
   ],
   "source": [
    "sns.kdeplot(bootstrap_means_age0_17,fill=True)\n",
    "sns.kdeplot(bootstrap_means_age18_25,fill=True)\n",
    "sns.kdeplot(bootstrap_means_age26_35,fill=True)\n",
    "sns.kdeplot(bootstrap_means_age36_45,fill=True)\n",
    "sns.kdeplot(bootstrap_means_age46_50,fill=True)\n",
    "sns.kdeplot(bootstrap_means_age51_55,fill=True)\n",
    "sns.kdeplot(bootstrap_means_age55,fill=True)"
   ]
  },
  {
   "cell_type": "markdown",
   "id": "7ea47c37",
   "metadata": {},
   "source": [
    "#### Bootstrap means of every age category overlapping each other means there is a common interval between everyone purchase"
   ]
  },
  {
   "cell_type": "markdown",
   "id": "94812036",
   "metadata": {},
   "source": [
    "### Conditional probability of purchase based on age category from city A,B,C"
   ]
  },
  {
   "cell_type": "code",
   "execution_count": 95,
   "id": "045d2086",
   "metadata": {},
   "outputs": [
    {
     "data": {
      "text/html": [
       "<div>\n",
       "<style scoped>\n",
       "    .dataframe tbody tr th:only-of-type {\n",
       "        vertical-align: middle;\n",
       "    }\n",
       "\n",
       "    .dataframe tbody tr th {\n",
       "        vertical-align: top;\n",
       "    }\n",
       "\n",
       "    .dataframe thead th {\n",
       "        text-align: right;\n",
       "    }\n",
       "</style>\n",
       "<table border=\"1\" class=\"dataframe\">\n",
       "  <thead>\n",
       "    <tr style=\"text-align: right;\">\n",
       "      <th>Age</th>\n",
       "      <th>City_Category</th>\n",
       "      <th>0-17</th>\n",
       "      <th>18-25</th>\n",
       "      <th>26-35</th>\n",
       "      <th>36-45</th>\n",
       "      <th>46-50</th>\n",
       "      <th>51-55</th>\n",
       "      <th>55+</th>\n",
       "      <th>All</th>\n",
       "      <th>P(age 0-17|each city)</th>\n",
       "      <th>P(age 18-25|each city)</th>\n",
       "      <th>P(age 26-35|each city)</th>\n",
       "      <th>P(age 36-45|each city)</th>\n",
       "      <th>P(age 46-50|each city)</th>\n",
       "      <th>P(age 51-55|each city)</th>\n",
       "      <th>P(age 55+|each city)</th>\n",
       "    </tr>\n",
       "  </thead>\n",
       "  <tbody>\n",
       "    <tr>\n",
       "      <th>0</th>\n",
       "      <td>A</td>\n",
       "      <td>2525</td>\n",
       "      <td>27448</td>\n",
       "      <td>73403</td>\n",
       "      <td>26485</td>\n",
       "      <td>7572</td>\n",
       "      <td>6055</td>\n",
       "      <td>3548</td>\n",
       "      <td>147036</td>\n",
       "      <td>1.72</td>\n",
       "      <td>18.67</td>\n",
       "      <td>49.92</td>\n",
       "      <td>18.01</td>\n",
       "      <td>5.15</td>\n",
       "      <td>4.12</td>\n",
       "      <td>2.41</td>\n",
       "    </tr>\n",
       "    <tr>\n",
       "      <th>1</th>\n",
       "      <td>B</td>\n",
       "      <td>5403</td>\n",
       "      <td>43104</td>\n",
       "      <td>91223</td>\n",
       "      <td>47365</td>\n",
       "      <td>20299</td>\n",
       "      <td>17605</td>\n",
       "      <td>5115</td>\n",
       "      <td>230114</td>\n",
       "      <td>2.35</td>\n",
       "      <td>18.73</td>\n",
       "      <td>39.64</td>\n",
       "      <td>20.58</td>\n",
       "      <td>8.82</td>\n",
       "      <td>7.65</td>\n",
       "      <td>2.22</td>\n",
       "    </tr>\n",
       "    <tr>\n",
       "      <th>2</th>\n",
       "      <td>C</td>\n",
       "      <td>7104</td>\n",
       "      <td>28782</td>\n",
       "      <td>54035</td>\n",
       "      <td>35559</td>\n",
       "      <td>17571</td>\n",
       "      <td>14531</td>\n",
       "      <td>12659</td>\n",
       "      <td>170241</td>\n",
       "      <td>4.17</td>\n",
       "      <td>16.91</td>\n",
       "      <td>31.74</td>\n",
       "      <td>20.89</td>\n",
       "      <td>10.32</td>\n",
       "      <td>8.54</td>\n",
       "      <td>7.44</td>\n",
       "    </tr>\n",
       "    <tr>\n",
       "      <th>3</th>\n",
       "      <td>All</td>\n",
       "      <td>15032</td>\n",
       "      <td>99334</td>\n",
       "      <td>218661</td>\n",
       "      <td>109409</td>\n",
       "      <td>45442</td>\n",
       "      <td>38191</td>\n",
       "      <td>21322</td>\n",
       "      <td>547391</td>\n",
       "      <td>2.75</td>\n",
       "      <td>18.15</td>\n",
       "      <td>39.95</td>\n",
       "      <td>19.99</td>\n",
       "      <td>8.30</td>\n",
       "      <td>6.98</td>\n",
       "      <td>3.90</td>\n",
       "    </tr>\n",
       "  </tbody>\n",
       "</table>\n",
       "</div>"
      ],
      "text/plain": [
       "Age City_Category   0-17  18-25   26-35   36-45  46-50  51-55    55+     All  \\\n",
       "0               A   2525  27448   73403   26485   7572   6055   3548  147036   \n",
       "1               B   5403  43104   91223   47365  20299  17605   5115  230114   \n",
       "2               C   7104  28782   54035   35559  17571  14531  12659  170241   \n",
       "3             All  15032  99334  218661  109409  45442  38191  21322  547391   \n",
       "\n",
       "Age  P(age 0-17|each city)  P(age 18-25|each city)  P(age 26-35|each city)  \\\n",
       "0                     1.72                   18.67                   49.92   \n",
       "1                     2.35                   18.73                   39.64   \n",
       "2                     4.17                   16.91                   31.74   \n",
       "3                     2.75                   18.15                   39.95   \n",
       "\n",
       "Age  P(age 36-45|each city)  P(age 46-50|each city)  P(age 51-55|each city)  \\\n",
       "0                     18.01                    5.15                    4.12   \n",
       "1                     20.58                    8.82                    7.65   \n",
       "2                     20.89                   10.32                    8.54   \n",
       "3                     19.99                    8.30                    6.98   \n",
       "\n",
       "Age  P(age 55+|each city)  \n",
       "0                    2.41  \n",
       "1                    2.22  \n",
       "2                    7.44  \n",
       "3                    3.90  "
      ]
     },
     "execution_count": 95,
     "metadata": {},
     "output_type": "execute_result"
    }
   ],
   "source": [
    "#probability\n",
    "city=pd.crosstab(df_new.City_Category,df_new.Age,margins=True).reset_index()\n",
    "city[\"P(age 0-17|each city)\"]=(city[\"0-17\"]/city[\"All\"]*100).round(2)\n",
    "city[\"P(age 18-25|each city)\"]=(city[\"18-25\"]/city[\"All\"]*100).round(2)\n",
    "city[\"P(age 26-35|each city)\"]=(city[\"26-35\"]/city[\"All\"]*100).round(2)\n",
    "city[\"P(age 36-45|each city)\"]=(city[\"36-45\"]/city[\"All\"]*100).round(2)\n",
    "city[\"P(age 46-50|each city)\"]=(city[\"46-50\"]/city[\"All\"]*100).round(2)\n",
    "city[\"P(age 51-55|each city)\"]=(city[\"51-55\"]/city[\"All\"]*100).round(2)\n",
    "city[\"P(age 55+|each city)\"]=(city[\"55+\"]/city[\"All\"]*100).round(2)\n",
    "city"
   ]
  },
  {
   "cell_type": "markdown",
   "id": "912a3b51",
   "metadata": {},
   "source": [
    "#### In each city age category 36-45 has higher probability to purchase\n",
    "#### Age category 0-17 and 55+ has lower probability to purchase"
   ]
  },
  {
   "cell_type": "markdown",
   "id": "639a8d9d",
   "metadata": {},
   "source": [
    "## Recommendations"
   ]
  },
  {
   "cell_type": "markdown",
   "id": "735ee0c6",
   "metadata": {},
   "source": [
    "- Male purchase more than female so stock product focus to men\n",
    "- Amount spend per transaction of male is greater than female means male customers more expensive than female\n",
    "- In every city male purchaser very much greater than female\n",
    "- Age between 26-35 and 36-45 purchase more items than other age categories\n",
    "- Amount spend per purchase is greater in the age category 51-55 and lesser in 0-17\n",
    "- City B makes more no of purchases and City B gets more income\n",
    "- Amount spend per purchase is greater in city C means people in city C purchase more expensive product so shop in city C can chose more expensive product compare to other cities\n",
    "- City A stocks more product but city makes lesser income is also city A. So dont randomly chose product to stock\n",
    "- Increase in the stay in city decrease in the no of purchase (except people spend 0 year) so concentrate more and give incentives to new people in the city\n",
    "- Unmarried person spend more money than married so focus on items that are more popular among unmarried\n",
    "- confidence interval 99 of male is 8900-9800 and female is 8300-9100 so stock product range for male and female accordingly\n",
    "- Confidence interval of married and unmarried is almost equal means they purchae product same price range\n",
    "- Product category 1 is most unique no of persons purchase so concentrate more these type of products\n",
    "- In each city age category 36-45 has higher probability to purchase\n",
    "- Age category 0-17 and 55+ has lower probability to purchase"
   ]
  },
  {
   "cell_type": "code",
   "execution_count": 96,
   "id": "d306a5e3",
   "metadata": {},
   "outputs": [
    {
     "name": "stdout",
     "output_type": "stream",
     "text": [
      "Requirement already satisfied: notebook-as-pdf in c:\\users\\raman\\anaconda3\\lib\\site-packages (0.5.0)\n",
      "Requirement already satisfied: PyPDF2 in c:\\users\\raman\\anaconda3\\lib\\site-packages (from notebook-as-pdf) (2.11.0)\n",
      "Requirement already satisfied: nbconvert in c:\\users\\raman\\anaconda3\\lib\\site-packages (from notebook-as-pdf) (6.1.0)\n",
      "Requirement already satisfied: pyppeteer in c:\\users\\raman\\anaconda3\\lib\\site-packages (from notebook-as-pdf) (1.0.2)\n",
      "Requirement already satisfied: jinja2>=2.4 in c:\\users\\raman\\anaconda3\\lib\\site-packages (from nbconvert->notebook-as-pdf) (2.11.3)\n",
      "Requirement already satisfied: testpath in c:\\users\\raman\\anaconda3\\lib\\site-packages (from nbconvert->notebook-as-pdf) (0.5.0)\n",
      "Requirement already satisfied: jupyterlab-pygments in c:\\users\\raman\\anaconda3\\lib\\site-packages (from nbconvert->notebook-as-pdf) (0.1.2)\n",
      "Requirement already satisfied: bleach in c:\\users\\raman\\anaconda3\\lib\\site-packages (from nbconvert->notebook-as-pdf) (4.0.0)\n",
      "Requirement already satisfied: defusedxml in c:\\users\\raman\\anaconda3\\lib\\site-packages (from nbconvert->notebook-as-pdf) (0.7.1)\n",
      "Requirement already satisfied: pandocfilters>=1.4.1 in c:\\users\\raman\\anaconda3\\lib\\site-packages (from nbconvert->notebook-as-pdf) (1.4.3)\n",
      "Requirement already satisfied: nbclient<0.6.0,>=0.5.0 in c:\\users\\raman\\anaconda3\\lib\\site-packages (from nbconvert->notebook-as-pdf) (0.5.3)\n",
      "Requirement already satisfied: nbformat>=4.4 in c:\\users\\raman\\anaconda3\\lib\\site-packages (from nbconvert->notebook-as-pdf) (5.1.3)\n",
      "Requirement already satisfied: traitlets>=5.0 in c:\\users\\raman\\anaconda3\\lib\\site-packages (from nbconvert->notebook-as-pdf) (5.1.0)\n",
      "Requirement already satisfied: entrypoints>=0.2.2 in c:\\users\\raman\\anaconda3\\lib\\site-packages (from nbconvert->notebook-as-pdf) (0.3)\n",
      "Requirement already satisfied: mistune<2,>=0.8.1 in c:\\users\\raman\\anaconda3\\lib\\site-packages (from nbconvert->notebook-as-pdf) (0.8.4)\n",
      "Requirement already satisfied: pygments>=2.4.1 in c:\\users\\raman\\anaconda3\\lib\\site-packages (from nbconvert->notebook-as-pdf) (2.10.0)\n",
      "Requirement already satisfied: jupyter-core in c:\\users\\raman\\anaconda3\\lib\\site-packages (from nbconvert->notebook-as-pdf) (4.8.1)\n",
      "Requirement already satisfied: MarkupSafe>=0.23 in c:\\users\\raman\\anaconda3\\lib\\site-packages (from jinja2>=2.4->nbconvert->notebook-as-pdf) (1.1.1)\n",
      "Requirement already satisfied: nest-asyncio in c:\\users\\raman\\anaconda3\\lib\\site-packages (from nbclient<0.6.0,>=0.5.0->nbconvert->notebook-as-pdf) (1.5.1)\n",
      "Requirement already satisfied: jupyter-client>=6.1.5 in c:\\users\\raman\\anaconda3\\lib\\site-packages (from nbclient<0.6.0,>=0.5.0->nbconvert->notebook-as-pdf) (6.1.12)\n",
      "Requirement already satisfied: async-generator in c:\\users\\raman\\anaconda3\\lib\\site-packages (from nbclient<0.6.0,>=0.5.0->nbconvert->notebook-as-pdf) (1.10)\n",
      "Requirement already satisfied: tornado>=4.1 in c:\\users\\raman\\anaconda3\\lib\\site-packages (from jupyter-client>=6.1.5->nbclient<0.6.0,>=0.5.0->nbconvert->notebook-as-pdf) (6.1)\n",
      "Requirement already satisfied: pyzmq>=13 in c:\\users\\raman\\anaconda3\\lib\\site-packages (from jupyter-client>=6.1.5->nbclient<0.6.0,>=0.5.0->nbconvert->notebook-as-pdf) (22.2.1)\n",
      "Requirement already satisfied: python-dateutil>=2.1 in c:\\users\\raman\\anaconda3\\lib\\site-packages (from jupyter-client>=6.1.5->nbclient<0.6.0,>=0.5.0->nbconvert->notebook-as-pdf) (2.8.2)\n",
      "Requirement already satisfied: pywin32>=1.0 in c:\\users\\raman\\anaconda3\\lib\\site-packages (from jupyter-core->nbconvert->notebook-as-pdf) (228)\n",
      "Requirement already satisfied: jsonschema!=2.5.0,>=2.4 in c:\\users\\raman\\anaconda3\\lib\\site-packages (from nbformat>=4.4->nbconvert->notebook-as-pdf) (3.2.0)\n",
      "Requirement already satisfied: ipython-genutils in c:\\users\\raman\\anaconda3\\lib\\site-packages (from nbformat>=4.4->nbconvert->notebook-as-pdf) (0.2.0)\n",
      "Requirement already satisfied: attrs>=17.4.0 in c:\\users\\raman\\anaconda3\\lib\\site-packages (from jsonschema!=2.5.0,>=2.4->nbformat>=4.4->nbconvert->notebook-as-pdf) (21.2.0)\n",
      "Requirement already satisfied: pyrsistent>=0.14.0 in c:\\users\\raman\\anaconda3\\lib\\site-packages (from jsonschema!=2.5.0,>=2.4->nbformat>=4.4->nbconvert->notebook-as-pdf) (0.18.0)\n",
      "Requirement already satisfied: setuptools in c:\\users\\raman\\anaconda3\\lib\\site-packages (from jsonschema!=2.5.0,>=2.4->nbformat>=4.4->nbconvert->notebook-as-pdf) (58.0.4)\n",
      "Requirement already satisfied: six>=1.11.0 in c:\\users\\raman\\anaconda3\\lib\\site-packages (from jsonschema!=2.5.0,>=2.4->nbformat>=4.4->nbconvert->notebook-as-pdf) (1.16.0)\n",
      "Requirement already satisfied: packaging in c:\\users\\raman\\anaconda3\\lib\\site-packages (from bleach->nbconvert->notebook-as-pdf) (21.0)\n",
      "Requirement already satisfied: webencodings in c:\\users\\raman\\anaconda3\\lib\\site-packages (from bleach->nbconvert->notebook-as-pdf) (0.5.1)\n",
      "Requirement already satisfied: pyparsing>=2.0.2 in c:\\users\\raman\\anaconda3\\lib\\site-packages (from packaging->bleach->nbconvert->notebook-as-pdf) (3.0.4)\n",
      "Requirement already satisfied: typing-extensions>=3.10.0.0 in c:\\users\\raman\\anaconda3\\lib\\site-packages (from PyPDF2->notebook-as-pdf) (3.10.0.2)\n",
      "Requirement already satisfied: urllib3<2.0.0,>=1.25.8 in c:\\users\\raman\\anaconda3\\lib\\site-packages (from pyppeteer->notebook-as-pdf) (1.26.7)\n",
      "Requirement already satisfied: pyee<9.0.0,>=8.1.0 in c:\\users\\raman\\anaconda3\\lib\\site-packages (from pyppeteer->notebook-as-pdf) (8.2.2)\n",
      "Requirement already satisfied: certifi>=2021 in c:\\users\\raman\\anaconda3\\lib\\site-packages (from pyppeteer->notebook-as-pdf) (2021.10.8)\n",
      "Requirement already satisfied: appdirs<2.0.0,>=1.4.3 in c:\\users\\raman\\anaconda3\\lib\\site-packages (from pyppeteer->notebook-as-pdf) (1.4.4)\n",
      "Requirement already satisfied: websockets<11.0,>=10.0 in c:\\users\\raman\\anaconda3\\lib\\site-packages (from pyppeteer->notebook-as-pdf) (10.3)\n",
      "Requirement already satisfied: tqdm<5.0.0,>=4.42.1 in c:\\users\\raman\\anaconda3\\lib\\site-packages (from pyppeteer->notebook-as-pdf) (4.62.3)\n",
      "Requirement already satisfied: importlib-metadata>=1.4 in c:\\users\\raman\\anaconda3\\lib\\site-packages (from pyppeteer->notebook-as-pdf) (4.8.1)\n",
      "Requirement already satisfied: zipp>=0.5 in c:\\users\\raman\\anaconda3\\lib\\site-packages (from importlib-metadata>=1.4->pyppeteer->notebook-as-pdf) (3.6.0)\n",
      "Requirement already satisfied: colorama in c:\\users\\raman\\anaconda3\\lib\\site-packages (from tqdm<5.0.0,>=4.42.1->pyppeteer->notebook-as-pdf) (0.4.4)\n",
      "Note: you may need to restart the kernel to use updated packages.\n"
     ]
    }
   ],
   "source": [
    "pip install -U notebook-as-pdf"
   ]
  },
  {
   "cell_type": "code",
   "execution_count": null,
   "id": "e6922148",
   "metadata": {},
   "outputs": [],
   "source": []
  }
 ],
 "metadata": {
  "kernelspec": {
   "display_name": "Python 3 (ipykernel)",
   "language": "python",
   "name": "python3"
  },
  "language_info": {
   "codemirror_mode": {
    "name": "ipython",
    "version": 3
   },
   "file_extension": ".py",
   "mimetype": "text/x-python",
   "name": "python",
   "nbconvert_exporter": "python",
   "pygments_lexer": "ipython3",
   "version": "3.9.7"
  }
 },
 "nbformat": 4,
 "nbformat_minor": 5
}
