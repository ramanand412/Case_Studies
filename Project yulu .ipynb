{
 "cells": [
  {
   "cell_type": "markdown",
   "id": "fc1212c1",
   "metadata": {},
   "source": [
    "# PROJECT"
   ]
  },
  {
   "cell_type": "markdown",
   "id": "81e9cafc",
   "metadata": {},
   "source": [
    "## Name:Ramanand k"
   ]
  },
  {
   "cell_type": "markdown",
   "id": "5c8c7989",
   "metadata": {},
   "source": [
    "# Business Case: Yulu - Hypothesis Testing"
   ]
  },
  {
   "cell_type": "markdown",
   "id": "03e150f2",
   "metadata": {},
   "source": [
    "# About yulu\n",
    "\n",
    "- Yulu is India’s leading micro-mobility service provider, which offers unique vehicles for the daily commute. Starting off as a mission to eliminate traffic congestion in India, Yulu provides the safest commute solution through a user-friendly mobile app to enable shared, solo and sustainable commuting Yulu zones are located at all the appropriate locations (including metro stations, bus stands, office spaces, residential areas, corporate offices, etc) to make those first and last miles smooth, affordable, and convenient!"
   ]
  },
  {
   "cell_type": "markdown",
   "id": "deb6b15d",
   "metadata": {},
   "source": [
    "# Buisness Problem"
   ]
  },
  {
   "cell_type": "markdown",
   "id": "b9b4fbe3",
   "metadata": {},
   "source": [
    "- Yulu has recently suffered considerable dips in its revenues. They have contracted a consulting company to understand the factors on which the demand for these shared electric cycles depends. Specifically, they want to understand the factors affecting the demand for these shared electric cycles in the Indian market."
   ]
  },
  {
   "cell_type": "markdown",
   "id": "308abe8a",
   "metadata": {},
   "source": [
    "# Problem statements"
   ]
  },
  {
   "cell_type": "markdown",
   "id": "8fe96257",
   "metadata": {},
   "source": [
    "- Study the dataset for data cleaning and preprocessing\n",
    "- Understanding the correlation of the numerical data\n",
    "- Data visualisation steps like univariate,bivariate and multivariate analysis between different features\n",
    "- Performing hypothesis testing between different features\n",
    "- chi square test to check weather has any impact on the season\n",
    "- chi square test to check weather has any impact on working days\n",
    "- anova test to check bike usage has any impact on the season\n",
    "- anova test to check bike usage has any impact on the weather"
   ]
  },
  {
   "cell_type": "code",
   "execution_count": 1,
   "id": "b0f6ca3b",
   "metadata": {},
   "outputs": [],
   "source": [
    "#importing the libraries\n",
    "import pandas as pd\n",
    "import numpy as np\n",
    "import matplotlib.pyplot as plt\n",
    "import seaborn as sns"
   ]
  },
  {
   "cell_type": "code",
   "execution_count": 2,
   "id": "53563499",
   "metadata": {},
   "outputs": [],
   "source": [
    "#importing the dat\n",
    "df=pd.read_csv(\"bike_sharing.csv\")"
   ]
  },
  {
   "cell_type": "code",
   "execution_count": 3,
   "id": "33fd335a",
   "metadata": {},
   "outputs": [
    {
     "data": {
      "text/html": [
       "<div>\n",
       "<style scoped>\n",
       "    .dataframe tbody tr th:only-of-type {\n",
       "        vertical-align: middle;\n",
       "    }\n",
       "\n",
       "    .dataframe tbody tr th {\n",
       "        vertical-align: top;\n",
       "    }\n",
       "\n",
       "    .dataframe thead th {\n",
       "        text-align: right;\n",
       "    }\n",
       "</style>\n",
       "<table border=\"1\" class=\"dataframe\">\n",
       "  <thead>\n",
       "    <tr style=\"text-align: right;\">\n",
       "      <th></th>\n",
       "      <th>datetime</th>\n",
       "      <th>season</th>\n",
       "      <th>holiday</th>\n",
       "      <th>workingday</th>\n",
       "      <th>weather</th>\n",
       "      <th>temp</th>\n",
       "      <th>atemp</th>\n",
       "      <th>humidity</th>\n",
       "      <th>windspeed</th>\n",
       "      <th>casual</th>\n",
       "      <th>registered</th>\n",
       "      <th>count</th>\n",
       "    </tr>\n",
       "  </thead>\n",
       "  <tbody>\n",
       "    <tr>\n",
       "      <th>0</th>\n",
       "      <td>2011-01-01 00:00:00</td>\n",
       "      <td>1</td>\n",
       "      <td>0</td>\n",
       "      <td>0</td>\n",
       "      <td>1</td>\n",
       "      <td>9.84</td>\n",
       "      <td>14.395</td>\n",
       "      <td>81</td>\n",
       "      <td>0.0000</td>\n",
       "      <td>3</td>\n",
       "      <td>13</td>\n",
       "      <td>16</td>\n",
       "    </tr>\n",
       "    <tr>\n",
       "      <th>1</th>\n",
       "      <td>2011-01-01 01:00:00</td>\n",
       "      <td>1</td>\n",
       "      <td>0</td>\n",
       "      <td>0</td>\n",
       "      <td>1</td>\n",
       "      <td>9.02</td>\n",
       "      <td>13.635</td>\n",
       "      <td>80</td>\n",
       "      <td>0.0000</td>\n",
       "      <td>8</td>\n",
       "      <td>32</td>\n",
       "      <td>40</td>\n",
       "    </tr>\n",
       "    <tr>\n",
       "      <th>2</th>\n",
       "      <td>2011-01-01 02:00:00</td>\n",
       "      <td>1</td>\n",
       "      <td>0</td>\n",
       "      <td>0</td>\n",
       "      <td>1</td>\n",
       "      <td>9.02</td>\n",
       "      <td>13.635</td>\n",
       "      <td>80</td>\n",
       "      <td>0.0000</td>\n",
       "      <td>5</td>\n",
       "      <td>27</td>\n",
       "      <td>32</td>\n",
       "    </tr>\n",
       "    <tr>\n",
       "      <th>3</th>\n",
       "      <td>2011-01-01 03:00:00</td>\n",
       "      <td>1</td>\n",
       "      <td>0</td>\n",
       "      <td>0</td>\n",
       "      <td>1</td>\n",
       "      <td>9.84</td>\n",
       "      <td>14.395</td>\n",
       "      <td>75</td>\n",
       "      <td>0.0000</td>\n",
       "      <td>3</td>\n",
       "      <td>10</td>\n",
       "      <td>13</td>\n",
       "    </tr>\n",
       "    <tr>\n",
       "      <th>4</th>\n",
       "      <td>2011-01-01 04:00:00</td>\n",
       "      <td>1</td>\n",
       "      <td>0</td>\n",
       "      <td>0</td>\n",
       "      <td>1</td>\n",
       "      <td>9.84</td>\n",
       "      <td>14.395</td>\n",
       "      <td>75</td>\n",
       "      <td>0.0000</td>\n",
       "      <td>0</td>\n",
       "      <td>1</td>\n",
       "      <td>1</td>\n",
       "    </tr>\n",
       "    <tr>\n",
       "      <th>...</th>\n",
       "      <td>...</td>\n",
       "      <td>...</td>\n",
       "      <td>...</td>\n",
       "      <td>...</td>\n",
       "      <td>...</td>\n",
       "      <td>...</td>\n",
       "      <td>...</td>\n",
       "      <td>...</td>\n",
       "      <td>...</td>\n",
       "      <td>...</td>\n",
       "      <td>...</td>\n",
       "      <td>...</td>\n",
       "    </tr>\n",
       "    <tr>\n",
       "      <th>10881</th>\n",
       "      <td>2012-12-19 19:00:00</td>\n",
       "      <td>4</td>\n",
       "      <td>0</td>\n",
       "      <td>1</td>\n",
       "      <td>1</td>\n",
       "      <td>15.58</td>\n",
       "      <td>19.695</td>\n",
       "      <td>50</td>\n",
       "      <td>26.0027</td>\n",
       "      <td>7</td>\n",
       "      <td>329</td>\n",
       "      <td>336</td>\n",
       "    </tr>\n",
       "    <tr>\n",
       "      <th>10882</th>\n",
       "      <td>2012-12-19 20:00:00</td>\n",
       "      <td>4</td>\n",
       "      <td>0</td>\n",
       "      <td>1</td>\n",
       "      <td>1</td>\n",
       "      <td>14.76</td>\n",
       "      <td>17.425</td>\n",
       "      <td>57</td>\n",
       "      <td>15.0013</td>\n",
       "      <td>10</td>\n",
       "      <td>231</td>\n",
       "      <td>241</td>\n",
       "    </tr>\n",
       "    <tr>\n",
       "      <th>10883</th>\n",
       "      <td>2012-12-19 21:00:00</td>\n",
       "      <td>4</td>\n",
       "      <td>0</td>\n",
       "      <td>1</td>\n",
       "      <td>1</td>\n",
       "      <td>13.94</td>\n",
       "      <td>15.910</td>\n",
       "      <td>61</td>\n",
       "      <td>15.0013</td>\n",
       "      <td>4</td>\n",
       "      <td>164</td>\n",
       "      <td>168</td>\n",
       "    </tr>\n",
       "    <tr>\n",
       "      <th>10884</th>\n",
       "      <td>2012-12-19 22:00:00</td>\n",
       "      <td>4</td>\n",
       "      <td>0</td>\n",
       "      <td>1</td>\n",
       "      <td>1</td>\n",
       "      <td>13.94</td>\n",
       "      <td>17.425</td>\n",
       "      <td>61</td>\n",
       "      <td>6.0032</td>\n",
       "      <td>12</td>\n",
       "      <td>117</td>\n",
       "      <td>129</td>\n",
       "    </tr>\n",
       "    <tr>\n",
       "      <th>10885</th>\n",
       "      <td>2012-12-19 23:00:00</td>\n",
       "      <td>4</td>\n",
       "      <td>0</td>\n",
       "      <td>1</td>\n",
       "      <td>1</td>\n",
       "      <td>13.12</td>\n",
       "      <td>16.665</td>\n",
       "      <td>66</td>\n",
       "      <td>8.9981</td>\n",
       "      <td>4</td>\n",
       "      <td>84</td>\n",
       "      <td>88</td>\n",
       "    </tr>\n",
       "  </tbody>\n",
       "</table>\n",
       "<p>10886 rows × 12 columns</p>\n",
       "</div>"
      ],
      "text/plain": [
       "                  datetime  season  holiday  workingday  weather   temp  \\\n",
       "0      2011-01-01 00:00:00       1        0           0        1   9.84   \n",
       "1      2011-01-01 01:00:00       1        0           0        1   9.02   \n",
       "2      2011-01-01 02:00:00       1        0           0        1   9.02   \n",
       "3      2011-01-01 03:00:00       1        0           0        1   9.84   \n",
       "4      2011-01-01 04:00:00       1        0           0        1   9.84   \n",
       "...                    ...     ...      ...         ...      ...    ...   \n",
       "10881  2012-12-19 19:00:00       4        0           1        1  15.58   \n",
       "10882  2012-12-19 20:00:00       4        0           1        1  14.76   \n",
       "10883  2012-12-19 21:00:00       4        0           1        1  13.94   \n",
       "10884  2012-12-19 22:00:00       4        0           1        1  13.94   \n",
       "10885  2012-12-19 23:00:00       4        0           1        1  13.12   \n",
       "\n",
       "        atemp  humidity  windspeed  casual  registered  count  \n",
       "0      14.395        81     0.0000       3          13     16  \n",
       "1      13.635        80     0.0000       8          32     40  \n",
       "2      13.635        80     0.0000       5          27     32  \n",
       "3      14.395        75     0.0000       3          10     13  \n",
       "4      14.395        75     0.0000       0           1      1  \n",
       "...       ...       ...        ...     ...         ...    ...  \n",
       "10881  19.695        50    26.0027       7         329    336  \n",
       "10882  17.425        57    15.0013      10         231    241  \n",
       "10883  15.910        61    15.0013       4         164    168  \n",
       "10884  17.425        61     6.0032      12         117    129  \n",
       "10885  16.665        66     8.9981       4          84     88  \n",
       "\n",
       "[10886 rows x 12 columns]"
      ]
     },
     "execution_count": 3,
     "metadata": {},
     "output_type": "execute_result"
    }
   ],
   "source": [
    "df"
   ]
  },
  {
   "cell_type": "code",
   "execution_count": 4,
   "id": "9a3e94fd",
   "metadata": {},
   "outputs": [
    {
     "data": {
      "text/plain": [
       "(10886, 12)"
      ]
     },
     "execution_count": 4,
     "metadata": {},
     "output_type": "execute_result"
    }
   ],
   "source": [
    "#shape of the data\n",
    "df.shape"
   ]
  },
  {
   "cell_type": "code",
   "execution_count": 5,
   "id": "6a509c16",
   "metadata": {},
   "outputs": [
    {
     "data": {
      "text/plain": [
       "datetime       object\n",
       "season          int64\n",
       "holiday         int64\n",
       "workingday      int64\n",
       "weather         int64\n",
       "temp          float64\n",
       "atemp         float64\n",
       "humidity        int64\n",
       "windspeed     float64\n",
       "casual          int64\n",
       "registered      int64\n",
       "count           int64\n",
       "dtype: object"
      ]
     },
     "execution_count": 5,
     "metadata": {},
     "output_type": "execute_result"
    }
   ],
   "source": [
    "# data types of each column\n",
    "df.dtypes"
   ]
  },
  {
   "cell_type": "code",
   "execution_count": 6,
   "id": "e7cc2022",
   "metadata": {},
   "outputs": [
    {
     "name": "stdout",
     "output_type": "stream",
     "text": [
      "['2011-01-01 00:00:00' '2011-01-01 01:00:00' '2011-01-01 02:00:00' ...\n",
      " '2012-12-19 21:00:00' '2012-12-19 22:00:00' '2012-12-19 23:00:00']\n",
      "[1 2 3 4]\n",
      "[0 1]\n",
      "[0 1]\n",
      "[1 2 3 4]\n",
      "[ 9.84  9.02  8.2  13.12 15.58 14.76 17.22 18.86 18.04 16.4  13.94 12.3\n",
      " 10.66  6.56  5.74  7.38  4.92 11.48  4.1   3.28  2.46 21.32 22.96 23.78\n",
      " 24.6  19.68 22.14 20.5  27.06 26.24 25.42 27.88 28.7  30.34 31.16 29.52\n",
      " 33.62 35.26 36.9  32.8  31.98 34.44 36.08 37.72 38.54  1.64  0.82 39.36\n",
      " 41.  ]\n",
      "[14.395 13.635 12.88  17.425 19.695 16.665 21.21  22.725 21.97  20.455\n",
      " 11.365 10.605  9.85   8.335  6.82   5.305  6.06   9.09  12.12   7.575\n",
      " 15.91   3.03   3.79   4.545 15.15  18.18  25.    26.515 27.275 29.545\n",
      " 23.485 25.76  31.06  30.305 24.24  18.94  31.82  32.575 33.335 28.79\n",
      " 34.85  35.605 37.12  40.15  41.665 40.91  39.395 34.09  28.03  36.365\n",
      " 37.88  42.425 43.94  38.635  1.515  0.76   2.275 43.18  44.695 45.455]\n",
      "[ 81  80  75  86  76  77  72  82  88  87  94 100  71  66  57  46  42  39\n",
      "  44  47  50  43  40  35  30  32  64  69  55  59  63  68  74  51  56  52\n",
      "  49  48  37  33  28  38  36  93  29  53  34  54  41  45  92  62  58  61\n",
      "  60  65  70  27  25  26  31  73  21  24  23  22  19  15  67  10   8  12\n",
      "  14  13  17  16  18  20  85   0  83  84  78  79  89  97  90  96  91]\n",
      "[ 0.      6.0032 16.9979 19.0012 19.9995 12.998  15.0013  8.9981 11.0014\n",
      " 22.0028 30.0026 23.9994 27.9993 26.0027  7.0015 32.9975 36.9974 31.0009\n",
      " 35.0008 39.0007 43.9989 40.9973 51.9987 46.0022 50.0021 43.0006 56.9969\n",
      " 47.9988]\n",
      "[  3   8   5   0   2   1  12  26  29  47  35  40  41  15   9   6  11   4\n",
      "   7  16  20  19  10  13  14  18  17  21  33  23  22  28  48  52  42  24\n",
      "  30  27  32  58  62  51  25  31  59  45  73  55  68  34  38 102  84  39\n",
      "  36  43  46  60  80  83  74  37  70  81 100  99  54  88  97 144 149 124\n",
      "  98  50  72  57  71  67  95  90 126 174 168 170 175 138  92  56 111  89\n",
      "  69 139 166 219 240 147 148  78  53  63  79 114  94  85 128  93 121 156\n",
      " 135 103  44  49  64  91 119 167 181 179 161 143  75  66 109 123 113  65\n",
      "  86  82 132 129 196 142 122 106  61 107 120 195 183 206 158 137  76 115\n",
      " 150 188 193 180 127 154 108  96 110 112 169 131 176 134 162 153 210 118\n",
      " 141 146 159 178 177 136 215 198 248 225 194 237 242 235 224 236 222  77\n",
      "  87 101 145 182 171 160 133 105 104 187 221 201 205 234 185 164 200 130\n",
      " 155 116 125 204 186 214 245 218 217 152 191 256 251 262 189 212 272 223\n",
      " 208 165 229 151 117 199 140 226 286 352 357 367 291 233 190 283 295 232\n",
      " 173 184 172 320 355 326 321 354 299 227 254 260 207 274 308 288 311 253\n",
      " 197 163 275 298 282 266 220 241 230 157 293 257 269 255 228 276 332 361\n",
      " 356 331 279 203 250 259 297 265 267 192 239 238 213 264 244 243 246 289\n",
      " 287 209 263 249 247 284 327 325 312 350 258 362 310 317 268 202 294 280\n",
      " 216 292 304]\n",
      "[ 13  32  27  10   1   0   2   7   6  24  30  55  47  71  70  52  26  31\n",
      "  25  17  16   8   4  19  46  54  73  64  67  58  43  29  20   9   5   3\n",
      "  63 153  81  33  41  48  53  66 146 148 102  49  11  36  92 177  98  37\n",
      "  50  79  68 202 179 110  34  87 192 109  74  65  85 186 166 127  82  40\n",
      "  18  95 216 116  42  57  78  59 163 158  51  76 190 125 178  39  14  15\n",
      "  56  60  90  83  69  28  35  22  12  77  44  38  75 184 174 154  97 214\n",
      "  45  72 130  94 139 135 197 137 141 156 117 155 134  89  80 108  61 124\n",
      " 132 196 107 114 172 165 105 119 183 175  88  62  86 170 145 217  91 195\n",
      " 152  21 126 115 223 207 123 236 128 151 100 198 157 168  84  99 173 121\n",
      " 159  93  23 212 111 193 103 113 122 106  96 249 218 194 213 191 142 224\n",
      " 244 143 267 256 211 161 131 246 118 164 275 204 230 243 112 238 144 185\n",
      " 101 222 138 206 104 200 129 247 140 209 136 176 120 229 210 133 259 147\n",
      " 227 150 282 162 265 260 189 237 245 205 308 283 248 303 291 280 208 286\n",
      " 352 290 262 203 284 293 160 182 316 338 279 187 277 362 321 331 372 377\n",
      " 350 220 472 450 268 435 169 225 464 485 323 388 367 266 255 415 233 467\n",
      " 456 305 171 470 385 253 215 240 235 263 221 351 539 458 339 301 397 271\n",
      " 532 480 365 241 421 242 234 341 394 540 463 361 429 359 180 188 261 254\n",
      " 366 181 398 272 167 149 325 521 426 298 428 487 431 288 239 453 454 345\n",
      " 417 434 278 285 442 484 451 252 471 488 270 258 264 281 410 516 500 343\n",
      " 311 432 475 479 355 329 199 400 414 423 232 219 302 529 510 348 346 441\n",
      " 473 335 445 555 527 273 364 299 269 257 342 324 226 391 466 297 517 486\n",
      " 489 492 228 289 455 382 380 295 251 418 412 340 433 231 333 514 483 276\n",
      " 478 287 381 334 347 320 493 491 369 201 408 378 443 460 465 313 513 292\n",
      " 497 376 326 413 328 525 296 452 506 393 368 337 567 462 349 319 300 515\n",
      " 373 399 507 396 512 503 386 427 312 384 530 310 536 437 505 371 375 534\n",
      " 469 474 553 402 274 523 448 409 387 438 407 250 459 425 422 379 392 430\n",
      " 401 306 370 449 363 389 374 436 356 317 446 294 508 315 522 494 327 495\n",
      " 404 447 504 318 579 551 498 533 332 554 509 573 545 395 440 547 557 623\n",
      " 571 614 638 628 642 647 602 634 648 353 322 357 314 563 615 681 601 543\n",
      " 577 354 661 653 304 645 646 419 610 677 618 595 565 586 670 656 626 581\n",
      " 546 604 596 383 621 564 309 360 330 549 589 461 631 673 358 651 663 538\n",
      " 616 662 344 640 659 770 608 617 584 307 667 605 641 594 629 603 518 665\n",
      " 769 749 499 719 734 696 688 570 675 405 411 643 733 390 680 764 679 531\n",
      " 637 652 778 703 537 576 613 715 726 598 625 444 672 782 548 682 750 716\n",
      " 609 698 572 669 633 725 704 658 620 542 575 511 741 790 644 740 735 560\n",
      " 739 439 660 697 336 619 712 624 580 678 684 468 649 786 718 775 636 578\n",
      " 746 743 481 664 711 689 751 745 424 699 552 709 591 757 768 767 723 558\n",
      " 561 403 502 692 780 622 761 690 744 857 562 702 802 727 811 886 406 787\n",
      " 496 708 758 812 807 791 639 781 833 756 544 789 742 655 416 806 773 737\n",
      " 706 566 713 800 839 779 766 794 803 788 720 668 490 568 597 477 583 501\n",
      " 556 593 420 541 694 650 559 666 700 693 582]\n",
      "[ 16  40  32  13   1   2   3   8  14  36  56  84  94 106 110  93  67  35\n",
      "  37  34  28  39  17   9   6  20  53  70  75  59  74  76  65  30  22  31\n",
      "   5  64 154  88  44  51  61  77  72 157  52  12   4 179 100  42  57  78\n",
      "  97  63  83 212 182 112  54  48  11  33 195 115  46  79  71  62  89 190\n",
      " 169 132  43  19  95 219 122  45  86 172 163  69  23   7 210 134  73  50\n",
      "  87 187 123  15  25  98 102  55  10  49  82  92  41  38 188  47 178 155\n",
      "  24  18  27  99 217 130 136  29 128  81  68 139 137 202  60 162 144 158\n",
      " 117  90 159 101 118 129  26 104  91 113 105  21  80 125 133 197 109 161\n",
      " 135 116 176 168 108 103 175 147  96 220 127 205 174 121 230  66 114 216\n",
      " 243 152 199  58 166 170 165 160 140 211 120 145 256 126 223  85 206 124\n",
      " 255 222 285 146 274 272 185 191 232 327 224 107 119 196 171 214 242 148\n",
      " 268 201 150 111 167 228 198 204 164 233 257 151 248 235 141 249 194 259\n",
      " 156 153 244 213 181 221 250 304 241 271 282 225 253 237 299 142 313 310\n",
      " 207 138 280 173 332 331 149 267 301 312 278 281 184 215 367 349 292 303\n",
      " 339 143 189 366 386 273 325 356 314 343 333 226 203 177 263 297 288 236\n",
      " 240 131 452 383 284 291 309 321 193 337 388 300 200 180 209 354 361 306\n",
      " 277 428 362 286 351 192 411 421 276 264 238 266 371 269 537 518 218 265\n",
      " 459 186 517 544 365 290 410 396 296 440 533 520 258 450 246 260 344 553\n",
      " 470 298 347 373 436 378 342 289 340 382 390 358 385 239 374 598 524 384\n",
      " 425 611 550 434 318 442 401 234 594 527 364 387 491 398 270 279 294 295\n",
      " 322 456 437 392 231 394 453 308 604 480 283 565 489 487 183 302 547 513\n",
      " 454 486 467 572 525 379 502 558 564 391 293 247 317 369 420 451 404 341\n",
      " 251 335 417 363 357 438 579 556 407 336 334 477 539 551 424 346 353 481\n",
      " 506 432 409 466 326 254 463 380 275 311 315 360 350 252 328 476 227 601\n",
      " 586 423 330 569 538 370 498 638 607 416 261 355 552 208 468 449 381 377\n",
      " 397 492 427 461 422 305 375 376 414 447 408 418 457 545 496 368 245 596\n",
      " 563 443 562 229 316 402 287 372 514 472 511 488 419 595 578 400 348 587\n",
      " 497 433 475 406 430 324 262 323 412 530 543 413 435 555 523 441 529 532\n",
      " 585 399 584 559 307 582 571 426 516 465 329 483 600 570 628 531 455 389\n",
      " 505 359 431 460 590 429 599 338 566 482 568 540 495 345 591 593 446 485\n",
      " 393 500 473 352 320 479 444 462 405 620 499 625 395 528 319 519 445 512\n",
      " 471 508 526 509 484 448 515 549 501 612 597 464 644 712 676 734 662 782\n",
      " 749 623 713 746 651 686 690 679 685 648 560 503 521 554 541 721 801 561\n",
      " 573 589 729 618 494 757 800 684 744 759 822 698 490 536 655 643 626 615\n",
      " 567 617 632 646 692 704 624 656 610 738 671 678 660 658 635 681 616 522\n",
      " 673 781 775 576 677 748 776 557 743 666 813 504 627 706 641 575 639 769\n",
      " 680 546 717 710 458 622 705 630 732 770 439 779 659 602 478 733 650 873\n",
      " 846 474 634 852 868 745 812 669 642 730 672 645 694 493 668 647 702 665\n",
      " 834 850 790 415 724 869 700 793 723 534 831 613 653 857 719 867 823 403\n",
      " 693 603 583 542 614 580 811 795 747 581 722 689 849 872 631 649 819 674\n",
      " 830 814 633 825 629 835 667 755 794 661 772 657 771 777 837 891 652 739\n",
      " 865 767 741 469 605 858 843 640 737 862 810 577 818 854 682 851 848 897\n",
      " 832 791 654 856 839 725 863 808 792 696 701 871 968 750 970 877 925 977\n",
      " 758 884 766 894 715 783 683 842 774 797 886 892 784 687 809 917 901 887\n",
      " 785 900 761 806 507 948 844 798 827 670 637 619 592 943 838 817 888 890\n",
      " 788 588 606 608 691 711 663 731 708 609 688 636]\n"
     ]
    }
   ],
   "source": [
    "# unique values for each features\n",
    "for i in df.columns:\n",
    "    print(df[i].unique())"
   ]
  },
  {
   "cell_type": "code",
   "execution_count": 7,
   "id": "6ad45fbd",
   "metadata": {},
   "outputs": [
    {
     "name": "stdout",
     "output_type": "stream",
     "text": [
      "2011-01-01 00:00:00    1\n",
      "2012-05-01 21:00:00    1\n",
      "2012-05-01 13:00:00    1\n",
      "2012-05-01 14:00:00    1\n",
      "2012-05-01 15:00:00    1\n",
      "                      ..\n",
      "2011-09-02 04:00:00    1\n",
      "2011-09-02 05:00:00    1\n",
      "2011-09-02 06:00:00    1\n",
      "2011-09-02 07:00:00    1\n",
      "2012-12-19 23:00:00    1\n",
      "Name: datetime, Length: 10886, dtype: int64\n",
      "4    2734\n",
      "2    2733\n",
      "3    2733\n",
      "1    2686\n",
      "Name: season, dtype: int64\n",
      "0    10575\n",
      "1      311\n",
      "Name: holiday, dtype: int64\n",
      "1    7412\n",
      "0    3474\n",
      "Name: workingday, dtype: int64\n",
      "1    7192\n",
      "2    2834\n",
      "3     859\n",
      "4       1\n",
      "Name: weather, dtype: int64\n",
      "14.76    467\n",
      "26.24    453\n",
      "28.70    427\n",
      "13.94    413\n",
      "18.86    406\n",
      "22.14    403\n",
      "25.42    403\n",
      "16.40    400\n",
      "22.96    395\n",
      "27.06    394\n",
      "24.60    390\n",
      "12.30    385\n",
      "21.32    362\n",
      "17.22    356\n",
      "13.12    356\n",
      "29.52    353\n",
      "10.66    332\n",
      "18.04    328\n",
      "20.50    327\n",
      "30.34    299\n",
      "9.84     294\n",
      "15.58    255\n",
      "9.02     248\n",
      "31.16    242\n",
      "8.20     229\n",
      "27.88    224\n",
      "23.78    203\n",
      "32.80    202\n",
      "11.48    181\n",
      "19.68    170\n",
      "6.56     146\n",
      "33.62    130\n",
      "5.74     107\n",
      "7.38     106\n",
      "31.98     98\n",
      "34.44     80\n",
      "35.26     76\n",
      "4.92      60\n",
      "36.90     46\n",
      "4.10      44\n",
      "37.72     34\n",
      "36.08     23\n",
      "3.28      11\n",
      "0.82       7\n",
      "38.54      7\n",
      "39.36      6\n",
      "2.46       5\n",
      "1.64       2\n",
      "41.00      1\n",
      "Name: temp, dtype: int64\n",
      "31.060    671\n",
      "25.760    423\n",
      "22.725    406\n",
      "20.455    400\n",
      "26.515    395\n",
      "16.665    381\n",
      "25.000    365\n",
      "33.335    364\n",
      "21.210    356\n",
      "30.305    350\n",
      "15.150    338\n",
      "21.970    328\n",
      "24.240    327\n",
      "17.425    314\n",
      "31.820    299\n",
      "34.850    283\n",
      "27.275    282\n",
      "32.575    272\n",
      "11.365    271\n",
      "14.395    269\n",
      "29.545    257\n",
      "19.695    255\n",
      "15.910    254\n",
      "12.880    247\n",
      "13.635    237\n",
      "34.090    224\n",
      "12.120    195\n",
      "28.790    175\n",
      "23.485    170\n",
      "10.605    166\n",
      "35.605    159\n",
      "9.850     127\n",
      "18.180    123\n",
      "36.365    123\n",
      "37.120    118\n",
      "9.090     107\n",
      "37.880     97\n",
      "28.030     80\n",
      "7.575      75\n",
      "38.635     74\n",
      "6.060      73\n",
      "39.395     67\n",
      "6.820      63\n",
      "8.335      63\n",
      "18.940     45\n",
      "40.150     45\n",
      "40.910     39\n",
      "5.305      25\n",
      "42.425     24\n",
      "41.665     23\n",
      "3.790      16\n",
      "4.545      11\n",
      "3.030       7\n",
      "43.940      7\n",
      "2.275       7\n",
      "43.180      7\n",
      "44.695      3\n",
      "0.760       2\n",
      "1.515       1\n",
      "45.455      1\n",
      "Name: atemp, dtype: int64\n",
      "88    368\n",
      "94    324\n",
      "83    316\n",
      "87    289\n",
      "70    259\n",
      "     ... \n",
      "8       1\n",
      "10      1\n",
      "97      1\n",
      "96      1\n",
      "91      1\n",
      "Name: humidity, Length: 89, dtype: int64\n",
      "0.0000     1313\n",
      "8.9981     1120\n",
      "11.0014    1057\n",
      "12.9980    1042\n",
      "7.0015     1034\n",
      "15.0013     961\n",
      "6.0032      872\n",
      "16.9979     824\n",
      "19.0012     676\n",
      "19.9995     492\n",
      "22.0028     372\n",
      "23.9994     274\n",
      "26.0027     235\n",
      "27.9993     187\n",
      "30.0026     111\n",
      "31.0009      89\n",
      "32.9975      80\n",
      "35.0008      58\n",
      "39.0007      27\n",
      "36.9974      22\n",
      "43.0006      12\n",
      "40.9973      11\n",
      "43.9989       8\n",
      "46.0022       3\n",
      "56.9969       2\n",
      "47.9988       2\n",
      "51.9987       1\n",
      "50.0021       1\n",
      "Name: windspeed, dtype: int64\n",
      "0      986\n",
      "1      667\n",
      "2      487\n",
      "3      438\n",
      "4      354\n",
      "      ... \n",
      "332      1\n",
      "361      1\n",
      "356      1\n",
      "331      1\n",
      "304      1\n",
      "Name: casual, Length: 309, dtype: int64\n",
      "3      195\n",
      "4      190\n",
      "5      177\n",
      "6      155\n",
      "2      150\n",
      "      ... \n",
      "570      1\n",
      "422      1\n",
      "678      1\n",
      "565      1\n",
      "636      1\n",
      "Name: registered, Length: 731, dtype: int64\n",
      "5      169\n",
      "4      149\n",
      "3      144\n",
      "6      135\n",
      "2      132\n",
      "      ... \n",
      "801      1\n",
      "629      1\n",
      "825      1\n",
      "589      1\n",
      "636      1\n",
      "Name: count, Length: 822, dtype: int64\n"
     ]
    }
   ],
   "source": [
    "# counts of each value\n",
    "for i in df.columns:\n",
    "    print(df[i].value_counts())"
   ]
  },
  {
   "cell_type": "code",
   "execution_count": 8,
   "id": "83ecd06f",
   "metadata": {},
   "outputs": [
    {
     "data": {
      "text/html": [
       "<div>\n",
       "<style scoped>\n",
       "    .dataframe tbody tr th:only-of-type {\n",
       "        vertical-align: middle;\n",
       "    }\n",
       "\n",
       "    .dataframe tbody tr th {\n",
       "        vertical-align: top;\n",
       "    }\n",
       "\n",
       "    .dataframe thead th {\n",
       "        text-align: right;\n",
       "    }\n",
       "</style>\n",
       "<table border=\"1\" class=\"dataframe\">\n",
       "  <thead>\n",
       "    <tr style=\"text-align: right;\">\n",
       "      <th></th>\n",
       "      <th>season</th>\n",
       "      <th>holiday</th>\n",
       "      <th>workingday</th>\n",
       "      <th>weather</th>\n",
       "      <th>temp</th>\n",
       "      <th>atemp</th>\n",
       "      <th>humidity</th>\n",
       "      <th>windspeed</th>\n",
       "      <th>casual</th>\n",
       "      <th>registered</th>\n",
       "      <th>count</th>\n",
       "    </tr>\n",
       "  </thead>\n",
       "  <tbody>\n",
       "    <tr>\n",
       "      <th>count</th>\n",
       "      <td>10886.000000</td>\n",
       "      <td>10886.000000</td>\n",
       "      <td>10886.000000</td>\n",
       "      <td>10886.000000</td>\n",
       "      <td>10886.00000</td>\n",
       "      <td>10886.000000</td>\n",
       "      <td>10886.000000</td>\n",
       "      <td>10886.000000</td>\n",
       "      <td>10886.000000</td>\n",
       "      <td>10886.000000</td>\n",
       "      <td>10886.000000</td>\n",
       "    </tr>\n",
       "    <tr>\n",
       "      <th>mean</th>\n",
       "      <td>2.506614</td>\n",
       "      <td>0.028569</td>\n",
       "      <td>0.680875</td>\n",
       "      <td>1.418427</td>\n",
       "      <td>20.23086</td>\n",
       "      <td>23.655084</td>\n",
       "      <td>61.886460</td>\n",
       "      <td>12.799395</td>\n",
       "      <td>36.021955</td>\n",
       "      <td>155.552177</td>\n",
       "      <td>191.574132</td>\n",
       "    </tr>\n",
       "    <tr>\n",
       "      <th>std</th>\n",
       "      <td>1.116174</td>\n",
       "      <td>0.166599</td>\n",
       "      <td>0.466159</td>\n",
       "      <td>0.633839</td>\n",
       "      <td>7.79159</td>\n",
       "      <td>8.474601</td>\n",
       "      <td>19.245033</td>\n",
       "      <td>8.164537</td>\n",
       "      <td>49.960477</td>\n",
       "      <td>151.039033</td>\n",
       "      <td>181.144454</td>\n",
       "    </tr>\n",
       "    <tr>\n",
       "      <th>min</th>\n",
       "      <td>1.000000</td>\n",
       "      <td>0.000000</td>\n",
       "      <td>0.000000</td>\n",
       "      <td>1.000000</td>\n",
       "      <td>0.82000</td>\n",
       "      <td>0.760000</td>\n",
       "      <td>0.000000</td>\n",
       "      <td>0.000000</td>\n",
       "      <td>0.000000</td>\n",
       "      <td>0.000000</td>\n",
       "      <td>1.000000</td>\n",
       "    </tr>\n",
       "    <tr>\n",
       "      <th>25%</th>\n",
       "      <td>2.000000</td>\n",
       "      <td>0.000000</td>\n",
       "      <td>0.000000</td>\n",
       "      <td>1.000000</td>\n",
       "      <td>13.94000</td>\n",
       "      <td>16.665000</td>\n",
       "      <td>47.000000</td>\n",
       "      <td>7.001500</td>\n",
       "      <td>4.000000</td>\n",
       "      <td>36.000000</td>\n",
       "      <td>42.000000</td>\n",
       "    </tr>\n",
       "    <tr>\n",
       "      <th>50%</th>\n",
       "      <td>3.000000</td>\n",
       "      <td>0.000000</td>\n",
       "      <td>1.000000</td>\n",
       "      <td>1.000000</td>\n",
       "      <td>20.50000</td>\n",
       "      <td>24.240000</td>\n",
       "      <td>62.000000</td>\n",
       "      <td>12.998000</td>\n",
       "      <td>17.000000</td>\n",
       "      <td>118.000000</td>\n",
       "      <td>145.000000</td>\n",
       "    </tr>\n",
       "    <tr>\n",
       "      <th>75%</th>\n",
       "      <td>4.000000</td>\n",
       "      <td>0.000000</td>\n",
       "      <td>1.000000</td>\n",
       "      <td>2.000000</td>\n",
       "      <td>26.24000</td>\n",
       "      <td>31.060000</td>\n",
       "      <td>77.000000</td>\n",
       "      <td>16.997900</td>\n",
       "      <td>49.000000</td>\n",
       "      <td>222.000000</td>\n",
       "      <td>284.000000</td>\n",
       "    </tr>\n",
       "    <tr>\n",
       "      <th>max</th>\n",
       "      <td>4.000000</td>\n",
       "      <td>1.000000</td>\n",
       "      <td>1.000000</td>\n",
       "      <td>4.000000</td>\n",
       "      <td>41.00000</td>\n",
       "      <td>45.455000</td>\n",
       "      <td>100.000000</td>\n",
       "      <td>56.996900</td>\n",
       "      <td>367.000000</td>\n",
       "      <td>886.000000</td>\n",
       "      <td>977.000000</td>\n",
       "    </tr>\n",
       "  </tbody>\n",
       "</table>\n",
       "</div>"
      ],
      "text/plain": [
       "             season       holiday    workingday       weather         temp  \\\n",
       "count  10886.000000  10886.000000  10886.000000  10886.000000  10886.00000   \n",
       "mean       2.506614      0.028569      0.680875      1.418427     20.23086   \n",
       "std        1.116174      0.166599      0.466159      0.633839      7.79159   \n",
       "min        1.000000      0.000000      0.000000      1.000000      0.82000   \n",
       "25%        2.000000      0.000000      0.000000      1.000000     13.94000   \n",
       "50%        3.000000      0.000000      1.000000      1.000000     20.50000   \n",
       "75%        4.000000      0.000000      1.000000      2.000000     26.24000   \n",
       "max        4.000000      1.000000      1.000000      4.000000     41.00000   \n",
       "\n",
       "              atemp      humidity     windspeed        casual    registered  \\\n",
       "count  10886.000000  10886.000000  10886.000000  10886.000000  10886.000000   \n",
       "mean      23.655084     61.886460     12.799395     36.021955    155.552177   \n",
       "std        8.474601     19.245033      8.164537     49.960477    151.039033   \n",
       "min        0.760000      0.000000      0.000000      0.000000      0.000000   \n",
       "25%       16.665000     47.000000      7.001500      4.000000     36.000000   \n",
       "50%       24.240000     62.000000     12.998000     17.000000    118.000000   \n",
       "75%       31.060000     77.000000     16.997900     49.000000    222.000000   \n",
       "max       45.455000    100.000000     56.996900    367.000000    886.000000   \n",
       "\n",
       "              count  \n",
       "count  10886.000000  \n",
       "mean     191.574132  \n",
       "std      181.144454  \n",
       "min        1.000000  \n",
       "25%       42.000000  \n",
       "50%      145.000000  \n",
       "75%      284.000000  \n",
       "max      977.000000  "
      ]
     },
     "execution_count": 8,
     "metadata": {},
     "output_type": "execute_result"
    }
   ],
   "source": [
    "#statistical summary of the data\n",
    "df.describe()"
   ]
  },
  {
   "cell_type": "code",
   "execution_count": 9,
   "id": "c303419c",
   "metadata": {},
   "outputs": [
    {
     "data": {
      "text/plain": [
       "0"
      ]
     },
     "execution_count": 9,
     "metadata": {},
     "output_type": "execute_result"
    }
   ],
   "source": [
    "#total no of duplicate values\n",
    "df.duplicated().sum()"
   ]
  },
  {
   "cell_type": "code",
   "execution_count": 10,
   "id": "40579fbe",
   "metadata": {},
   "outputs": [],
   "source": [
    "# there is no duplicate values"
   ]
  },
  {
   "cell_type": "code",
   "execution_count": 11,
   "id": "54d869be",
   "metadata": {},
   "outputs": [
    {
     "data": {
      "text/plain": [
       "datetime      0\n",
       "season        0\n",
       "holiday       0\n",
       "workingday    0\n",
       "weather       0\n",
       "temp          0\n",
       "atemp         0\n",
       "humidity      0\n",
       "windspeed     0\n",
       "casual        0\n",
       "registered    0\n",
       "count         0\n",
       "dtype: int64"
      ]
     },
     "execution_count": 11,
     "metadata": {},
     "output_type": "execute_result"
    }
   ],
   "source": [
    "#total no of null values\n",
    "df.isnull().sum()"
   ]
  },
  {
   "cell_type": "code",
   "execution_count": 12,
   "id": "7f76f7cf",
   "metadata": {},
   "outputs": [],
   "source": [
    "#changing datetime to date time format\n",
    "df[\"datetime\"]=pd.to_datetime(df[\"datetime\"])"
   ]
  },
  {
   "cell_type": "markdown",
   "id": "cbf6d800",
   "metadata": {},
   "source": [
    "# Univariate Analysis"
   ]
  },
  {
   "cell_type": "markdown",
   "id": "c5478e01",
   "metadata": {},
   "source": [
    "# Histogram of Features"
   ]
  },
  {
   "cell_type": "code",
   "execution_count": 13,
   "id": "4fa5c096",
   "metadata": {},
   "outputs": [
    {
     "data": {
      "image/png": "[encoded data removed]",
      "text/plain": [
       "<Figure size 1440x1440 with 10 Axes>"
      ]
     },
     "metadata": {
      "needs_background": "light"
     },
     "output_type": "display_data"
    }
   ],
   "source": [
    "lst=['season','holiday','workingday','weather','temp','atemp','humidity','windspeed','casual','registered']\n",
    "fig,axs=plt.subplots(nrows=5,ncols=2,figsize=(20,20))\n",
    "count=0\n",
    "for row in range(5):\n",
    "    for col in range(2):\n",
    "        sns.histplot(data=df,x=lst[count],ax=axs[row,col],palette='Set4')\n",
    "        count=count+1\n",
    "plt.show()"
   ]
  },
  {
   "cell_type": "markdown",
   "id": "5a958cf0",
   "metadata": {},
   "source": [
    "# Bivariate and Multivariate Analysis"
   ]
  },
  {
   "cell_type": "markdown",
   "id": "742774f0",
   "metadata": {},
   "source": [
    "# Effect of weather on count"
   ]
  },
  {
   "cell_type": "code",
   "execution_count": 14,
   "id": "91734e8a",
   "metadata": {},
   "outputs": [
    {
     "data": {
      "text/plain": [
       "weather\n",
       "1    1476063\n",
       "2     507160\n",
       "3     102089\n",
       "4        164\n",
       "Name: count, dtype: int64"
      ]
     },
     "execution_count": 14,
     "metadata": {},
     "output_type": "execute_result"
    }
   ],
   "source": [
    "df.groupby(\"weather\")[\"count\"].sum()"
   ]
  },
  {
   "cell_type": "code",
   "execution_count": 15,
   "id": "240e573e",
   "metadata": {},
   "outputs": [
    {
     "data": {
      "text/plain": [
       "<AxesSubplot:xlabel='weather'>"
      ]
     },
     "execution_count": 15,
     "metadata": {},
     "output_type": "execute_result"
    },
    {
     "data": {
      "image/png": "[encoded data removed]",
      "text/plain": [
       "<Figure size 720x288 with 1 Axes>"
      ]
     },
     "metadata": {
      "needs_background": "light"
     },
     "output_type": "display_data"
    }
   ],
   "source": [
    "plt.figure(figsize=(10,4))\n",
    "df.groupby(\"weather\")[\"count\"].sum().plot.bar()"
   ]
  },
  {
   "cell_type": "markdown",
   "id": "084624ae",
   "metadata": {},
   "source": [
    "#### total users on weather 1 is higher than others\n",
    "#### total users on weather 4 is very less"
   ]
  },
  {
   "cell_type": "markdown",
   "id": "410c5356",
   "metadata": {},
   "source": [
    "# Average  user on each weather"
   ]
  },
  {
   "cell_type": "code",
   "execution_count": 16,
   "id": "b7bc9ad4",
   "metadata": {},
   "outputs": [
    {
     "data": {
      "text/plain": [
       "weather\n",
       "1    205.236791\n",
       "2    178.955540\n",
       "3    118.846333\n",
       "4    164.000000\n",
       "Name: count, dtype: float64"
      ]
     },
     "execution_count": 16,
     "metadata": {},
     "output_type": "execute_result"
    }
   ],
   "source": [
    "df.groupby(\"weather\")[\"count\"].mean()"
   ]
  },
  {
   "cell_type": "code",
   "execution_count": 17,
   "id": "f7c16b57",
   "metadata": {},
   "outputs": [
    {
     "data": {
      "text/plain": [
       "<AxesSubplot:ylabel='count'>"
      ]
     },
     "execution_count": 17,
     "metadata": {},
     "output_type": "execute_result"
    },
    {
     "data": {
      "image/png": "[encoded data removed]",
      "text/plain": [
       "<Figure size 864x576 with 1 Axes>"
      ]
     },
     "metadata": {},
     "output_type": "display_data"
    }
   ],
   "source": [
    "df.groupby(\"weather\")[\"count\"].mean().plot(kind=\"pie\",figsize=(12,8),autopct=\"%1.1f%%\")"
   ]
  },
  {
   "cell_type": "markdown",
   "id": "849f5868",
   "metadata": {},
   "source": [
    "#### average user per weather is higher on weather 1 about 31% users\n",
    "#### average user per weather is lower on weather 3 about 18% users"
   ]
  },
  {
   "cell_type": "markdown",
   "id": "f6f8b48b",
   "metadata": {},
   "source": [
    "# Effect of season"
   ]
  },
  {
   "cell_type": "code",
   "execution_count": 18,
   "id": "0ea031d0",
   "metadata": {},
   "outputs": [
    {
     "data": {
      "text/html": [
       "<div>\n",
       "<style scoped>\n",
       "    .dataframe tbody tr th:only-of-type {\n",
       "        vertical-align: middle;\n",
       "    }\n",
       "\n",
       "    .dataframe tbody tr th {\n",
       "        vertical-align: top;\n",
       "    }\n",
       "\n",
       "    .dataframe thead th {\n",
       "        text-align: right;\n",
       "    }\n",
       "</style>\n",
       "<table border=\"1\" class=\"dataframe\">\n",
       "  <thead>\n",
       "    <tr style=\"text-align: right;\">\n",
       "      <th></th>\n",
       "      <th>season</th>\n",
       "      <th>count</th>\n",
       "    </tr>\n",
       "  </thead>\n",
       "  <tbody>\n",
       "    <tr>\n",
       "      <th>0</th>\n",
       "      <td>1</td>\n",
       "      <td>312498</td>\n",
       "    </tr>\n",
       "    <tr>\n",
       "      <th>1</th>\n",
       "      <td>2</td>\n",
       "      <td>588282</td>\n",
       "    </tr>\n",
       "    <tr>\n",
       "      <th>2</th>\n",
       "      <td>3</td>\n",
       "      <td>640662</td>\n",
       "    </tr>\n",
       "    <tr>\n",
       "      <th>3</th>\n",
       "      <td>4</td>\n",
       "      <td>544034</td>\n",
       "    </tr>\n",
       "  </tbody>\n",
       "</table>\n",
       "</div>"
      ],
      "text/plain": [
       "   season   count\n",
       "0       1  312498\n",
       "1       2  588282\n",
       "2       3  640662\n",
       "3       4  544034"
      ]
     },
     "execution_count": 18,
     "metadata": {},
     "output_type": "execute_result"
    }
   ],
   "source": [
    "a=df.groupby(\"season\")[\"count\"].sum().reset_index()\n",
    "a"
   ]
  },
  {
   "cell_type": "code",
   "execution_count": 19,
   "id": "35ca9371",
   "metadata": {},
   "outputs": [
    {
     "data": {
      "text/plain": [
       "<AxesSubplot:xlabel='season', ylabel='count'>"
      ]
     },
     "execution_count": 19,
     "metadata": {},
     "output_type": "execute_result"
    },
    {
     "data": {
      "image/png": "[encoded data removed]",
      "text/plain": [
       "<Figure size 432x288 with 1 Axes>"
      ]
     },
     "metadata": {
      "needs_background": "light"
     },
     "output_type": "display_data"
    }
   ],
   "source": [
    "sns.barplot(data=a,x=\"season\",y=\"count\")"
   ]
  },
  {
   "cell_type": "markdown",
   "id": "89bf7cd8",
   "metadata": {},
   "source": [
    "#### total no of users maximum in season 3\n",
    "#### total no of users minimum in season 1"
   ]
  },
  {
   "cell_type": "markdown",
   "id": "e5d5ae4c",
   "metadata": {},
   "source": [
    "# Average user on each season"
   ]
  },
  {
   "cell_type": "code",
   "execution_count": 20,
   "id": "0a1b6f7f",
   "metadata": {},
   "outputs": [
    {
     "data": {
      "text/html": [
       "<div>\n",
       "<style scoped>\n",
       "    .dataframe tbody tr th:only-of-type {\n",
       "        vertical-align: middle;\n",
       "    }\n",
       "\n",
       "    .dataframe tbody tr th {\n",
       "        vertical-align: top;\n",
       "    }\n",
       "\n",
       "    .dataframe thead th {\n",
       "        text-align: right;\n",
       "    }\n",
       "</style>\n",
       "<table border=\"1\" class=\"dataframe\">\n",
       "  <thead>\n",
       "    <tr style=\"text-align: right;\">\n",
       "      <th></th>\n",
       "      <th>season</th>\n",
       "      <th>count</th>\n",
       "      <th>percent_user</th>\n",
       "    </tr>\n",
       "  </thead>\n",
       "  <tbody>\n",
       "    <tr>\n",
       "      <th>0</th>\n",
       "      <td>1</td>\n",
       "      <td>116.343261</td>\n",
       "      <td>15.21</td>\n",
       "    </tr>\n",
       "    <tr>\n",
       "      <th>1</th>\n",
       "      <td>2</td>\n",
       "      <td>215.251372</td>\n",
       "      <td>28.14</td>\n",
       "    </tr>\n",
       "    <tr>\n",
       "      <th>2</th>\n",
       "      <td>3</td>\n",
       "      <td>234.417124</td>\n",
       "      <td>30.64</td>\n",
       "    </tr>\n",
       "    <tr>\n",
       "      <th>3</th>\n",
       "      <td>4</td>\n",
       "      <td>198.988296</td>\n",
       "      <td>26.01</td>\n",
       "    </tr>\n",
       "  </tbody>\n",
       "</table>\n",
       "</div>"
      ],
      "text/plain": [
       "   season       count  percent_user\n",
       "0       1  116.343261         15.21\n",
       "1       2  215.251372         28.14\n",
       "2       3  234.417124         30.64\n",
       "3       4  198.988296         26.01"
      ]
     },
     "execution_count": 20,
     "metadata": {},
     "output_type": "execute_result"
    }
   ],
   "source": [
    "a=df.groupby(\"season\")[\"count\"].mean().reset_index()\n",
    "a[\"percent_user\"]=(a[\"count\"]/a.sum()[1]*100).round(2)\n",
    "a"
   ]
  },
  {
   "cell_type": "code",
   "execution_count": 21,
   "id": "98dc7bbf",
   "metadata": {},
   "outputs": [
    {
     "data": {
      "text/plain": [
       "<AxesSubplot:ylabel='count'>"
      ]
     },
     "execution_count": 21,
     "metadata": {},
     "output_type": "execute_result"
    },
    {
     "data": {
      "image/png": "[encoded data removed]",
      "text/plain": [
       "<Figure size 864x576 with 1 Axes>"
      ]
     },
     "metadata": {},
     "output_type": "display_data"
    }
   ],
   "source": [
    "df.groupby(\"season\")[\"count\"].mean().plot(kind=\"pie\",figsize=(12,8),autopct=\"%1.1f%%\")"
   ]
  },
  {
   "cell_type": "markdown",
   "id": "bf329063",
   "metadata": {},
   "source": [
    "#### Average no of users maximum in season3 nearly 30% followed by season 2 nearly 28%\n",
    "#### Average no of users minimum in season1 nearly 15%"
   ]
  },
  {
   "cell_type": "markdown",
   "id": "39b71fb7",
   "metadata": {},
   "source": [
    "# No of user in holidays and working days"
   ]
  },
  {
   "cell_type": "code",
   "execution_count": 22,
   "id": "b024bc46",
   "metadata": {},
   "outputs": [
    {
     "data": {
      "text/html": [
       "<div>\n",
       "<style scoped>\n",
       "    .dataframe tbody tr th:only-of-type {\n",
       "        vertical-align: middle;\n",
       "    }\n",
       "\n",
       "    .dataframe tbody tr th {\n",
       "        vertical-align: top;\n",
       "    }\n",
       "\n",
       "    .dataframe thead th {\n",
       "        text-align: right;\n",
       "    }\n",
       "</style>\n",
       "<table border=\"1\" class=\"dataframe\">\n",
       "  <thead>\n",
       "    <tr style=\"text-align: right;\">\n",
       "      <th></th>\n",
       "      <th>workingday</th>\n",
       "      <th>count</th>\n",
       "      <th>Percentage</th>\n",
       "    </tr>\n",
       "  </thead>\n",
       "  <tbody>\n",
       "    <tr>\n",
       "      <th>0</th>\n",
       "      <td>0</td>\n",
       "      <td>3474</td>\n",
       "      <td>31.91</td>\n",
       "    </tr>\n",
       "    <tr>\n",
       "      <th>1</th>\n",
       "      <td>1</td>\n",
       "      <td>7412</td>\n",
       "      <td>68.09</td>\n",
       "    </tr>\n",
       "  </tbody>\n",
       "</table>\n",
       "</div>"
      ],
      "text/plain": [
       "   workingday  count  Percentage\n",
       "0           0   3474       31.91\n",
       "1           1   7412       68.09"
      ]
     },
     "execution_count": 22,
     "metadata": {},
     "output_type": "execute_result"
    }
   ],
   "source": [
    "d=df.groupby(\"workingday\")[\"count\"].count().reset_index()\n",
    "d['Percentage']=(d[\"count\"]/d.sum()[1]*100).round(2)\n",
    "d"
   ]
  },
  {
   "cell_type": "code",
   "execution_count": 23,
   "id": "b14ef257",
   "metadata": {},
   "outputs": [
    {
     "data": {
      "text/plain": [
       "<AxesSubplot:ylabel='count'>"
      ]
     },
     "execution_count": 23,
     "metadata": {},
     "output_type": "execute_result"
    },
    {
     "data": {
      "image/png": "[encoded data removed]",
      "text/plain": [
       "<Figure size 864x576 with 1 Axes>"
      ]
     },
     "metadata": {},
     "output_type": "display_data"
    }
   ],
   "source": [
    "df.groupby(\"workingday\")[\"count\"].sum().plot(kind=\"pie\",figsize=(12,8),autopct=\"%1.1f%%\")"
   ]
  },
  {
   "cell_type": "markdown",
   "id": "9acf01a8",
   "metadata": {},
   "source": [
    "#### About 68% of user used in working days and about 32% users used in holidays\n",
    "#### so working days has most no of users"
   ]
  },
  {
   "cell_type": "markdown",
   "id": "970ed5ac",
   "metadata": {},
   "source": [
    "# Effect of humidity on user count"
   ]
  },
  {
   "cell_type": "code",
   "execution_count": 24,
   "id": "a360dfa7",
   "metadata": {},
   "outputs": [
    {
     "data": {
      "text/plain": [
       "<AxesSubplot:xlabel='humidity', ylabel='count'>"
      ]
     },
     "execution_count": 24,
     "metadata": {},
     "output_type": "execute_result"
    },
    {
     "data": {
      "image/png": "[encoded data removed]",
      "text/plain": [
       "<Figure size 1152x576 with 1 Axes>"
      ]
     },
     "metadata": {
      "needs_background": "light"
     },
     "output_type": "display_data"
    }
   ],
   "source": [
    "plt.figure(figsize=(16,8))\n",
    "sns.lineplot(data=df,x=\"humidity\",y=\"count\")"
   ]
  },
  {
   "cell_type": "markdown",
   "id": "98cb17b9",
   "metadata": {},
   "source": [
    "### Maximum no of users found in humidity between 20-40 after a slight decrease in no of users also can be seen in the graph"
   ]
  },
  {
   "cell_type": "markdown",
   "id": "b7dc919c",
   "metadata": {},
   "source": [
    "# Effect of windspeed on user count"
   ]
  },
  {
   "cell_type": "code",
   "execution_count": 25,
   "id": "50dc29ee",
   "metadata": {},
   "outputs": [
    {
     "data": {
      "text/html": [
       "<div>\n",
       "<style scoped>\n",
       "    .dataframe tbody tr th:only-of-type {\n",
       "        vertical-align: middle;\n",
       "    }\n",
       "\n",
       "    .dataframe tbody tr th {\n",
       "        vertical-align: top;\n",
       "    }\n",
       "\n",
       "    .dataframe thead th {\n",
       "        text-align: right;\n",
       "    }\n",
       "</style>\n",
       "<table border=\"1\" class=\"dataframe\">\n",
       "  <thead>\n",
       "    <tr style=\"text-align: right;\">\n",
       "      <th></th>\n",
       "      <th>windspeed</th>\n",
       "      <th>count</th>\n",
       "    </tr>\n",
       "  </thead>\n",
       "  <tbody>\n",
       "    <tr>\n",
       "      <th>0</th>\n",
       "      <td>0.0000</td>\n",
       "      <td>211526</td>\n",
       "    </tr>\n",
       "    <tr>\n",
       "      <th>1</th>\n",
       "      <td>6.0032</td>\n",
       "      <td>128938</td>\n",
       "    </tr>\n",
       "    <tr>\n",
       "      <th>2</th>\n",
       "      <td>7.0015</td>\n",
       "      <td>175627</td>\n",
       "    </tr>\n",
       "    <tr>\n",
       "      <th>3</th>\n",
       "      <td>8.9981</td>\n",
       "      <td>196723</td>\n",
       "    </tr>\n",
       "    <tr>\n",
       "      <th>4</th>\n",
       "      <td>11.0014</td>\n",
       "      <td>213791</td>\n",
       "    </tr>\n",
       "    <tr>\n",
       "      <th>5</th>\n",
       "      <td>12.9980</td>\n",
       "      <td>210744</td>\n",
       "    </tr>\n",
       "    <tr>\n",
       "      <th>6</th>\n",
       "      <td>15.0013</td>\n",
       "      <td>202611</td>\n",
       "    </tr>\n",
       "    <tr>\n",
       "      <th>7</th>\n",
       "      <td>16.9979</td>\n",
       "      <td>177034</td>\n",
       "    </tr>\n",
       "    <tr>\n",
       "      <th>8</th>\n",
       "      <td>19.0012</td>\n",
       "      <td>147403</td>\n",
       "    </tr>\n",
       "    <tr>\n",
       "      <th>9</th>\n",
       "      <td>19.9995</td>\n",
       "      <td>110816</td>\n",
       "    </tr>\n",
       "    <tr>\n",
       "      <th>10</th>\n",
       "      <td>22.0028</td>\n",
       "      <td>68840</td>\n",
       "    </tr>\n",
       "    <tr>\n",
       "      <th>11</th>\n",
       "      <td>23.9994</td>\n",
       "      <td>60283</td>\n",
       "    </tr>\n",
       "    <tr>\n",
       "      <th>12</th>\n",
       "      <td>26.0027</td>\n",
       "      <td>53755</td>\n",
       "    </tr>\n",
       "    <tr>\n",
       "      <th>13</th>\n",
       "      <td>27.9993</td>\n",
       "      <td>41021</td>\n",
       "    </tr>\n",
       "    <tr>\n",
       "      <th>14</th>\n",
       "      <td>30.0026</td>\n",
       "      <td>24106</td>\n",
       "    </tr>\n",
       "    <tr>\n",
       "      <th>15</th>\n",
       "      <td>31.0009</td>\n",
       "      <td>18597</td>\n",
       "    </tr>\n",
       "    <tr>\n",
       "      <th>16</th>\n",
       "      <td>32.9975</td>\n",
       "      <td>14726</td>\n",
       "    </tr>\n",
       "    <tr>\n",
       "      <th>17</th>\n",
       "      <td>35.0008</td>\n",
       "      <td>13349</td>\n",
       "    </tr>\n",
       "    <tr>\n",
       "      <th>18</th>\n",
       "      <td>36.9974</td>\n",
       "      <td>4335</td>\n",
       "    </tr>\n",
       "    <tr>\n",
       "      <th>19</th>\n",
       "      <td>39.0007</td>\n",
       "      <td>4776</td>\n",
       "    </tr>\n",
       "    <tr>\n",
       "      <th>20</th>\n",
       "      <td>40.9973</td>\n",
       "      <td>2083</td>\n",
       "    </tr>\n",
       "    <tr>\n",
       "      <th>21</th>\n",
       "      <td>43.0006</td>\n",
       "      <td>1655</td>\n",
       "    </tr>\n",
       "    <tr>\n",
       "      <th>22</th>\n",
       "      <td>43.9989</td>\n",
       "      <td>1539</td>\n",
       "    </tr>\n",
       "    <tr>\n",
       "      <th>23</th>\n",
       "      <td>46.0022</td>\n",
       "      <td>202</td>\n",
       "    </tr>\n",
       "    <tr>\n",
       "      <th>24</th>\n",
       "      <td>47.9988</td>\n",
       "      <td>281</td>\n",
       "    </tr>\n",
       "    <tr>\n",
       "      <th>25</th>\n",
       "      <td>50.0021</td>\n",
       "      <td>171</td>\n",
       "    </tr>\n",
       "    <tr>\n",
       "      <th>26</th>\n",
       "      <td>51.9987</td>\n",
       "      <td>5</td>\n",
       "    </tr>\n",
       "    <tr>\n",
       "      <th>27</th>\n",
       "      <td>56.9969</td>\n",
       "      <td>539</td>\n",
       "    </tr>\n",
       "  </tbody>\n",
       "</table>\n",
       "</div>"
      ],
      "text/plain": [
       "    windspeed   count\n",
       "0      0.0000  211526\n",
       "1      6.0032  128938\n",
       "2      7.0015  175627\n",
       "3      8.9981  196723\n",
       "4     11.0014  213791\n",
       "5     12.9980  210744\n",
       "6     15.0013  202611\n",
       "7     16.9979  177034\n",
       "8     19.0012  147403\n",
       "9     19.9995  110816\n",
       "10    22.0028   68840\n",
       "11    23.9994   60283\n",
       "12    26.0027   53755\n",
       "13    27.9993   41021\n",
       "14    30.0026   24106\n",
       "15    31.0009   18597\n",
       "16    32.9975   14726\n",
       "17    35.0008   13349\n",
       "18    36.9974    4335\n",
       "19    39.0007    4776\n",
       "20    40.9973    2083\n",
       "21    43.0006    1655\n",
       "22    43.9989    1539\n",
       "23    46.0022     202\n",
       "24    47.9988     281\n",
       "25    50.0021     171\n",
       "26    51.9987       5\n",
       "27    56.9969     539"
      ]
     },
     "execution_count": 25,
     "metadata": {},
     "output_type": "execute_result"
    }
   ],
   "source": [
    "a=df.groupby(\"windspeed\")[\"count\"].sum().reset_index()\n",
    "a"
   ]
  },
  {
   "cell_type": "code",
   "execution_count": 26,
   "id": "187a7ea7",
   "metadata": {},
   "outputs": [
    {
     "data": {
      "text/plain": [
       "<AxesSubplot:xlabel='windspeed', ylabel='count'>"
      ]
     },
     "execution_count": 26,
     "metadata": {},
     "output_type": "execute_result"
    },
    {
     "data": {
      "image/png": "[encoded data removed]",
      "text/plain": [
       "<Figure size 432x288 with 1 Axes>"
      ]
     },
     "metadata": {
      "needs_background": "light"
     },
     "output_type": "display_data"
    }
   ],
   "source": [
    "sns.lineplot(data=a,x=\"windspeed\",y=\"count\")"
   ]
  },
  {
   "cell_type": "markdown",
   "id": "892a8a80",
   "metadata": {},
   "source": [
    "### Increasing the windspeed decreases the no of users"
   ]
  },
  {
   "cell_type": "markdown",
   "id": "92e24134",
   "metadata": {},
   "source": [
    "## Extracting month day and year from the feature datetime"
   ]
  },
  {
   "cell_type": "code",
   "execution_count": 27,
   "id": "e9a28700",
   "metadata": {},
   "outputs": [],
   "source": [
    "df_new=df.copy()\n",
    "df_new[\"month\"]=df_new[\"datetime\"].dt.month_name()\n",
    "df_new[\"day\"]=df_new[\"datetime\"].dt.day\n",
    "df_new[\"dayname\"]=df_new[\"datetime\"].dt.day_name()\n",
    "df_new[\"year\"]=df_new[\"datetime\"].dt.year"
   ]
  },
  {
   "cell_type": "code",
   "execution_count": 28,
   "id": "015a0e8c",
   "metadata": {},
   "outputs": [
    {
     "data": {
      "text/html": [
       "<div>\n",
       "<style scoped>\n",
       "    .dataframe tbody tr th:only-of-type {\n",
       "        vertical-align: middle;\n",
       "    }\n",
       "\n",
       "    .dataframe tbody tr th {\n",
       "        vertical-align: top;\n",
       "    }\n",
       "\n",
       "    .dataframe thead th {\n",
       "        text-align: right;\n",
       "    }\n",
       "</style>\n",
       "<table border=\"1\" class=\"dataframe\">\n",
       "  <thead>\n",
       "    <tr style=\"text-align: right;\">\n",
       "      <th></th>\n",
       "      <th>datetime</th>\n",
       "      <th>season</th>\n",
       "      <th>holiday</th>\n",
       "      <th>workingday</th>\n",
       "      <th>weather</th>\n",
       "      <th>temp</th>\n",
       "      <th>atemp</th>\n",
       "      <th>humidity</th>\n",
       "      <th>windspeed</th>\n",
       "      <th>casual</th>\n",
       "      <th>registered</th>\n",
       "      <th>count</th>\n",
       "      <th>month</th>\n",
       "      <th>day</th>\n",
       "      <th>dayname</th>\n",
       "      <th>year</th>\n",
       "    </tr>\n",
       "  </thead>\n",
       "  <tbody>\n",
       "    <tr>\n",
       "      <th>0</th>\n",
       "      <td>2011-01-01 00:00:00</td>\n",
       "      <td>1</td>\n",
       "      <td>0</td>\n",
       "      <td>0</td>\n",
       "      <td>1</td>\n",
       "      <td>9.84</td>\n",
       "      <td>14.395</td>\n",
       "      <td>81</td>\n",
       "      <td>0.0000</td>\n",
       "      <td>3</td>\n",
       "      <td>13</td>\n",
       "      <td>16</td>\n",
       "      <td>January</td>\n",
       "      <td>1</td>\n",
       "      <td>Saturday</td>\n",
       "      <td>2011</td>\n",
       "    </tr>\n",
       "    <tr>\n",
       "      <th>1</th>\n",
       "      <td>2011-01-01 01:00:00</td>\n",
       "      <td>1</td>\n",
       "      <td>0</td>\n",
       "      <td>0</td>\n",
       "      <td>1</td>\n",
       "      <td>9.02</td>\n",
       "      <td>13.635</td>\n",
       "      <td>80</td>\n",
       "      <td>0.0000</td>\n",
       "      <td>8</td>\n",
       "      <td>32</td>\n",
       "      <td>40</td>\n",
       "      <td>January</td>\n",
       "      <td>1</td>\n",
       "      <td>Saturday</td>\n",
       "      <td>2011</td>\n",
       "    </tr>\n",
       "    <tr>\n",
       "      <th>2</th>\n",
       "      <td>2011-01-01 02:00:00</td>\n",
       "      <td>1</td>\n",
       "      <td>0</td>\n",
       "      <td>0</td>\n",
       "      <td>1</td>\n",
       "      <td>9.02</td>\n",
       "      <td>13.635</td>\n",
       "      <td>80</td>\n",
       "      <td>0.0000</td>\n",
       "      <td>5</td>\n",
       "      <td>27</td>\n",
       "      <td>32</td>\n",
       "      <td>January</td>\n",
       "      <td>1</td>\n",
       "      <td>Saturday</td>\n",
       "      <td>2011</td>\n",
       "    </tr>\n",
       "    <tr>\n",
       "      <th>3</th>\n",
       "      <td>2011-01-01 03:00:00</td>\n",
       "      <td>1</td>\n",
       "      <td>0</td>\n",
       "      <td>0</td>\n",
       "      <td>1</td>\n",
       "      <td>9.84</td>\n",
       "      <td>14.395</td>\n",
       "      <td>75</td>\n",
       "      <td>0.0000</td>\n",
       "      <td>3</td>\n",
       "      <td>10</td>\n",
       "      <td>13</td>\n",
       "      <td>January</td>\n",
       "      <td>1</td>\n",
       "      <td>Saturday</td>\n",
       "      <td>2011</td>\n",
       "    </tr>\n",
       "    <tr>\n",
       "      <th>4</th>\n",
       "      <td>2011-01-01 04:00:00</td>\n",
       "      <td>1</td>\n",
       "      <td>0</td>\n",
       "      <td>0</td>\n",
       "      <td>1</td>\n",
       "      <td>9.84</td>\n",
       "      <td>14.395</td>\n",
       "      <td>75</td>\n",
       "      <td>0.0000</td>\n",
       "      <td>0</td>\n",
       "      <td>1</td>\n",
       "      <td>1</td>\n",
       "      <td>January</td>\n",
       "      <td>1</td>\n",
       "      <td>Saturday</td>\n",
       "      <td>2011</td>\n",
       "    </tr>\n",
       "    <tr>\n",
       "      <th>...</th>\n",
       "      <td>...</td>\n",
       "      <td>...</td>\n",
       "      <td>...</td>\n",
       "      <td>...</td>\n",
       "      <td>...</td>\n",
       "      <td>...</td>\n",
       "      <td>...</td>\n",
       "      <td>...</td>\n",
       "      <td>...</td>\n",
       "      <td>...</td>\n",
       "      <td>...</td>\n",
       "      <td>...</td>\n",
       "      <td>...</td>\n",
       "      <td>...</td>\n",
       "      <td>...</td>\n",
       "      <td>...</td>\n",
       "    </tr>\n",
       "    <tr>\n",
       "      <th>10881</th>\n",
       "      <td>2012-12-19 19:00:00</td>\n",
       "      <td>4</td>\n",
       "      <td>0</td>\n",
       "      <td>1</td>\n",
       "      <td>1</td>\n",
       "      <td>15.58</td>\n",
       "      <td>19.695</td>\n",
       "      <td>50</td>\n",
       "      <td>26.0027</td>\n",
       "      <td>7</td>\n",
       "      <td>329</td>\n",
       "      <td>336</td>\n",
       "      <td>December</td>\n",
       "      <td>19</td>\n",
       "      <td>Wednesday</td>\n",
       "      <td>2012</td>\n",
       "    </tr>\n",
       "    <tr>\n",
       "      <th>10882</th>\n",
       "      <td>2012-12-19 20:00:00</td>\n",
       "      <td>4</td>\n",
       "      <td>0</td>\n",
       "      <td>1</td>\n",
       "      <td>1</td>\n",
       "      <td>14.76</td>\n",
       "      <td>17.425</td>\n",
       "      <td>57</td>\n",
       "      <td>15.0013</td>\n",
       "      <td>10</td>\n",
       "      <td>231</td>\n",
       "      <td>241</td>\n",
       "      <td>December</td>\n",
       "      <td>19</td>\n",
       "      <td>Wednesday</td>\n",
       "      <td>2012</td>\n",
       "    </tr>\n",
       "    <tr>\n",
       "      <th>10883</th>\n",
       "      <td>2012-12-19 21:00:00</td>\n",
       "      <td>4</td>\n",
       "      <td>0</td>\n",
       "      <td>1</td>\n",
       "      <td>1</td>\n",
       "      <td>13.94</td>\n",
       "      <td>15.910</td>\n",
       "      <td>61</td>\n",
       "      <td>15.0013</td>\n",
       "      <td>4</td>\n",
       "      <td>164</td>\n",
       "      <td>168</td>\n",
       "      <td>December</td>\n",
       "      <td>19</td>\n",
       "      <td>Wednesday</td>\n",
       "      <td>2012</td>\n",
       "    </tr>\n",
       "    <tr>\n",
       "      <th>10884</th>\n",
       "      <td>2012-12-19 22:00:00</td>\n",
       "      <td>4</td>\n",
       "      <td>0</td>\n",
       "      <td>1</td>\n",
       "      <td>1</td>\n",
       "      <td>13.94</td>\n",
       "      <td>17.425</td>\n",
       "      <td>61</td>\n",
       "      <td>6.0032</td>\n",
       "      <td>12</td>\n",
       "      <td>117</td>\n",
       "      <td>129</td>\n",
       "      <td>December</td>\n",
       "      <td>19</td>\n",
       "      <td>Wednesday</td>\n",
       "      <td>2012</td>\n",
       "    </tr>\n",
       "    <tr>\n",
       "      <th>10885</th>\n",
       "      <td>2012-12-19 23:00:00</td>\n",
       "      <td>4</td>\n",
       "      <td>0</td>\n",
       "      <td>1</td>\n",
       "      <td>1</td>\n",
       "      <td>13.12</td>\n",
       "      <td>16.665</td>\n",
       "      <td>66</td>\n",
       "      <td>8.9981</td>\n",
       "      <td>4</td>\n",
       "      <td>84</td>\n",
       "      <td>88</td>\n",
       "      <td>December</td>\n",
       "      <td>19</td>\n",
       "      <td>Wednesday</td>\n",
       "      <td>2012</td>\n",
       "    </tr>\n",
       "  </tbody>\n",
       "</table>\n",
       "<p>10886 rows × 16 columns</p>\n",
       "</div>"
      ],
      "text/plain": [
       "                 datetime  season  holiday  workingday  weather   temp  \\\n",
       "0     2011-01-01 00:00:00       1        0           0        1   9.84   \n",
       "1     2011-01-01 01:00:00       1        0           0        1   9.02   \n",
       "2     2011-01-01 02:00:00       1        0           0        1   9.02   \n",
       "3     2011-01-01 03:00:00       1        0           0        1   9.84   \n",
       "4     2011-01-01 04:00:00       1        0           0        1   9.84   \n",
       "...                   ...     ...      ...         ...      ...    ...   \n",
       "10881 2012-12-19 19:00:00       4        0           1        1  15.58   \n",
       "10882 2012-12-19 20:00:00       4        0           1        1  14.76   \n",
       "10883 2012-12-19 21:00:00       4        0           1        1  13.94   \n",
       "10884 2012-12-19 22:00:00       4        0           1        1  13.94   \n",
       "10885 2012-12-19 23:00:00       4        0           1        1  13.12   \n",
       "\n",
       "        atemp  humidity  windspeed  casual  registered  count     month  day  \\\n",
       "0      14.395        81     0.0000       3          13     16   January    1   \n",
       "1      13.635        80     0.0000       8          32     40   January    1   \n",
       "2      13.635        80     0.0000       5          27     32   January    1   \n",
       "3      14.395        75     0.0000       3          10     13   January    1   \n",
       "4      14.395        75     0.0000       0           1      1   January    1   \n",
       "...       ...       ...        ...     ...         ...    ...       ...  ...   \n",
       "10881  19.695        50    26.0027       7         329    336  December   19   \n",
       "10882  17.425        57    15.0013      10         231    241  December   19   \n",
       "10883  15.910        61    15.0013       4         164    168  December   19   \n",
       "10884  17.425        61     6.0032      12         117    129  December   19   \n",
       "10885  16.665        66     8.9981       4          84     88  December   19   \n",
       "\n",
       "         dayname  year  \n",
       "0       Saturday  2011  \n",
       "1       Saturday  2011  \n",
       "2       Saturday  2011  \n",
       "3       Saturday  2011  \n",
       "4       Saturday  2011  \n",
       "...          ...   ...  \n",
       "10881  Wednesday  2012  \n",
       "10882  Wednesday  2012  \n",
       "10883  Wednesday  2012  \n",
       "10884  Wednesday  2012  \n",
       "10885  Wednesday  2012  \n",
       "\n",
       "[10886 rows x 16 columns]"
      ]
     },
     "execution_count": 28,
     "metadata": {},
     "output_type": "execute_result"
    }
   ],
   "source": [
    "df_new"
   ]
  },
  {
   "cell_type": "markdown",
   "id": "32ff9f1e",
   "metadata": {},
   "source": [
    "# No of users in each days"
   ]
  },
  {
   "cell_type": "code",
   "execution_count": 29,
   "id": "686e8f18",
   "metadata": {},
   "outputs": [
    {
     "data": {
      "text/html": [
       "<div>\n",
       "<style scoped>\n",
       "    .dataframe tbody tr th:only-of-type {\n",
       "        vertical-align: middle;\n",
       "    }\n",
       "\n",
       "    .dataframe tbody tr th {\n",
       "        vertical-align: top;\n",
       "    }\n",
       "\n",
       "    .dataframe thead th {\n",
       "        text-align: right;\n",
       "    }\n",
       "</style>\n",
       "<table border=\"1\" class=\"dataframe\">\n",
       "  <thead>\n",
       "    <tr style=\"text-align: right;\">\n",
       "      <th></th>\n",
       "      <th>dayname</th>\n",
       "      <th>count</th>\n",
       "    </tr>\n",
       "  </thead>\n",
       "  <tbody>\n",
       "    <tr>\n",
       "      <th>2</th>\n",
       "      <td>Saturday</td>\n",
       "      <td>311518</td>\n",
       "    </tr>\n",
       "    <tr>\n",
       "      <th>4</th>\n",
       "      <td>Thursday</td>\n",
       "      <td>306401</td>\n",
       "    </tr>\n",
       "    <tr>\n",
       "      <th>0</th>\n",
       "      <td>Friday</td>\n",
       "      <td>302504</td>\n",
       "    </tr>\n",
       "    <tr>\n",
       "      <th>1</th>\n",
       "      <td>Monday</td>\n",
       "      <td>295296</td>\n",
       "    </tr>\n",
       "    <tr>\n",
       "      <th>6</th>\n",
       "      <td>Wednesday</td>\n",
       "      <td>292226</td>\n",
       "    </tr>\n",
       "    <tr>\n",
       "      <th>5</th>\n",
       "      <td>Tuesday</td>\n",
       "      <td>291985</td>\n",
       "    </tr>\n",
       "    <tr>\n",
       "      <th>3</th>\n",
       "      <td>Sunday</td>\n",
       "      <td>285546</td>\n",
       "    </tr>\n",
       "  </tbody>\n",
       "</table>\n",
       "</div>"
      ],
      "text/plain": [
       "     dayname   count\n",
       "2   Saturday  311518\n",
       "4   Thursday  306401\n",
       "0     Friday  302504\n",
       "1     Monday  295296\n",
       "6  Wednesday  292226\n",
       "5    Tuesday  291985\n",
       "3     Sunday  285546"
      ]
     },
     "execution_count": 29,
     "metadata": {},
     "output_type": "execute_result"
    }
   ],
   "source": [
    "a=df_new.groupby(\"dayname\")[\"count\"].sum().reset_index().sort_values(\"count\",ascending=False)\n",
    "a"
   ]
  },
  {
   "cell_type": "code",
   "execution_count": 30,
   "id": "cf21c4bb",
   "metadata": {},
   "outputs": [
    {
     "data": {
      "image/png": "[encoded data removed]",
      "text/plain": [
       "<Figure size 864x360 with 1 Axes>"
      ]
     },
     "metadata": {
      "needs_background": "light"
     },
     "output_type": "display_data"
    }
   ],
   "source": [
    "plt.figure(figsize=(12,5))\n",
    "sns.barplot(data=a,x=\"dayname\",y=\"count\")\n",
    "plt.xticks(rotation=90)\n",
    "plt.show()"
   ]
  },
  {
   "cell_type": "markdown",
   "id": "d1a1414c",
   "metadata": {},
   "source": [
    "#### No of users in each day is almost same"
   ]
  },
  {
   "cell_type": "code",
   "execution_count": 31,
   "id": "66b85879",
   "metadata": {},
   "outputs": [
    {
     "data": {
      "text/html": [
       "<div>\n",
       "<style scoped>\n",
       "    .dataframe tbody tr th:only-of-type {\n",
       "        vertical-align: middle;\n",
       "    }\n",
       "\n",
       "    .dataframe tbody tr th {\n",
       "        vertical-align: top;\n",
       "    }\n",
       "\n",
       "    .dataframe thead th {\n",
       "        text-align: right;\n",
       "    }\n",
       "</style>\n",
       "<table border=\"1\" class=\"dataframe\">\n",
       "  <thead>\n",
       "    <tr style=\"text-align: right;\">\n",
       "      <th></th>\n",
       "      <th>month</th>\n",
       "      <th>count</th>\n",
       "    </tr>\n",
       "  </thead>\n",
       "  <tbody>\n",
       "    <tr>\n",
       "      <th>6</th>\n",
       "      <td>June</td>\n",
       "      <td>220733</td>\n",
       "    </tr>\n",
       "    <tr>\n",
       "      <th>5</th>\n",
       "      <td>July</td>\n",
       "      <td>214617</td>\n",
       "    </tr>\n",
       "    <tr>\n",
       "      <th>1</th>\n",
       "      <td>August</td>\n",
       "      <td>213516</td>\n",
       "    </tr>\n",
       "    <tr>\n",
       "      <th>11</th>\n",
       "      <td>September</td>\n",
       "      <td>212529</td>\n",
       "    </tr>\n",
       "    <tr>\n",
       "      <th>10</th>\n",
       "      <td>October</td>\n",
       "      <td>207434</td>\n",
       "    </tr>\n",
       "    <tr>\n",
       "      <th>8</th>\n",
       "      <td>May</td>\n",
       "      <td>200147</td>\n",
       "    </tr>\n",
       "    <tr>\n",
       "      <th>9</th>\n",
       "      <td>November</td>\n",
       "      <td>176440</td>\n",
       "    </tr>\n",
       "    <tr>\n",
       "      <th>0</th>\n",
       "      <td>April</td>\n",
       "      <td>167402</td>\n",
       "    </tr>\n",
       "    <tr>\n",
       "      <th>2</th>\n",
       "      <td>December</td>\n",
       "      <td>160160</td>\n",
       "    </tr>\n",
       "    <tr>\n",
       "      <th>7</th>\n",
       "      <td>March</td>\n",
       "      <td>133501</td>\n",
       "    </tr>\n",
       "    <tr>\n",
       "      <th>3</th>\n",
       "      <td>February</td>\n",
       "      <td>99113</td>\n",
       "    </tr>\n",
       "    <tr>\n",
       "      <th>4</th>\n",
       "      <td>January</td>\n",
       "      <td>79884</td>\n",
       "    </tr>\n",
       "  </tbody>\n",
       "</table>\n",
       "</div>"
      ],
      "text/plain": [
       "        month   count\n",
       "6        June  220733\n",
       "5        July  214617\n",
       "1      August  213516\n",
       "11  September  212529\n",
       "10    October  207434\n",
       "8         May  200147\n",
       "9    November  176440\n",
       "0       April  167402\n",
       "2    December  160160\n",
       "7       March  133501\n",
       "3    February   99113\n",
       "4     January   79884"
      ]
     },
     "execution_count": 31,
     "metadata": {},
     "output_type": "execute_result"
    }
   ],
   "source": [
    "a=df_new.groupby(\"month\")[\"count\"].sum().reset_index().sort_values(\"count\",ascending=False)\n",
    "a"
   ]
  },
  {
   "cell_type": "markdown",
   "id": "cb53f036",
   "metadata": {},
   "source": [
    "# No of users in each month"
   ]
  },
  {
   "cell_type": "code",
   "execution_count": 32,
   "id": "249f6da9",
   "metadata": {},
   "outputs": [
    {
     "data": {
      "image/png": "[encoded data removed]",
      "text/plain": [
       "<Figure size 864x360 with 1 Axes>"
      ]
     },
     "metadata": {
      "needs_background": "light"
     },
     "output_type": "display_data"
    }
   ],
   "source": [
    "plt.figure(figsize=(12,5))\n",
    "sns.barplot(data=a,x=\"month\",y=\"count\")\n",
    "plt.xticks(rotation=90)\n",
    "plt.show()"
   ]
  },
  {
   "cell_type": "markdown",
   "id": "41025eee",
   "metadata": {},
   "source": [
    "#### No of users in june, july, august, september have most no of users\n",
    "#### Jan, feb, march have least no of users"
   ]
  },
  {
   "cell_type": "markdown",
   "id": "19a9a4a9",
   "metadata": {},
   "source": [
    "# User count vs each years season"
   ]
  },
  {
   "cell_type": "code",
   "execution_count": 33,
   "id": "d904d8b2",
   "metadata": {},
   "outputs": [
    {
     "data": {
      "image/png": "[encoded data removed]",
      "text/plain": [
       "<Figure size 864x576 with 1 Axes>"
      ]
     },
     "metadata": {
      "needs_background": "light"
     },
     "output_type": "display_data"
    }
   ],
   "source": [
    "plt.figure(figsize=(12,8))\n",
    "sns.barplot(x=\"season\",y=\"count\",hue=\"year\",data=df_new)\n",
    "plt.show()"
   ]
  },
  {
   "cell_type": "markdown",
   "id": "a5c1a7ce",
   "metadata": {},
   "source": [
    "#### in both year season 3 has most no of users\n",
    "#### no of users in 2012 is greater than 2011"
   ]
  },
  {
   "cell_type": "markdown",
   "id": "22007c08",
   "metadata": {},
   "source": [
    "# Casual users in each years season"
   ]
  },
  {
   "cell_type": "code",
   "execution_count": 34,
   "id": "fc54bf05",
   "metadata": {},
   "outputs": [
    {
     "data": {
      "image/png": "[encoded data removed]",
      "text/plain": [
       "<Figure size 864x576 with 1 Axes>"
      ]
     },
     "metadata": {
      "needs_background": "light"
     },
     "output_type": "display_data"
    }
   ],
   "source": [
    "plt.figure(figsize=(12,8))\n",
    "sns.barplot(data=df_new,x=\"season\",y=\"casual\",hue=\"year\",palette=\"Set2\")\n",
    "plt.show()"
   ]
  },
  {
   "cell_type": "markdown",
   "id": "b88d3e1b",
   "metadata": {},
   "source": [
    "#### no of casual users increasing over year\n",
    "#### in 2012 no of casual users more in season 2\n",
    "#### in 2011 no of casual users more in season 3 "
   ]
  },
  {
   "cell_type": "markdown",
   "id": "c40c6f2a",
   "metadata": {},
   "source": [
    "# Registered users in each years season"
   ]
  },
  {
   "cell_type": "code",
   "execution_count": 35,
   "id": "b3b71d17",
   "metadata": {},
   "outputs": [
    {
     "data": {
      "image/png": "[encoded data removed]",
      "text/plain": [
       "<Figure size 864x576 with 1 Axes>"
      ]
     },
     "metadata": {
      "needs_background": "light"
     },
     "output_type": "display_data"
    }
   ],
   "source": [
    "plt.figure(figsize=(12,8))\n",
    "sns.barplot(data=df_new,x=\"season\",y=\"registered\",hue=\"year\",palette=\"winter\")\n",
    "plt.show()"
   ]
  },
  {
   "cell_type": "markdown",
   "id": "47b3a7c0",
   "metadata": {},
   "source": [
    "#### no of registered user more in 2012 compred to 2011\n",
    "#### more registration seen in season 3 and less in season1"
   ]
  },
  {
   "cell_type": "code",
   "execution_count": 36,
   "id": "6e4bf30f",
   "metadata": {},
   "outputs": [
    {
     "data": {
      "image/png": "[encoded data removed]",
      "text/plain": [
       "<Figure size 864x576 with 1 Axes>"
      ]
     },
     "metadata": {
      "needs_background": "light"
     },
     "output_type": "display_data"
    }
   ],
   "source": [
    "plt.figure(figsize=(12,8))\n",
    "sns.barplot(data=df_new,x=\"month\",y=\"registered\",hue=\"year\",palette=\"summer\")\n",
    "plt.show()"
   ]
  },
  {
   "cell_type": "markdown",
   "id": "34cf5c21",
   "metadata": {},
   "source": [
    "#### no of registration more in august,september,october\n",
    "#### no of registration less in jan feb, march"
   ]
  },
  {
   "cell_type": "markdown",
   "id": "201408b5",
   "metadata": {},
   "source": [
    "# Effect of temperature in each season and month"
   ]
  },
  {
   "cell_type": "code",
   "execution_count": 37,
   "id": "2045a7bc",
   "metadata": {},
   "outputs": [
    {
     "data": {
      "image/png": "[encoded data removed]",
      "text/plain": [
       "<Figure size 864x576 with 1 Axes>"
      ]
     },
     "metadata": {
      "needs_background": "light"
     },
     "output_type": "display_data"
    }
   ],
   "source": [
    "plt.figure(figsize=(12,8))\n",
    "sns.barplot(data=df_new,x=\"season\",y=\"temp\",hue=\"month\",palette=\"tab20c\")\n",
    "plt.show()"
   ]
  },
  {
   "cell_type": "markdown",
   "id": "5fc6c223",
   "metadata": {},
   "source": [
    "#### seson 3 that is july, aug, sep has highest temperature\n",
    "#### season 1 that is jan, feb, march has lowest temperature"
   ]
  },
  {
   "cell_type": "markdown",
   "id": "08cd2512",
   "metadata": {},
   "source": [
    "# User count in each season and month"
   ]
  },
  {
   "cell_type": "code",
   "execution_count": 38,
   "id": "d6a6d974",
   "metadata": {},
   "outputs": [
    {
     "data": {
      "image/png": "[encoded data removed]",
      "text/plain": [
       "<Figure size 864x576 with 1 Axes>"
      ]
     },
     "metadata": {
      "needs_background": "light"
     },
     "output_type": "display_data"
    }
   ],
   "source": [
    "plt.figure(figsize=(12,8))\n",
    "sns.barplot(data=df_new,x=\"season\",y=\"count\",hue=\"month\",palette=\"Set1\")\n",
    "plt.show()"
   ]
  },
  {
   "cell_type": "markdown",
   "id": "14263c7b",
   "metadata": {},
   "source": [
    "#### season 3 ie july august and september have most no of users and season 1 jan, feb, march have least no of users"
   ]
  },
  {
   "cell_type": "markdown",
   "id": "92fb248b",
   "metadata": {},
   "source": [
    "# Converting features temperature,humidity,windspeed to bins"
   ]
  },
  {
   "cell_type": "code",
   "execution_count": 39,
   "id": "1b3e3cff",
   "metadata": {},
   "outputs": [
    {
     "data": {
      "text/html": [
       "<div>\n",
       "<style scoped>\n",
       "    .dataframe tbody tr th:only-of-type {\n",
       "        vertical-align: middle;\n",
       "    }\n",
       "\n",
       "    .dataframe tbody tr th {\n",
       "        vertical-align: top;\n",
       "    }\n",
       "\n",
       "    .dataframe thead th {\n",
       "        text-align: right;\n",
       "    }\n",
       "</style>\n",
       "<table border=\"1\" class=\"dataframe\">\n",
       "  <thead>\n",
       "    <tr style=\"text-align: right;\">\n",
       "      <th></th>\n",
       "      <th>datetime</th>\n",
       "      <th>season</th>\n",
       "      <th>holiday</th>\n",
       "      <th>workingday</th>\n",
       "      <th>weather</th>\n",
       "      <th>temp</th>\n",
       "      <th>atemp</th>\n",
       "      <th>humidity</th>\n",
       "      <th>windspeed</th>\n",
       "      <th>casual</th>\n",
       "      <th>registered</th>\n",
       "      <th>count</th>\n",
       "      <th>month</th>\n",
       "      <th>day</th>\n",
       "      <th>dayname</th>\n",
       "      <th>year</th>\n",
       "      <th>temp_bin</th>\n",
       "      <th>atemp_bin</th>\n",
       "      <th>humidity_bin</th>\n",
       "      <th>windspeed_bin</th>\n",
       "    </tr>\n",
       "  </thead>\n",
       "  <tbody>\n",
       "    <tr>\n",
       "      <th>0</th>\n",
       "      <td>2011-01-01 00:00:00</td>\n",
       "      <td>1</td>\n",
       "      <td>0</td>\n",
       "      <td>0</td>\n",
       "      <td>1</td>\n",
       "      <td>9.84</td>\n",
       "      <td>14.395</td>\n",
       "      <td>81</td>\n",
       "      <td>0.0000</td>\n",
       "      <td>3</td>\n",
       "      <td>13</td>\n",
       "      <td>16</td>\n",
       "      <td>January</td>\n",
       "      <td>1</td>\n",
       "      <td>Saturday</td>\n",
       "      <td>2011</td>\n",
       "      <td>verylow_temp</td>\n",
       "      <td>low_atemp</td>\n",
       "      <td>humidity75-100%</td>\n",
       "      <td>low_wind</td>\n",
       "    </tr>\n",
       "    <tr>\n",
       "      <th>1</th>\n",
       "      <td>2011-01-01 01:00:00</td>\n",
       "      <td>1</td>\n",
       "      <td>0</td>\n",
       "      <td>0</td>\n",
       "      <td>1</td>\n",
       "      <td>9.02</td>\n",
       "      <td>13.635</td>\n",
       "      <td>80</td>\n",
       "      <td>0.0000</td>\n",
       "      <td>8</td>\n",
       "      <td>32</td>\n",
       "      <td>40</td>\n",
       "      <td>January</td>\n",
       "      <td>1</td>\n",
       "      <td>Saturday</td>\n",
       "      <td>2011</td>\n",
       "      <td>verylow_temp</td>\n",
       "      <td>low_atemp</td>\n",
       "      <td>humidity75-100%</td>\n",
       "      <td>low_wind</td>\n",
       "    </tr>\n",
       "    <tr>\n",
       "      <th>2</th>\n",
       "      <td>2011-01-01 02:00:00</td>\n",
       "      <td>1</td>\n",
       "      <td>0</td>\n",
       "      <td>0</td>\n",
       "      <td>1</td>\n",
       "      <td>9.02</td>\n",
       "      <td>13.635</td>\n",
       "      <td>80</td>\n",
       "      <td>0.0000</td>\n",
       "      <td>5</td>\n",
       "      <td>27</td>\n",
       "      <td>32</td>\n",
       "      <td>January</td>\n",
       "      <td>1</td>\n",
       "      <td>Saturday</td>\n",
       "      <td>2011</td>\n",
       "      <td>verylow_temp</td>\n",
       "      <td>low_atemp</td>\n",
       "      <td>humidity75-100%</td>\n",
       "      <td>low_wind</td>\n",
       "    </tr>\n",
       "    <tr>\n",
       "      <th>3</th>\n",
       "      <td>2011-01-01 03:00:00</td>\n",
       "      <td>1</td>\n",
       "      <td>0</td>\n",
       "      <td>0</td>\n",
       "      <td>1</td>\n",
       "      <td>9.84</td>\n",
       "      <td>14.395</td>\n",
       "      <td>75</td>\n",
       "      <td>0.0000</td>\n",
       "      <td>3</td>\n",
       "      <td>10</td>\n",
       "      <td>13</td>\n",
       "      <td>January</td>\n",
       "      <td>1</td>\n",
       "      <td>Saturday</td>\n",
       "      <td>2011</td>\n",
       "      <td>verylow_temp</td>\n",
       "      <td>low_atemp</td>\n",
       "      <td>humidity50-75%</td>\n",
       "      <td>low_wind</td>\n",
       "    </tr>\n",
       "    <tr>\n",
       "      <th>4</th>\n",
       "      <td>2011-01-01 04:00:00</td>\n",
       "      <td>1</td>\n",
       "      <td>0</td>\n",
       "      <td>0</td>\n",
       "      <td>1</td>\n",
       "      <td>9.84</td>\n",
       "      <td>14.395</td>\n",
       "      <td>75</td>\n",
       "      <td>0.0000</td>\n",
       "      <td>0</td>\n",
       "      <td>1</td>\n",
       "      <td>1</td>\n",
       "      <td>January</td>\n",
       "      <td>1</td>\n",
       "      <td>Saturday</td>\n",
       "      <td>2011</td>\n",
       "      <td>verylow_temp</td>\n",
       "      <td>low_atemp</td>\n",
       "      <td>humidity50-75%</td>\n",
       "      <td>low_wind</td>\n",
       "    </tr>\n",
       "    <tr>\n",
       "      <th>...</th>\n",
       "      <td>...</td>\n",
       "      <td>...</td>\n",
       "      <td>...</td>\n",
       "      <td>...</td>\n",
       "      <td>...</td>\n",
       "      <td>...</td>\n",
       "      <td>...</td>\n",
       "      <td>...</td>\n",
       "      <td>...</td>\n",
       "      <td>...</td>\n",
       "      <td>...</td>\n",
       "      <td>...</td>\n",
       "      <td>...</td>\n",
       "      <td>...</td>\n",
       "      <td>...</td>\n",
       "      <td>...</td>\n",
       "      <td>...</td>\n",
       "      <td>...</td>\n",
       "      <td>...</td>\n",
       "      <td>...</td>\n",
       "    </tr>\n",
       "    <tr>\n",
       "      <th>10881</th>\n",
       "      <td>2012-12-19 19:00:00</td>\n",
       "      <td>4</td>\n",
       "      <td>0</td>\n",
       "      <td>1</td>\n",
       "      <td>1</td>\n",
       "      <td>15.58</td>\n",
       "      <td>19.695</td>\n",
       "      <td>50</td>\n",
       "      <td>26.0027</td>\n",
       "      <td>7</td>\n",
       "      <td>329</td>\n",
       "      <td>336</td>\n",
       "      <td>December</td>\n",
       "      <td>19</td>\n",
       "      <td>Wednesday</td>\n",
       "      <td>2012</td>\n",
       "      <td>low_temp</td>\n",
       "      <td>low_atemp</td>\n",
       "      <td>humidity25-50%</td>\n",
       "      <td>medium_wind</td>\n",
       "    </tr>\n",
       "    <tr>\n",
       "      <th>10882</th>\n",
       "      <td>2012-12-19 20:00:00</td>\n",
       "      <td>4</td>\n",
       "      <td>0</td>\n",
       "      <td>1</td>\n",
       "      <td>1</td>\n",
       "      <td>14.76</td>\n",
       "      <td>17.425</td>\n",
       "      <td>57</td>\n",
       "      <td>15.0013</td>\n",
       "      <td>10</td>\n",
       "      <td>231</td>\n",
       "      <td>241</td>\n",
       "      <td>December</td>\n",
       "      <td>19</td>\n",
       "      <td>Wednesday</td>\n",
       "      <td>2012</td>\n",
       "      <td>low_temp</td>\n",
       "      <td>low_atemp</td>\n",
       "      <td>humidity50-75%</td>\n",
       "      <td>low_wind</td>\n",
       "    </tr>\n",
       "    <tr>\n",
       "      <th>10883</th>\n",
       "      <td>2012-12-19 21:00:00</td>\n",
       "      <td>4</td>\n",
       "      <td>0</td>\n",
       "      <td>1</td>\n",
       "      <td>1</td>\n",
       "      <td>13.94</td>\n",
       "      <td>15.910</td>\n",
       "      <td>61</td>\n",
       "      <td>15.0013</td>\n",
       "      <td>4</td>\n",
       "      <td>164</td>\n",
       "      <td>168</td>\n",
       "      <td>December</td>\n",
       "      <td>19</td>\n",
       "      <td>Wednesday</td>\n",
       "      <td>2012</td>\n",
       "      <td>low_temp</td>\n",
       "      <td>low_atemp</td>\n",
       "      <td>humidity50-75%</td>\n",
       "      <td>low_wind</td>\n",
       "    </tr>\n",
       "    <tr>\n",
       "      <th>10884</th>\n",
       "      <td>2012-12-19 22:00:00</td>\n",
       "      <td>4</td>\n",
       "      <td>0</td>\n",
       "      <td>1</td>\n",
       "      <td>1</td>\n",
       "      <td>13.94</td>\n",
       "      <td>17.425</td>\n",
       "      <td>61</td>\n",
       "      <td>6.0032</td>\n",
       "      <td>12</td>\n",
       "      <td>117</td>\n",
       "      <td>129</td>\n",
       "      <td>December</td>\n",
       "      <td>19</td>\n",
       "      <td>Wednesday</td>\n",
       "      <td>2012</td>\n",
       "      <td>low_temp</td>\n",
       "      <td>low_atemp</td>\n",
       "      <td>humidity50-75%</td>\n",
       "      <td>low_wind</td>\n",
       "    </tr>\n",
       "    <tr>\n",
       "      <th>10885</th>\n",
       "      <td>2012-12-19 23:00:00</td>\n",
       "      <td>4</td>\n",
       "      <td>0</td>\n",
       "      <td>1</td>\n",
       "      <td>1</td>\n",
       "      <td>13.12</td>\n",
       "      <td>16.665</td>\n",
       "      <td>66</td>\n",
       "      <td>8.9981</td>\n",
       "      <td>4</td>\n",
       "      <td>84</td>\n",
       "      <td>88</td>\n",
       "      <td>December</td>\n",
       "      <td>19</td>\n",
       "      <td>Wednesday</td>\n",
       "      <td>2012</td>\n",
       "      <td>low_temp</td>\n",
       "      <td>low_atemp</td>\n",
       "      <td>humidity50-75%</td>\n",
       "      <td>low_wind</td>\n",
       "    </tr>\n",
       "  </tbody>\n",
       "</table>\n",
       "<p>10886 rows × 20 columns</p>\n",
       "</div>"
      ],
      "text/plain": [
       "                 datetime  season  holiday  workingday  weather   temp  \\\n",
       "0     2011-01-01 00:00:00       1        0           0        1   9.84   \n",
       "1     2011-01-01 01:00:00       1        0           0        1   9.02   \n",
       "2     2011-01-01 02:00:00       1        0           0        1   9.02   \n",
       "3     2011-01-01 03:00:00       1        0           0        1   9.84   \n",
       "4     2011-01-01 04:00:00       1        0           0        1   9.84   \n",
       "...                   ...     ...      ...         ...      ...    ...   \n",
       "10881 2012-12-19 19:00:00       4        0           1        1  15.58   \n",
       "10882 2012-12-19 20:00:00       4        0           1        1  14.76   \n",
       "10883 2012-12-19 21:00:00       4        0           1        1  13.94   \n",
       "10884 2012-12-19 22:00:00       4        0           1        1  13.94   \n",
       "10885 2012-12-19 23:00:00       4        0           1        1  13.12   \n",
       "\n",
       "        atemp  humidity  windspeed  casual  registered  count     month  day  \\\n",
       "0      14.395        81     0.0000       3          13     16   January    1   \n",
       "1      13.635        80     0.0000       8          32     40   January    1   \n",
       "2      13.635        80     0.0000       5          27     32   January    1   \n",
       "3      14.395        75     0.0000       3          10     13   January    1   \n",
       "4      14.395        75     0.0000       0           1      1   January    1   \n",
       "...       ...       ...        ...     ...         ...    ...       ...  ...   \n",
       "10881  19.695        50    26.0027       7         329    336  December   19   \n",
       "10882  17.425        57    15.0013      10         231    241  December   19   \n",
       "10883  15.910        61    15.0013       4         164    168  December   19   \n",
       "10884  17.425        61     6.0032      12         117    129  December   19   \n",
       "10885  16.665        66     8.9981       4          84     88  December   19   \n",
       "\n",
       "         dayname  year      temp_bin  atemp_bin     humidity_bin windspeed_bin  \n",
       "0       Saturday  2011  verylow_temp  low_atemp  humidity75-100%      low_wind  \n",
       "1       Saturday  2011  verylow_temp  low_atemp  humidity75-100%      low_wind  \n",
       "2       Saturday  2011  verylow_temp  low_atemp  humidity75-100%      low_wind  \n",
       "3       Saturday  2011  verylow_temp  low_atemp   humidity50-75%      low_wind  \n",
       "4       Saturday  2011  verylow_temp  low_atemp   humidity50-75%      low_wind  \n",
       "...          ...   ...           ...        ...              ...           ...  \n",
       "10881  Wednesday  2012      low_temp  low_atemp   humidity25-50%   medium_wind  \n",
       "10882  Wednesday  2012      low_temp  low_atemp   humidity50-75%      low_wind  \n",
       "10883  Wednesday  2012      low_temp  low_atemp   humidity50-75%      low_wind  \n",
       "10884  Wednesday  2012      low_temp  low_atemp   humidity50-75%      low_wind  \n",
       "10885  Wednesday  2012      low_temp  low_atemp   humidity50-75%      low_wind  \n",
       "\n",
       "[10886 rows x 20 columns]"
      ]
     },
     "execution_count": 39,
     "metadata": {},
     "output_type": "execute_result"
    }
   ],
   "source": [
    "df_new[\"temp_bin\"]=pd.cut(df_new[\"temp\"],bins=[-1,10,20,30,45],labels=[\"verylow_temp\",\"low_temp\",\"medium_temp\",\"high_temp\"])\n",
    "df_new[\"atemp_bin\"]=pd.cut(df_new[\"atemp\"],bins=[-1,10,20,30,46],labels=[\"verylow_atemp\",\"low_atemp\",\"medium_atemp\",\"high_atemp\"])\n",
    "df_new[\"humidity_bin\"]=pd.cut(df_new[\"humidity\"],bins=[-1,25,50,75,101],labels=[\"humidity<25%\",\"humidity25-50%\",\"humidity50-75%\",\"humidity75-100%\"])\n",
    "df_new[\"windspeed_bin\"]=pd.cut(df_new[\"temp\"],bins=[-1,15,30,45,60],labels=[\"low_wind\",\"medium_wind\",\"high_wind\",\"very_high_wind\"])\n",
    "df_new"
   ]
  },
  {
   "cell_type": "markdown",
   "id": "58eec619",
   "metadata": {},
   "source": [
    "# Boxplot of features converted to bins"
   ]
  },
  {
   "cell_type": "code",
   "execution_count": 40,
   "id": "af195dcd",
   "metadata": {},
   "outputs": [
    {
     "data": {
      "text/plain": [
       "<AxesSubplot:xlabel='windspeed_bin', ylabel='count'>"
      ]
     },
     "execution_count": 40,
     "metadata": {},
     "output_type": "execute_result"
    },
    {
     "data": {
      "image/png": "[encoded data removed]",
      "text/plain": [
       "<Figure size 1152x576 with 4 Axes>"
      ]
     },
     "metadata": {
      "needs_background": "light"
     },
     "output_type": "display_data"
    }
   ],
   "source": [
    "fig,axs=plt.subplots(nrows=2,ncols=2,figsize=(16,8))\n",
    "sns.boxplot(data=df_new,x=\"temp_bin\",y=\"count\",color=\"green\",ax=axs[0,0])\n",
    "sns.boxplot(data=df_new,x=\"atemp_bin\",y=\"count\",color=\"yellow\",ax=axs[0,1])\n",
    "sns.boxplot(data=df_new,x='humidity_bin',y=\"count\",color=\"red\",ax=axs[1,0])\n",
    "sns.boxplot(data=df_new,x='windspeed_bin',y=\"count\",color=\"blue\",ax=axs[1,1])"
   ]
  },
  {
   "cell_type": "markdown",
   "id": "cfbd7912",
   "metadata": {},
   "source": [
    "# Which time bike renting more demand"
   ]
  },
  {
   "cell_type": "code",
   "execution_count": 41,
   "id": "eb67a884",
   "metadata": {},
   "outputs": [
    {
     "data": {
      "text/html": [
       "<div>\n",
       "<style scoped>\n",
       "    .dataframe tbody tr th:only-of-type {\n",
       "        vertical-align: middle;\n",
       "    }\n",
       "\n",
       "    .dataframe tbody tr th {\n",
       "        vertical-align: top;\n",
       "    }\n",
       "\n",
       "    .dataframe thead th {\n",
       "        text-align: right;\n",
       "    }\n",
       "</style>\n",
       "<table border=\"1\" class=\"dataframe\">\n",
       "  <thead>\n",
       "    <tr style=\"text-align: right;\">\n",
       "      <th></th>\n",
       "      <th>Time_hour</th>\n",
       "      <th>count</th>\n",
       "    </tr>\n",
       "  </thead>\n",
       "  <tbody>\n",
       "    <tr>\n",
       "      <th>0</th>\n",
       "      <td>00</td>\n",
       "      <td>55.138462</td>\n",
       "    </tr>\n",
       "    <tr>\n",
       "      <th>1</th>\n",
       "      <td>01</td>\n",
       "      <td>33.859031</td>\n",
       "    </tr>\n",
       "    <tr>\n",
       "      <th>2</th>\n",
       "      <td>02</td>\n",
       "      <td>22.899554</td>\n",
       "    </tr>\n",
       "    <tr>\n",
       "      <th>3</th>\n",
       "      <td>03</td>\n",
       "      <td>11.757506</td>\n",
       "    </tr>\n",
       "    <tr>\n",
       "      <th>4</th>\n",
       "      <td>04</td>\n",
       "      <td>6.407240</td>\n",
       "    </tr>\n",
       "    <tr>\n",
       "      <th>5</th>\n",
       "      <td>05</td>\n",
       "      <td>19.767699</td>\n",
       "    </tr>\n",
       "    <tr>\n",
       "      <th>6</th>\n",
       "      <td>06</td>\n",
       "      <td>76.259341</td>\n",
       "    </tr>\n",
       "    <tr>\n",
       "      <th>7</th>\n",
       "      <td>07</td>\n",
       "      <td>213.116484</td>\n",
       "    </tr>\n",
       "    <tr>\n",
       "      <th>8</th>\n",
       "      <td>08</td>\n",
       "      <td>362.769231</td>\n",
       "    </tr>\n",
       "    <tr>\n",
       "      <th>9</th>\n",
       "      <td>09</td>\n",
       "      <td>221.780220</td>\n",
       "    </tr>\n",
       "    <tr>\n",
       "      <th>10</th>\n",
       "      <td>10</td>\n",
       "      <td>175.092308</td>\n",
       "    </tr>\n",
       "    <tr>\n",
       "      <th>11</th>\n",
       "      <td>11</td>\n",
       "      <td>210.674725</td>\n",
       "    </tr>\n",
       "    <tr>\n",
       "      <th>12</th>\n",
       "      <td>12</td>\n",
       "      <td>256.508772</td>\n",
       "    </tr>\n",
       "    <tr>\n",
       "      <th>13</th>\n",
       "      <td>13</td>\n",
       "      <td>257.787281</td>\n",
       "    </tr>\n",
       "    <tr>\n",
       "      <th>14</th>\n",
       "      <td>14</td>\n",
       "      <td>243.442982</td>\n",
       "    </tr>\n",
       "    <tr>\n",
       "      <th>15</th>\n",
       "      <td>15</td>\n",
       "      <td>254.298246</td>\n",
       "    </tr>\n",
       "    <tr>\n",
       "      <th>16</th>\n",
       "      <td>16</td>\n",
       "      <td>316.372807</td>\n",
       "    </tr>\n",
       "    <tr>\n",
       "      <th>17</th>\n",
       "      <td>17</td>\n",
       "      <td>468.765351</td>\n",
       "    </tr>\n",
       "    <tr>\n",
       "      <th>18</th>\n",
       "      <td>18</td>\n",
       "      <td>430.859649</td>\n",
       "    </tr>\n",
       "    <tr>\n",
       "      <th>19</th>\n",
       "      <td>19</td>\n",
       "      <td>315.278509</td>\n",
       "    </tr>\n",
       "    <tr>\n",
       "      <th>20</th>\n",
       "      <td>20</td>\n",
       "      <td>228.517544</td>\n",
       "    </tr>\n",
       "    <tr>\n",
       "      <th>21</th>\n",
       "      <td>21</td>\n",
       "      <td>173.370614</td>\n",
       "    </tr>\n",
       "    <tr>\n",
       "      <th>22</th>\n",
       "      <td>22</td>\n",
       "      <td>133.576754</td>\n",
       "    </tr>\n",
       "    <tr>\n",
       "      <th>23</th>\n",
       "      <td>23</td>\n",
       "      <td>89.508772</td>\n",
       "    </tr>\n",
       "  </tbody>\n",
       "</table>\n",
       "</div>"
      ],
      "text/plain": [
       "   Time_hour       count\n",
       "0         00   55.138462\n",
       "1         01   33.859031\n",
       "2         02   22.899554\n",
       "3         03   11.757506\n",
       "4         04    6.407240\n",
       "5         05   19.767699\n",
       "6         06   76.259341\n",
       "7         07  213.116484\n",
       "8         08  362.769231\n",
       "9         09  221.780220\n",
       "10        10  175.092308\n",
       "11        11  210.674725\n",
       "12        12  256.508772\n",
       "13        13  257.787281\n",
       "14        14  243.442982\n",
       "15        15  254.298246\n",
       "16        16  316.372807\n",
       "17        17  468.765351\n",
       "18        18  430.859649\n",
       "19        19  315.278509\n",
       "20        20  228.517544\n",
       "21        21  173.370614\n",
       "22        22  133.576754\n",
       "23        23   89.508772"
      ]
     },
     "execution_count": 41,
     "metadata": {},
     "output_type": "execute_result"
    },
    {
     "data": {
      "text/plain": [
       "<Figure size 1080x504 with 0 Axes>"
      ]
     },
     "metadata": {},
     "output_type": "display_data"
    }
   ],
   "source": [
    "df_new[\"Time_hour\"]=df_new[\"datetime\"].dt.strftime(\"%H\")\n",
    "plt.figure(figsize=(15,7))\n",
    "df_new.groupby(\"Time_hour\")[\"count\"].mean().reset_index()"
   ]
  },
  {
   "cell_type": "code",
   "execution_count": 42,
   "id": "380c3606",
   "metadata": {},
   "outputs": [
    {
     "data": {
      "text/plain": [
       "<AxesSubplot:xlabel='Time_hour'>"
      ]
     },
     "execution_count": 42,
     "metadata": {},
     "output_type": "execute_result"
    },
    {
     "data": {
      "image/png": "[encoded data removed]",
      "text/plain": [
       "<Figure size 864x576 with 1 Axes>"
      ]
     },
     "metadata": {
      "needs_background": "light"
     },
     "output_type": "display_data"
    }
   ],
   "source": [
    "df_new.groupby(\"Time_hour\")[\"count\"].mean().plot(kind=\"bar\",figsize=(12,8),color=\"brown\")"
   ]
  },
  {
   "cell_type": "markdown",
   "id": "66d1414d",
   "metadata": {},
   "source": [
    "### evening 5'oclock and 6'oclock and morning 8'oclock have most no of users\n"
   ]
  },
  {
   "cell_type": "markdown",
   "id": "76ab6987",
   "metadata": {},
   "source": [
    "# Renting of bikes in each season different times"
   ]
  },
  {
   "cell_type": "code",
   "execution_count": 43,
   "id": "de313906",
   "metadata": {},
   "outputs": [
    {
     "data": {
      "image/png": "[encoded data removed]",
      "text/plain": [
       "<Figure size 864x576 with 1 Axes>"
      ]
     },
     "metadata": {
      "needs_background": "light"
     },
     "output_type": "display_data"
    }
   ],
   "source": [
    "fig, ax = plt.subplots(figsize=(12, 8))\n",
    "sns.pointplot(data=df_new, x='Time_hour', y='count', hue='season',ax=ax)\n",
    "ax.set(title=\"Season wise hourly distribution of counts\")\n",
    "plt.show()"
   ]
  },
  {
   "cell_type": "markdown",
   "id": "29890a04",
   "metadata": {},
   "source": [
    "#### bike usage trends in every hour is same as each season"
   ]
  },
  {
   "cell_type": "markdown",
   "id": "a77d4284",
   "metadata": {},
   "source": [
    "# chi square test to check weather has any impact on the season"
   ]
  },
  {
   "cell_type": "markdown",
   "id": "119e3c2e",
   "metadata": {},
   "source": [
    "- h0-null hypothesis-weather is dependent on season\n",
    "- h1-alternate hypothesis-weather is independent on season"
   ]
  },
  {
   "cell_type": "code",
   "execution_count": 44,
   "id": "fbba31af",
   "metadata": {},
   "outputs": [],
   "source": [
    "import scipy.stats as stats"
   ]
  },
  {
   "cell_type": "code",
   "execution_count": 45,
   "id": "24f9cd59",
   "metadata": {},
   "outputs": [
    {
     "data": {
      "text/html": [
       "<div>\n",
       "<style scoped>\n",
       "    .dataframe tbody tr th:only-of-type {\n",
       "        vertical-align: middle;\n",
       "    }\n",
       "\n",
       "    .dataframe tbody tr th {\n",
       "        vertical-align: top;\n",
       "    }\n",
       "\n",
       "    .dataframe thead th {\n",
       "        text-align: right;\n",
       "    }\n",
       "</style>\n",
       "<table border=\"1\" class=\"dataframe\">\n",
       "  <thead>\n",
       "    <tr style=\"text-align: right;\">\n",
       "      <th>season</th>\n",
       "      <th>1</th>\n",
       "      <th>2</th>\n",
       "      <th>3</th>\n",
       "      <th>4</th>\n",
       "      <th>Total</th>\n",
       "    </tr>\n",
       "    <tr>\n",
       "      <th>weather</th>\n",
       "      <th></th>\n",
       "      <th></th>\n",
       "      <th></th>\n",
       "      <th></th>\n",
       "      <th></th>\n",
       "    </tr>\n",
       "  </thead>\n",
       "  <tbody>\n",
       "    <tr>\n",
       "      <th>1</th>\n",
       "      <td>1759</td>\n",
       "      <td>1801</td>\n",
       "      <td>1930</td>\n",
       "      <td>1702</td>\n",
       "      <td>7192</td>\n",
       "    </tr>\n",
       "    <tr>\n",
       "      <th>2</th>\n",
       "      <td>715</td>\n",
       "      <td>708</td>\n",
       "      <td>604</td>\n",
       "      <td>807</td>\n",
       "      <td>2834</td>\n",
       "    </tr>\n",
       "    <tr>\n",
       "      <th>3</th>\n",
       "      <td>211</td>\n",
       "      <td>224</td>\n",
       "      <td>199</td>\n",
       "      <td>225</td>\n",
       "      <td>859</td>\n",
       "    </tr>\n",
       "    <tr>\n",
       "      <th>4</th>\n",
       "      <td>1</td>\n",
       "      <td>0</td>\n",
       "      <td>0</td>\n",
       "      <td>0</td>\n",
       "      <td>1</td>\n",
       "    </tr>\n",
       "    <tr>\n",
       "      <th>Total</th>\n",
       "      <td>2686</td>\n",
       "      <td>2733</td>\n",
       "      <td>2733</td>\n",
       "      <td>2734</td>\n",
       "      <td>10886</td>\n",
       "    </tr>\n",
       "  </tbody>\n",
       "</table>\n",
       "</div>"
      ],
      "text/plain": [
       "season      1     2     3     4  Total\n",
       "weather                               \n",
       "1        1759  1801  1930  1702   7192\n",
       "2         715   708   604   807   2834\n",
       "3         211   224   199   225    859\n",
       "4           1     0     0     0      1\n",
       "Total    2686  2733  2733  2734  10886"
      ]
     },
     "execution_count": 45,
     "metadata": {},
     "output_type": "execute_result"
    }
   ],
   "source": [
    "df_hypo=pd.crosstab(df.weather,df.season,margins=True,margins_name=\"Total\")\n",
    "df_hypo"
   ]
  },
  {
   "cell_type": "code",
   "execution_count": 46,
   "id": "51b6030e",
   "metadata": {},
   "outputs": [
    {
     "data": {
      "text/html": [
       "<div>\n",
       "<style scoped>\n",
       "    .dataframe tbody tr th:only-of-type {\n",
       "        vertical-align: middle;\n",
       "    }\n",
       "\n",
       "    .dataframe tbody tr th {\n",
       "        vertical-align: top;\n",
       "    }\n",
       "\n",
       "    .dataframe thead th {\n",
       "        text-align: right;\n",
       "    }\n",
       "</style>\n",
       "<table border=\"1\" class=\"dataframe\">\n",
       "  <thead>\n",
       "    <tr style=\"text-align: right;\">\n",
       "      <th></th>\n",
       "      <th>datetime</th>\n",
       "      <th>season</th>\n",
       "      <th>holiday</th>\n",
       "      <th>workingday</th>\n",
       "      <th>weather</th>\n",
       "      <th>temp</th>\n",
       "      <th>atemp</th>\n",
       "      <th>humidity</th>\n",
       "      <th>windspeed</th>\n",
       "      <th>casual</th>\n",
       "      <th>registered</th>\n",
       "      <th>count</th>\n",
       "    </tr>\n",
       "  </thead>\n",
       "  <tbody>\n",
       "    <tr>\n",
       "      <th>0</th>\n",
       "      <td>2011-01-01 00:00:00</td>\n",
       "      <td>1</td>\n",
       "      <td>0</td>\n",
       "      <td>0</td>\n",
       "      <td>1</td>\n",
       "      <td>9.84</td>\n",
       "      <td>14.395</td>\n",
       "      <td>81</td>\n",
       "      <td>0.0000</td>\n",
       "      <td>3</td>\n",
       "      <td>13</td>\n",
       "      <td>16</td>\n",
       "    </tr>\n",
       "    <tr>\n",
       "      <th>1</th>\n",
       "      <td>2011-01-01 01:00:00</td>\n",
       "      <td>1</td>\n",
       "      <td>0</td>\n",
       "      <td>0</td>\n",
       "      <td>1</td>\n",
       "      <td>9.02</td>\n",
       "      <td>13.635</td>\n",
       "      <td>80</td>\n",
       "      <td>0.0000</td>\n",
       "      <td>8</td>\n",
       "      <td>32</td>\n",
       "      <td>40</td>\n",
       "    </tr>\n",
       "    <tr>\n",
       "      <th>2</th>\n",
       "      <td>2011-01-01 02:00:00</td>\n",
       "      <td>1</td>\n",
       "      <td>0</td>\n",
       "      <td>0</td>\n",
       "      <td>1</td>\n",
       "      <td>9.02</td>\n",
       "      <td>13.635</td>\n",
       "      <td>80</td>\n",
       "      <td>0.0000</td>\n",
       "      <td>5</td>\n",
       "      <td>27</td>\n",
       "      <td>32</td>\n",
       "    </tr>\n",
       "    <tr>\n",
       "      <th>3</th>\n",
       "      <td>2011-01-01 03:00:00</td>\n",
       "      <td>1</td>\n",
       "      <td>0</td>\n",
       "      <td>0</td>\n",
       "      <td>1</td>\n",
       "      <td>9.84</td>\n",
       "      <td>14.395</td>\n",
       "      <td>75</td>\n",
       "      <td>0.0000</td>\n",
       "      <td>3</td>\n",
       "      <td>10</td>\n",
       "      <td>13</td>\n",
       "    </tr>\n",
       "    <tr>\n",
       "      <th>4</th>\n",
       "      <td>2011-01-01 04:00:00</td>\n",
       "      <td>1</td>\n",
       "      <td>0</td>\n",
       "      <td>0</td>\n",
       "      <td>1</td>\n",
       "      <td>9.84</td>\n",
       "      <td>14.395</td>\n",
       "      <td>75</td>\n",
       "      <td>0.0000</td>\n",
       "      <td>0</td>\n",
       "      <td>1</td>\n",
       "      <td>1</td>\n",
       "    </tr>\n",
       "    <tr>\n",
       "      <th>...</th>\n",
       "      <td>...</td>\n",
       "      <td>...</td>\n",
       "      <td>...</td>\n",
       "      <td>...</td>\n",
       "      <td>...</td>\n",
       "      <td>...</td>\n",
       "      <td>...</td>\n",
       "      <td>...</td>\n",
       "      <td>...</td>\n",
       "      <td>...</td>\n",
       "      <td>...</td>\n",
       "      <td>...</td>\n",
       "    </tr>\n",
       "    <tr>\n",
       "      <th>10881</th>\n",
       "      <td>2012-12-19 19:00:00</td>\n",
       "      <td>4</td>\n",
       "      <td>0</td>\n",
       "      <td>1</td>\n",
       "      <td>1</td>\n",
       "      <td>15.58</td>\n",
       "      <td>19.695</td>\n",
       "      <td>50</td>\n",
       "      <td>26.0027</td>\n",
       "      <td>7</td>\n",
       "      <td>329</td>\n",
       "      <td>336</td>\n",
       "    </tr>\n",
       "    <tr>\n",
       "      <th>10882</th>\n",
       "      <td>2012-12-19 20:00:00</td>\n",
       "      <td>4</td>\n",
       "      <td>0</td>\n",
       "      <td>1</td>\n",
       "      <td>1</td>\n",
       "      <td>14.76</td>\n",
       "      <td>17.425</td>\n",
       "      <td>57</td>\n",
       "      <td>15.0013</td>\n",
       "      <td>10</td>\n",
       "      <td>231</td>\n",
       "      <td>241</td>\n",
       "    </tr>\n",
       "    <tr>\n",
       "      <th>10883</th>\n",
       "      <td>2012-12-19 21:00:00</td>\n",
       "      <td>4</td>\n",
       "      <td>0</td>\n",
       "      <td>1</td>\n",
       "      <td>1</td>\n",
       "      <td>13.94</td>\n",
       "      <td>15.910</td>\n",
       "      <td>61</td>\n",
       "      <td>15.0013</td>\n",
       "      <td>4</td>\n",
       "      <td>164</td>\n",
       "      <td>168</td>\n",
       "    </tr>\n",
       "    <tr>\n",
       "      <th>10884</th>\n",
       "      <td>2012-12-19 22:00:00</td>\n",
       "      <td>4</td>\n",
       "      <td>0</td>\n",
       "      <td>1</td>\n",
       "      <td>1</td>\n",
       "      <td>13.94</td>\n",
       "      <td>17.425</td>\n",
       "      <td>61</td>\n",
       "      <td>6.0032</td>\n",
       "      <td>12</td>\n",
       "      <td>117</td>\n",
       "      <td>129</td>\n",
       "    </tr>\n",
       "    <tr>\n",
       "      <th>10885</th>\n",
       "      <td>2012-12-19 23:00:00</td>\n",
       "      <td>4</td>\n",
       "      <td>0</td>\n",
       "      <td>1</td>\n",
       "      <td>1</td>\n",
       "      <td>13.12</td>\n",
       "      <td>16.665</td>\n",
       "      <td>66</td>\n",
       "      <td>8.9981</td>\n",
       "      <td>4</td>\n",
       "      <td>84</td>\n",
       "      <td>88</td>\n",
       "    </tr>\n",
       "  </tbody>\n",
       "</table>\n",
       "<p>10885 rows × 12 columns</p>\n",
       "</div>"
      ],
      "text/plain": [
       "                 datetime  season  holiday  workingday  weather   temp  \\\n",
       "0     2011-01-01 00:00:00       1        0           0        1   9.84   \n",
       "1     2011-01-01 01:00:00       1        0           0        1   9.02   \n",
       "2     2011-01-01 02:00:00       1        0           0        1   9.02   \n",
       "3     2011-01-01 03:00:00       1        0           0        1   9.84   \n",
       "4     2011-01-01 04:00:00       1        0           0        1   9.84   \n",
       "...                   ...     ...      ...         ...      ...    ...   \n",
       "10881 2012-12-19 19:00:00       4        0           1        1  15.58   \n",
       "10882 2012-12-19 20:00:00       4        0           1        1  14.76   \n",
       "10883 2012-12-19 21:00:00       4        0           1        1  13.94   \n",
       "10884 2012-12-19 22:00:00       4        0           1        1  13.94   \n",
       "10885 2012-12-19 23:00:00       4        0           1        1  13.12   \n",
       "\n",
       "        atemp  humidity  windspeed  casual  registered  count  \n",
       "0      14.395        81     0.0000       3          13     16  \n",
       "1      13.635        80     0.0000       8          32     40  \n",
       "2      13.635        80     0.0000       5          27     32  \n",
       "3      14.395        75     0.0000       3          10     13  \n",
       "4      14.395        75     0.0000       0           1      1  \n",
       "...       ...       ...        ...     ...         ...    ...  \n",
       "10881  19.695        50    26.0027       7         329    336  \n",
       "10882  17.425        57    15.0013      10         231    241  \n",
       "10883  15.910        61    15.0013       4         164    168  \n",
       "10884  17.425        61     6.0032      12         117    129  \n",
       "10885  16.665        66     8.9981       4          84     88  \n",
       "\n",
       "[10885 rows x 12 columns]"
      ]
     },
     "execution_count": 46,
     "metadata": {},
     "output_type": "execute_result"
    }
   ],
   "source": [
    "# weather 4 has less counts so removing 4\n",
    "df_hyp=df[-(df[\"weather\"]==4)]\n",
    "df_hyp"
   ]
  },
  {
   "cell_type": "code",
   "execution_count": 47,
   "id": "bcbdd064",
   "metadata": {},
   "outputs": [
    {
     "data": {
      "text/html": [
       "<div>\n",
       "<style scoped>\n",
       "    .dataframe tbody tr th:only-of-type {\n",
       "        vertical-align: middle;\n",
       "    }\n",
       "\n",
       "    .dataframe tbody tr th {\n",
       "        vertical-align: top;\n",
       "    }\n",
       "\n",
       "    .dataframe thead th {\n",
       "        text-align: right;\n",
       "    }\n",
       "</style>\n",
       "<table border=\"1\" class=\"dataframe\">\n",
       "  <thead>\n",
       "    <tr style=\"text-align: right;\">\n",
       "      <th>season</th>\n",
       "      <th>1</th>\n",
       "      <th>2</th>\n",
       "      <th>3</th>\n",
       "      <th>4</th>\n",
       "      <th>Total</th>\n",
       "    </tr>\n",
       "    <tr>\n",
       "      <th>weather</th>\n",
       "      <th></th>\n",
       "      <th></th>\n",
       "      <th></th>\n",
       "      <th></th>\n",
       "      <th></th>\n",
       "    </tr>\n",
       "  </thead>\n",
       "  <tbody>\n",
       "    <tr>\n",
       "      <th>1</th>\n",
       "      <td>1759</td>\n",
       "      <td>1801</td>\n",
       "      <td>1930</td>\n",
       "      <td>1702</td>\n",
       "      <td>7192</td>\n",
       "    </tr>\n",
       "    <tr>\n",
       "      <th>2</th>\n",
       "      <td>715</td>\n",
       "      <td>708</td>\n",
       "      <td>604</td>\n",
       "      <td>807</td>\n",
       "      <td>2834</td>\n",
       "    </tr>\n",
       "    <tr>\n",
       "      <th>3</th>\n",
       "      <td>211</td>\n",
       "      <td>224</td>\n",
       "      <td>199</td>\n",
       "      <td>225</td>\n",
       "      <td>859</td>\n",
       "    </tr>\n",
       "    <tr>\n",
       "      <th>Total</th>\n",
       "      <td>2685</td>\n",
       "      <td>2733</td>\n",
       "      <td>2733</td>\n",
       "      <td>2734</td>\n",
       "      <td>10885</td>\n",
       "    </tr>\n",
       "  </tbody>\n",
       "</table>\n",
       "</div>"
      ],
      "text/plain": [
       "season      1     2     3     4  Total\n",
       "weather                               \n",
       "1        1759  1801  1930  1702   7192\n",
       "2         715   708   604   807   2834\n",
       "3         211   224   199   225    859\n",
       "Total    2685  2733  2733  2734  10885"
      ]
     },
     "execution_count": 47,
     "metadata": {},
     "output_type": "execute_result"
    }
   ],
   "source": [
    "df_hypo=pd.crosstab(df_hyp.weather,df_hyp.season,margins=True,margins_name=\"Total\")\n",
    "df_hypo"
   ]
  },
  {
   "cell_type": "code",
   "execution_count": 48,
   "id": "e3aeb91d",
   "metadata": {},
   "outputs": [
    {
     "data": {
      "text/plain": [
       "(46.10145731073249,\n",
       " 6.664576536706683e-06,\n",
       " 12,\n",
       " array([[ 1774.04869086,  1805.76352779,  1805.76352779,  1806.42425356,\n",
       "          7192.        ],\n",
       "        [  699.06201194,   711.55920992,   711.55920992,   711.81956821,\n",
       "          2834.        ],\n",
       "        [  211.8892972 ,   215.67726229,   215.67726229,   215.75617823,\n",
       "           859.        ],\n",
       "        [ 2685.        ,  2733.        ,  2733.        ,  2734.        ,\n",
       "         10885.        ]]))"
      ]
     },
     "execution_count": 48,
     "metadata": {},
     "output_type": "execute_result"
    }
   ],
   "source": [
    "stat,p_value,dof,expected=stats.chi2_contingency(df_hypo)\n",
    "stat,p_value,dof,expected"
   ]
  },
  {
   "cell_type": "code",
   "execution_count": 49,
   "id": "86e97e27",
   "metadata": {},
   "outputs": [
    {
     "name": "stdout",
     "output_type": "stream",
     "text": [
      "reject the null hypothesis: weather is dependent of the season\n"
     ]
    }
   ],
   "source": [
    "alpha=.05\n",
    "if p_value >= alpha:\n",
    "    print(\"accept the null hypothesis: weather is independent of the season\" )\n",
    "else:\n",
    "    print(\"reject the null hypothesis: weather is dependent of the season\")"
   ]
  },
  {
   "cell_type": "markdown",
   "id": "bb8ecd60",
   "metadata": {},
   "source": [
    "# Chi square test to check weather has any impact on the working day"
   ]
  },
  {
   "cell_type": "code",
   "execution_count": 50,
   "id": "abdee599",
   "metadata": {},
   "outputs": [
    {
     "data": {
      "text/html": [
       "<div>\n",
       "<style scoped>\n",
       "    .dataframe tbody tr th:only-of-type {\n",
       "        vertical-align: middle;\n",
       "    }\n",
       "\n",
       "    .dataframe tbody tr th {\n",
       "        vertical-align: top;\n",
       "    }\n",
       "\n",
       "    .dataframe thead th {\n",
       "        text-align: right;\n",
       "    }\n",
       "</style>\n",
       "<table border=\"1\" class=\"dataframe\">\n",
       "  <thead>\n",
       "    <tr style=\"text-align: right;\">\n",
       "      <th>season</th>\n",
       "      <th>1</th>\n",
       "      <th>2</th>\n",
       "      <th>3</th>\n",
       "      <th>4</th>\n",
       "      <th>Total</th>\n",
       "    </tr>\n",
       "    <tr>\n",
       "      <th>workingday</th>\n",
       "      <th></th>\n",
       "      <th></th>\n",
       "      <th></th>\n",
       "      <th></th>\n",
       "      <th></th>\n",
       "    </tr>\n",
       "  </thead>\n",
       "  <tbody>\n",
       "    <tr>\n",
       "      <th>0</th>\n",
       "      <td>858</td>\n",
       "      <td>840</td>\n",
       "      <td>888</td>\n",
       "      <td>888</td>\n",
       "      <td>3474</td>\n",
       "    </tr>\n",
       "    <tr>\n",
       "      <th>1</th>\n",
       "      <td>1828</td>\n",
       "      <td>1893</td>\n",
       "      <td>1845</td>\n",
       "      <td>1846</td>\n",
       "      <td>7412</td>\n",
       "    </tr>\n",
       "    <tr>\n",
       "      <th>Total</th>\n",
       "      <td>2686</td>\n",
       "      <td>2733</td>\n",
       "      <td>2733</td>\n",
       "      <td>2734</td>\n",
       "      <td>10886</td>\n",
       "    </tr>\n",
       "  </tbody>\n",
       "</table>\n",
       "</div>"
      ],
      "text/plain": [
       "season         1     2     3     4  Total\n",
       "workingday                               \n",
       "0            858   840   888   888   3474\n",
       "1           1828  1893  1845  1846   7412\n",
       "Total       2686  2733  2733  2734  10886"
      ]
     },
     "execution_count": 50,
     "metadata": {},
     "output_type": "execute_result"
    }
   ],
   "source": [
    "#H0 = workingday is Independent on season\n",
    "#H1 = workingday is dependent on season\n",
    "df_count_season = pd.crosstab(df.workingday,df.season,margins=True,margins_name='Total')\n",
    "df_count_season"
   ]
  },
  {
   "cell_type": "code",
   "execution_count": 51,
   "id": "65811c7b",
   "metadata": {},
   "outputs": [
    {
     "data": {
      "text/plain": [
       "(2.5708953973429574,\n",
       " 0.9583429307736173,\n",
       " 8,\n",
       " array([[  857.17104538,   872.16994305,   872.16994305,   872.48906853,\n",
       "          3474.        ],\n",
       "        [ 1828.82895462,  1860.83005695,  1860.83005695,  1861.51093147,\n",
       "          7412.        ],\n",
       "        [ 2686.        ,  2733.        ,  2733.        ,  2734.        ,\n",
       "         10886.        ]]))"
      ]
     },
     "execution_count": 51,
     "metadata": {},
     "output_type": "execute_result"
    }
   ],
   "source": [
    "stat, p_value, dof, expected = stats.chi2_contingency(df_count_season)\n",
    "stat, p_value, dof, expected"
   ]
  },
  {
   "cell_type": "code",
   "execution_count": 52,
   "id": "f220357f",
   "metadata": {},
   "outputs": [
    {
     "name": "stdout",
     "output_type": "stream",
     "text": [
      "We Accept the Null Hypothesis : Workingday is Independent on season \n"
     ]
    }
   ],
   "source": [
    "alpha = 0.05\n",
    "if p_value >= alpha:\n",
    "    print('We Accept the Null Hypothesis : Workingday is Independent on season ')\n",
    "else:\n",
    "    print('We reject the Null Hypothesis : Workingday is dependent on season ')"
   ]
  },
  {
   "cell_type": "markdown",
   "id": "bf4b2198",
   "metadata": {},
   "source": [
    "# Anova test to check bike usage has any impact on season"
   ]
  },
  {
   "cell_type": "markdown",
   "id": "70f94f7c",
   "metadata": {},
   "source": [
    "- Null hypothesis H0 - count of bikes is similar across various season\n",
    "- Alternative hypothesis H1 - count of bikes is different across various season"
   ]
  },
  {
   "cell_type": "code",
   "execution_count": 53,
   "id": "ce02c837",
   "metadata": {},
   "outputs": [],
   "source": [
    "#season1=df.loc[df.season==1,\"count\"]\n",
    "season_1=df[df[\"season\"]==1][\"count\"]\n",
    "season_2=df[df[\"season\"]==2][\"count\"]\n",
    "season_3=df[df[\"season\"]==3][\"count\"]\n",
    "season_4=df[df[\"season\"]==4][\"count\"]"
   ]
  },
  {
   "cell_type": "code",
   "execution_count": 54,
   "id": "326b8e12",
   "metadata": {},
   "outputs": [
    {
     "name": "stdout",
     "output_type": "stream",
     "text": [
      "P-value 6.164843386499654e-149\n"
     ]
    }
   ],
   "source": [
    "p_value=stats.f_oneway(season_1,season_2,season_3,season_4)[1]\n",
    "print(\"P-value\",p_value)"
   ]
  },
  {
   "cell_type": "code",
   "execution_count": 55,
   "id": "8534807e",
   "metadata": {},
   "outputs": [
    {
     "name": "stdout",
     "output_type": "stream",
     "text": [
      "reject null hupothesis: count of bikes is different across various season\n"
     ]
    }
   ],
   "source": [
    "alpha=0.05\n",
    "if p_value>alpha:\n",
    "    print(\"accept null hypothesis: count of bikes is similar across various season\")\n",
    "else:\n",
    "    print(\"reject null hupothesis: count of bikes is different across various season\")"
   ]
  },
  {
   "cell_type": "markdown",
   "id": "4b3fc0ca",
   "metadata": {},
   "source": [
    "# Anova test to check bike usage has any impact on weather"
   ]
  },
  {
   "cell_type": "markdown",
   "id": "05e60911",
   "metadata": {},
   "source": [
    "- Null hypothesis H0 :count of bikes is similar across various weather\n",
    "- Alternative hypothesis H1:count of bikes is different across various weather"
   ]
  },
  {
   "cell_type": "code",
   "execution_count": 56,
   "id": "1ebfa7e7",
   "metadata": {},
   "outputs": [],
   "source": [
    "weather_1=df[df['weather']==1][\"count\"]\n",
    "weather_2=df[df[\"weather\"]==2][\"count\"]\n",
    "weather_3=df[df[\"weather\"]==3][\"count\"]\n",
    "weather_4=df[df[\"weather\"]==4][\"count\"]"
   ]
  },
  {
   "cell_type": "code",
   "execution_count": 57,
   "id": "28f1ffb9",
   "metadata": {},
   "outputs": [
    {
     "name": "stdout",
     "output_type": "stream",
     "text": [
      "P-value 5.482069475935669e-42\n"
     ]
    }
   ],
   "source": [
    "p_value=stats.f_oneway(weather_1,weather_2,weather_3,weather_4)[1]\n",
    "print(\"P-value\",p_value)"
   ]
  },
  {
   "cell_type": "code",
   "execution_count": 58,
   "id": "8932c646",
   "metadata": {},
   "outputs": [
    {
     "name": "stdout",
     "output_type": "stream",
     "text": [
      "reject null hupothesis: count of bikes is different across various weather\n"
     ]
    }
   ],
   "source": [
    "alpha=0.05\n",
    "if p_value>alpha:\n",
    "    print(\"accept null hypothesis: count of bikes is similar across various weather\")\n",
    "else:\n",
    "    print(\"reject null hupothesis: count of bikes is different across various weather\")"
   ]
  },
  {
   "cell_type": "markdown",
   "id": "3a75efd7",
   "metadata": {},
   "source": [
    "# Recommendations"
   ]
  },
  {
   "cell_type": "markdown",
   "id": "3d3885b9",
   "metadata": {},
   "source": [
    "- Months like January, February and march sees less amount of booking to increase it we can provide a discount on the booking to attract more customres.\n",
    "- Most demand in evening time (16PM-19PM). so in this time period more number of cycle should be provided.\n",
    "- In summer and fall seasons the company should have more bikes in stock to be rented. Because the demand in these seasons is higher as compared to other seasons.\n",
    "- Working days sees more booking so we can provide an offer during weekends or holidays to bring in more bookings.\n",
    "- In very low humid days, company should have less bikes in the stock to be rented.\n",
    "- Whenever temprature is less than 10 or in very cold days, company should have less bikes.\n",
    "- Whenever the windspeed is greater than 35 or in thunderstorms, company should have less bikes in stock to be rented.\n",
    "- Morning 0- 6AM less amount of users so we can provide offers during that time."
   ]
  },
  {
   "cell_type": "code",
   "execution_count": 59,
   "id": "a9464650",
   "metadata": {},
   "outputs": [
    {
     "name": "stdout",
     "output_type": "stream",
     "text": [
      "Requirement already satisfied: notebook-as-pdf in c:\\users\\raman\\anaconda3\\lib\\site-packages (0.5.0)Note: you may need to restart the kernel to use updated packages.\n",
      "Requirement already satisfied: pyppeteer in c:\\users\\raman\\anaconda3\\lib\\site-packages (from notebook-as-pdf) (1.0.2)\n",
      "Requirement already satisfied: PyPDF2 in c:\\users\\raman\\anaconda3\\lib\\site-packages (from notebook-as-pdf) (2.11.0)\n",
      "Requirement already satisfied: nbconvert in c:\\users\\raman\\anaconda3\\lib\\site-packages (from notebook-as-pdf) (6.1.0)\n",
      "Requirement already satisfied: pandocfilters>=1.4.1 in c:\\users\\raman\\anaconda3\\lib\\site-packages (from nbconvert->notebook-as-pdf) (1.4.3)\n",
      "Requirement already satisfied: bleach in c:\\users\\raman\\anaconda3\\lib\\site-packages (from nbconvert->notebook-as-pdf) (4.0.0)\n",
      "Requirement already satisfied: traitlets>=5.0 in c:\\users\\raman\\anaconda3\\lib\\site-packages (from nbconvert->notebook-as-pdf) (5.1.0)\n",
      "Requirement already satisfied: jupyter-core in c:\\users\\raman\\anaconda3\\lib\\site-packages (from nbconvert->notebook-as-pdf) (4.8.1)\n",
      "Requirement already satisfied: entrypoints>=0.2.2 in c:\\users\\raman\\anaconda3\\lib\\site-packages (from nbconvert->notebook-as-pdf) (0.3)\n",
      "Requirement already satisfied: pygments>=2.4.1 in c:\\users\\raman\\anaconda3\\lib\\site-packages (from nbconvert->notebook-as-pdf) (2.10.0)\n",
      "Requirement already satisfied: mistune<2,>=0.8.1 in c:\\users\\raman\\anaconda3\\lib\\site-packages (from nbconvert->notebook-as-pdf) (0.8.4)\n",
      "Requirement already satisfied: nbclient<0.6.0,>=0.5.0 in c:\\users\\raman\\anaconda3\\lib\\site-packages (from nbconvert->notebook-as-pdf) (0.5.3)\n",
      "Requirement already satisfied: testpath in c:\\users\\raman\\anaconda3\\lib\\site-packages (from nbconvert->notebook-as-pdf) (0.5.0)\n",
      "Requirement already satisfied: jinja2>=2.4 in c:\\users\\raman\\anaconda3\\lib\\site-packages (from nbconvert->notebook-as-pdf) (2.11.3)\n",
      "Requirement already satisfied: nbformat>=4.4 in c:\\users\\raman\\anaconda3\\lib\\site-packages (from nbconvert->notebook-as-pdf) (5.1.3)\n",
      "Requirement already satisfied: defusedxml in c:\\users\\raman\\anaconda3\\lib\\site-packages (from nbconvert->notebook-as-pdf) (0.7.1)\n",
      "Requirement already satisfied: jupyterlab-pygments in c:\\users\\raman\\anaconda3\\lib\\site-packages (from nbconvert->notebook-as-pdf) (0.1.2)\n",
      "Requirement already satisfied: MarkupSafe>=0.23 in c:\\users\\raman\\anaconda3\\lib\\site-packages (from jinja2>=2.4->nbconvert->notebook-as-pdf) (1.1.1)\n",
      "Requirement already satisfied: nest-asyncio in c:\\users\\raman\\anaconda3\\lib\\site-packages (from nbclient<0.6.0,>=0.5.0->nbconvert->notebook-as-pdf) (1.5.1)\n",
      "Requirement already satisfied: async-generator in c:\\users\\raman\\anaconda3\\lib\\site-packages (from nbclient<0.6.0,>=0.5.0->nbconvert->notebook-as-pdf) (1.10)\n",
      "Requirement already satisfied: jupyter-client>=6.1.5 in c:\\users\\raman\\anaconda3\\lib\\site-packages (from nbclient<0.6.0,>=0.5.0->nbconvert->notebook-as-pdf) (6.1.12)\n",
      "Requirement already satisfied: tornado>=4.1 in c:\\users\\raman\\anaconda3\\lib\\site-packages (from jupyter-client>=6.1.5->nbclient<0.6.0,>=0.5.0->nbconvert->notebook-as-pdf) (6.1)\n",
      "Requirement already satisfied: python-dateutil>=2.1 in c:\\users\\raman\\anaconda3\\lib\\site-packages (from jupyter-client>=6.1.5->nbclient<0.6.0,>=0.5.0->nbconvert->notebook-as-pdf) (2.8.2)\n",
      "Requirement already satisfied: pyzmq>=13 in c:\\users\\raman\\anaconda3\\lib\\site-packages (from jupyter-client>=6.1.5->nbclient<0.6.0,>=0.5.0->nbconvert->notebook-as-pdf) (22.2.1)\n",
      "Requirement already satisfied: pywin32>=1.0 in c:\\users\\raman\\anaconda3\\lib\\site-packages (from jupyter-core->nbconvert->notebook-as-pdf) (228)\n",
      "Requirement already satisfied: ipython-genutils in c:\\users\\raman\\anaconda3\\lib\\site-packages (from nbformat>=4.4->nbconvert->notebook-as-pdf) (0.2.0)\n",
      "Requirement already satisfied: jsonschema!=2.5.0,>=2.4 in c:\\users\\raman\\anaconda3\\lib\\site-packages (from nbformat>=4.4->nbconvert->notebook-as-pdf) (3.2.0)\n",
      "Requirement already satisfied: six>=1.11.0 in c:\\users\\raman\\anaconda3\\lib\\site-packages (from jsonschema!=2.5.0,>=2.4->nbformat>=4.4->nbconvert->notebook-as-pdf) (1.16.0)\n",
      "Requirement already satisfied: pyrsistent>=0.14.0 in c:\\users\\raman\\anaconda3\\lib\\site-packages (from jsonschema!=2.5.0,>=2.4->nbformat>=4.4->nbconvert->notebook-as-pdf) (0.18.0)\n",
      "Requirement already satisfied: setuptools in c:\\users\\raman\\anaconda3\\lib\\site-packages (from jsonschema!=2.5.0,>=2.4->nbformat>=4.4->nbconvert->notebook-as-pdf) (58.0.4)\n",
      "Requirement already satisfied: attrs>=17.4.0 in c:\\users\\raman\\anaconda3\\lib\\site-packages (from jsonschema!=2.5.0,>=2.4->nbformat>=4.4->nbconvert->notebook-as-pdf) (21.2.0)\n",
      "Requirement already satisfied: webencodings in c:\\users\\raman\\anaconda3\\lib\\site-packages (from bleach->nbconvert->notebook-as-pdf) (0.5.1)\n",
      "Requirement already satisfied: packaging in c:\\users\\raman\\anaconda3\\lib\\site-packages (from bleach->nbconvert->notebook-as-pdf) (21.0)\n",
      "Requirement already satisfied: pyparsing>=2.0.2 in c:\\users\\raman\\anaconda3\\lib\\site-packages (from packaging->bleach->nbconvert->notebook-as-pdf) (3.0.4)\n",
      "Requirement already satisfied: typing-extensions>=3.10.0.0 in c:\\users\\raman\\anaconda3\\lib\\site-packages (from PyPDF2->notebook-as-pdf) (3.10.0.2)\n",
      "Requirement already satisfied: websockets<11.0,>=10.0 in c:\\users\\raman\\anaconda3\\lib\\site-packages (from pyppeteer->notebook-as-pdf) (10.3)\n",
      "Requirement already satisfied: importlib-metadata>=1.4 in c:\\users\\raman\\anaconda3\\lib\\site-packages (from pyppeteer->notebook-as-pdf) (4.8.1)\n",
      "Requirement already satisfied: pyee<9.0.0,>=8.1.0 in c:\\users\\raman\\anaconda3\\lib\\site-packages (from pyppeteer->notebook-as-pdf) (8.2.2)\n",
      "\n",
      "Requirement already satisfied: tqdm<5.0.0,>=4.42.1 in c:\\users\\raman\\anaconda3\\lib\\site-packages (from pyppeteer->notebook-as-pdf) (4.62.3)\n",
      "Requirement already satisfied: appdirs<2.0.0,>=1.4.3 in c:\\users\\raman\\anaconda3\\lib\\site-packages (from pyppeteer->notebook-as-pdf) (1.4.4)\n",
      "Requirement already satisfied: certifi>=2021 in c:\\users\\raman\\anaconda3\\lib\\site-packages (from pyppeteer->notebook-as-pdf) (2021.10.8)\n",
      "Requirement already satisfied: urllib3<2.0.0,>=1.25.8 in c:\\users\\raman\\anaconda3\\lib\\site-packages (from pyppeteer->notebook-as-pdf) (1.26.7)\n",
      "Requirement already satisfied: zipp>=0.5 in c:\\users\\raman\\anaconda3\\lib\\site-packages (from importlib-metadata>=1.4->pyppeteer->notebook-as-pdf) (3.6.0)\n",
      "Requirement already satisfied: colorama in c:\\users\\raman\\anaconda3\\lib\\site-packages (from tqdm<5.0.0,>=4.42.1->pyppeteer->notebook-as-pdf) (0.4.4)\n"
     ]
    }
   ],
   "source": [
    "pip install -U notebook-as-pdf"
   ]
  },
  {
   "cell_type": "code",
   "execution_count": null,
   "id": "73aac409",
   "metadata": {},
   "outputs": [],
   "source": []
  }
 ],
 "metadata": {
  "kernelspec": {
   "display_name": "Python 3 (ipykernel)",
   "language": "python",
   "name": "python3"
  },
  "language_info": {
   "codemirror_mode": {
    "name": "ipython",
    "version": 3
   },
   "file_extension": ".py",
   "mimetype": "text/x-python",
   "name": "python",
   "nbconvert_exporter": "python",
   "pygments_lexer": "ipython3",
   "version": "3.9.7"
  }
 },
 "nbformat": 4,
 "nbformat_minor": 5
}
